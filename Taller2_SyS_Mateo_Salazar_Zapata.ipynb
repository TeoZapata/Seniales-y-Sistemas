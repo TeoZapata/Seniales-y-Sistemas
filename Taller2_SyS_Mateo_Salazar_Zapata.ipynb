{
  "nbformat": 4,
  "nbformat_minor": 0,
  "metadata": {
    "colab": {
      "name": "Taller2_SyS_Mateo_Salazar_Zapata.ipynb",
      "provenance": [],
      "collapsed_sections": [
        "nV2YfxnN_ieD",
        "Chz5YvNC_1oD"
      ]
    },
    "kernelspec": {
      "name": "python3",
      "display_name": "Python 3"
    },
    "widgets": {
      "application/vnd.jupyter.widget-state+json": {
        "f38bb428e60645289323acf19f2156c2": {
          "model_module": "@jupyter-widgets/controls",
          "model_name": "VBoxModel",
          "state": {
            "_view_name": "VBoxView",
            "_dom_classes": [
              "widget-interact"
            ],
            "_model_name": "VBoxModel",
            "_view_module": "@jupyter-widgets/controls",
            "_model_module_version": "1.5.0",
            "_view_count": null,
            "_view_module_version": "1.5.0",
            "box_style": "",
            "layout": "IPY_MODEL_0cfe508a79ea4d029f9755a9f89e8c8b",
            "_model_module": "@jupyter-widgets/controls",
            "children": [
              "IPY_MODEL_0af63dcf14174a67b02d90f086803d97",
              "IPY_MODEL_f79b038539944cc8adcf4cc0a9e35476"
            ]
          }
        },
        "0cfe508a79ea4d029f9755a9f89e8c8b": {
          "model_module": "@jupyter-widgets/base",
          "model_name": "LayoutModel",
          "state": {
            "_view_name": "LayoutView",
            "grid_template_rows": null,
            "right": null,
            "justify_content": null,
            "_view_module": "@jupyter-widgets/base",
            "overflow": null,
            "_model_module_version": "1.2.0",
            "_view_count": null,
            "flex_flow": null,
            "width": null,
            "min_width": null,
            "border": null,
            "align_items": null,
            "bottom": null,
            "_model_module": "@jupyter-widgets/base",
            "top": null,
            "grid_column": null,
            "overflow_y": null,
            "overflow_x": null,
            "grid_auto_flow": null,
            "grid_area": null,
            "grid_template_columns": null,
            "flex": null,
            "_model_name": "LayoutModel",
            "justify_items": null,
            "grid_row": null,
            "max_height": null,
            "align_content": null,
            "visibility": null,
            "align_self": null,
            "height": null,
            "min_height": null,
            "padding": null,
            "grid_auto_rows": null,
            "grid_gap": null,
            "max_width": null,
            "order": null,
            "_view_module_version": "1.2.0",
            "grid_template_areas": null,
            "object_position": null,
            "object_fit": null,
            "grid_auto_columns": null,
            "margin": null,
            "display": null,
            "left": null
          }
        },
        "0af63dcf14174a67b02d90f086803d97": {
          "model_module": "@jupyter-widgets/controls",
          "model_name": "IntSliderModel",
          "state": {
            "_view_name": "IntSliderView",
            "style": "IPY_MODEL_876ef54d0c494c1baae1952ea904d795",
            "_dom_classes": [],
            "description": "Na",
            "step": 1,
            "_model_name": "IntSliderModel",
            "orientation": "horizontal",
            "max": 20,
            "_view_module": "@jupyter-widgets/controls",
            "_model_module_version": "1.5.0",
            "value": 8,
            "_view_count": null,
            "disabled": false,
            "_view_module_version": "1.5.0",
            "min": 1,
            "continuous_update": true,
            "readout_format": "d",
            "description_tooltip": null,
            "readout": true,
            "_model_module": "@jupyter-widgets/controls",
            "layout": "IPY_MODEL_09092cbabcc94a1d857fb223b3363b43"
          }
        },
        "f79b038539944cc8adcf4cc0a9e35476": {
          "model_module": "@jupyter-widgets/output",
          "model_name": "OutputModel",
          "state": {
            "_view_name": "OutputView",
            "msg_id": "",
            "_dom_classes": [],
            "_model_name": "OutputModel",
            "outputs": [
              {
                "output_type": "display_data",
                "metadata": {
                  "tags": [],
                  "needs_background": "light"
                },
                "image/png": "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\n",
                "text/plain": "<Figure size 432x288 with 1 Axes>"
              }
            ],
            "_view_module": "@jupyter-widgets/output",
            "_model_module_version": "1.0.0",
            "_view_count": null,
            "_view_module_version": "1.0.0",
            "layout": "IPY_MODEL_8cba870fec2745b683a2d3cf82508d3f",
            "_model_module": "@jupyter-widgets/output"
          }
        },
        "876ef54d0c494c1baae1952ea904d795": {
          "model_module": "@jupyter-widgets/controls",
          "model_name": "SliderStyleModel",
          "state": {
            "_view_name": "StyleView",
            "handle_color": null,
            "_model_name": "SliderStyleModel",
            "description_width": "",
            "_view_module": "@jupyter-widgets/base",
            "_model_module_version": "1.5.0",
            "_view_count": null,
            "_view_module_version": "1.2.0",
            "_model_module": "@jupyter-widgets/controls"
          }
        },
        "09092cbabcc94a1d857fb223b3363b43": {
          "model_module": "@jupyter-widgets/base",
          "model_name": "LayoutModel",
          "state": {
            "_view_name": "LayoutView",
            "grid_template_rows": null,
            "right": null,
            "justify_content": null,
            "_view_module": "@jupyter-widgets/base",
            "overflow": null,
            "_model_module_version": "1.2.0",
            "_view_count": null,
            "flex_flow": null,
            "width": null,
            "min_width": null,
            "border": null,
            "align_items": null,
            "bottom": null,
            "_model_module": "@jupyter-widgets/base",
            "top": null,
            "grid_column": null,
            "overflow_y": null,
            "overflow_x": null,
            "grid_auto_flow": null,
            "grid_area": null,
            "grid_template_columns": null,
            "flex": null,
            "_model_name": "LayoutModel",
            "justify_items": null,
            "grid_row": null,
            "max_height": null,
            "align_content": null,
            "visibility": null,
            "align_self": null,
            "height": null,
            "min_height": null,
            "padding": null,
            "grid_auto_rows": null,
            "grid_gap": null,
            "max_width": null,
            "order": null,
            "_view_module_version": "1.2.0",
            "grid_template_areas": null,
            "object_position": null,
            "object_fit": null,
            "grid_auto_columns": null,
            "margin": null,
            "display": null,
            "left": null
          }
        },
        "8cba870fec2745b683a2d3cf82508d3f": {
          "model_module": "@jupyter-widgets/base",
          "model_name": "LayoutModel",
          "state": {
            "_view_name": "LayoutView",
            "grid_template_rows": null,
            "right": null,
            "justify_content": null,
            "_view_module": "@jupyter-widgets/base",
            "overflow": null,
            "_model_module_version": "1.2.0",
            "_view_count": null,
            "flex_flow": null,
            "width": null,
            "min_width": null,
            "border": null,
            "align_items": null,
            "bottom": null,
            "_model_module": "@jupyter-widgets/base",
            "top": null,
            "grid_column": null,
            "overflow_y": null,
            "overflow_x": null,
            "grid_auto_flow": null,
            "grid_area": null,
            "grid_template_columns": null,
            "flex": null,
            "_model_name": "LayoutModel",
            "justify_items": null,
            "grid_row": null,
            "max_height": null,
            "align_content": null,
            "visibility": null,
            "align_self": null,
            "height": null,
            "min_height": null,
            "padding": null,
            "grid_auto_rows": null,
            "grid_gap": null,
            "max_width": null,
            "order": null,
            "_view_module_version": "1.2.0",
            "grid_template_areas": null,
            "object_position": null,
            "object_fit": null,
            "grid_auto_columns": null,
            "margin": null,
            "display": null,
            "left": null
          }
        },
        "062f35db83cc4916bc6fe5e946b7b686": {
          "model_module": "@jupyter-widgets/controls",
          "model_name": "VBoxModel",
          "state": {
            "_view_name": "VBoxView",
            "_dom_classes": [
              "widget-interact"
            ],
            "_model_name": "VBoxModel",
            "_view_module": "@jupyter-widgets/controls",
            "_model_module_version": "1.5.0",
            "_view_count": null,
            "_view_module_version": "1.5.0",
            "box_style": "",
            "layout": "IPY_MODEL_00eef988bbf54ec1b0ae1184bf831510",
            "_model_module": "@jupyter-widgets/controls",
            "children": [
              "IPY_MODEL_06b76f6c1ebb4427aec1bec447a0ffca",
              "IPY_MODEL_6804a86bba1e4970aecd4aecf94a1d03"
            ]
          }
        },
        "00eef988bbf54ec1b0ae1184bf831510": {
          "model_module": "@jupyter-widgets/base",
          "model_name": "LayoutModel",
          "state": {
            "_view_name": "LayoutView",
            "grid_template_rows": null,
            "right": null,
            "justify_content": null,
            "_view_module": "@jupyter-widgets/base",
            "overflow": null,
            "_model_module_version": "1.2.0",
            "_view_count": null,
            "flex_flow": null,
            "width": null,
            "min_width": null,
            "border": null,
            "align_items": null,
            "bottom": null,
            "_model_module": "@jupyter-widgets/base",
            "top": null,
            "grid_column": null,
            "overflow_y": null,
            "overflow_x": null,
            "grid_auto_flow": null,
            "grid_area": null,
            "grid_template_columns": null,
            "flex": null,
            "_model_name": "LayoutModel",
            "justify_items": null,
            "grid_row": null,
            "max_height": null,
            "align_content": null,
            "visibility": null,
            "align_self": null,
            "height": null,
            "min_height": null,
            "padding": null,
            "grid_auto_rows": null,
            "grid_gap": null,
            "max_width": null,
            "order": null,
            "_view_module_version": "1.2.0",
            "grid_template_areas": null,
            "object_position": null,
            "object_fit": null,
            "grid_auto_columns": null,
            "margin": null,
            "display": null,
            "left": null
          }
        },
        "06b76f6c1ebb4427aec1bec447a0ffca": {
          "model_module": "@jupyter-widgets/controls",
          "model_name": "IntSliderModel",
          "state": {
            "_view_name": "IntSliderView",
            "style": "IPY_MODEL_ccd3853ba0284cbd9ff3c7894500e3c5",
            "_dom_classes": [],
            "description": "n",
            "step": 1,
            "_model_name": "IntSliderModel",
            "orientation": "horizontal",
            "max": 20,
            "_view_module": "@jupyter-widgets/controls",
            "_model_module_version": "1.5.0",
            "value": 10,
            "_view_count": null,
            "disabled": false,
            "_view_module_version": "1.5.0",
            "min": -20,
            "continuous_update": true,
            "readout_format": "d",
            "description_tooltip": null,
            "readout": true,
            "_model_module": "@jupyter-widgets/controls",
            "layout": "IPY_MODEL_758fcef0591940dbba5f81d7aa8b26a9"
          }
        },
        "6804a86bba1e4970aecd4aecf94a1d03": {
          "model_module": "@jupyter-widgets/output",
          "model_name": "OutputModel",
          "state": {
            "_view_name": "OutputView",
            "msg_id": "",
            "_dom_classes": [],
            "_model_name": "OutputModel",
            "outputs": [
              {
                "output_type": "display_data",
                "metadata": {
                  "tags": [],
                  "needs_background": "light"
                },
                "image/png": "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\n",
                "text/plain": "<Figure size 432x288 with 1 Axes>"
              }
            ],
            "_view_module": "@jupyter-widgets/output",
            "_model_module_version": "1.0.0",
            "_view_count": null,
            "_view_module_version": "1.0.0",
            "layout": "IPY_MODEL_4c8ad74240db432e8c3a64acce063076",
            "_model_module": "@jupyter-widgets/output"
          }
        },
        "ccd3853ba0284cbd9ff3c7894500e3c5": {
          "model_module": "@jupyter-widgets/controls",
          "model_name": "SliderStyleModel",
          "state": {
            "_view_name": "StyleView",
            "handle_color": null,
            "_model_name": "SliderStyleModel",
            "description_width": "",
            "_view_module": "@jupyter-widgets/base",
            "_model_module_version": "1.5.0",
            "_view_count": null,
            "_view_module_version": "1.2.0",
            "_model_module": "@jupyter-widgets/controls"
          }
        },
        "758fcef0591940dbba5f81d7aa8b26a9": {
          "model_module": "@jupyter-widgets/base",
          "model_name": "LayoutModel",
          "state": {
            "_view_name": "LayoutView",
            "grid_template_rows": null,
            "right": null,
            "justify_content": null,
            "_view_module": "@jupyter-widgets/base",
            "overflow": null,
            "_model_module_version": "1.2.0",
            "_view_count": null,
            "flex_flow": null,
            "width": null,
            "min_width": null,
            "border": null,
            "align_items": null,
            "bottom": null,
            "_model_module": "@jupyter-widgets/base",
            "top": null,
            "grid_column": null,
            "overflow_y": null,
            "overflow_x": null,
            "grid_auto_flow": null,
            "grid_area": null,
            "grid_template_columns": null,
            "flex": null,
            "_model_name": "LayoutModel",
            "justify_items": null,
            "grid_row": null,
            "max_height": null,
            "align_content": null,
            "visibility": null,
            "align_self": null,
            "height": null,
            "min_height": null,
            "padding": null,
            "grid_auto_rows": null,
            "grid_gap": null,
            "max_width": null,
            "order": null,
            "_view_module_version": "1.2.0",
            "grid_template_areas": null,
            "object_position": null,
            "object_fit": null,
            "grid_auto_columns": null,
            "margin": null,
            "display": null,
            "left": null
          }
        },
        "4c8ad74240db432e8c3a64acce063076": {
          "model_module": "@jupyter-widgets/base",
          "model_name": "LayoutModel",
          "state": {
            "_view_name": "LayoutView",
            "grid_template_rows": null,
            "right": null,
            "justify_content": null,
            "_view_module": "@jupyter-widgets/base",
            "overflow": null,
            "_model_module_version": "1.2.0",
            "_view_count": null,
            "flex_flow": null,
            "width": null,
            "min_width": null,
            "border": null,
            "align_items": null,
            "bottom": null,
            "_model_module": "@jupyter-widgets/base",
            "top": null,
            "grid_column": null,
            "overflow_y": null,
            "overflow_x": null,
            "grid_auto_flow": null,
            "grid_area": null,
            "grid_template_columns": null,
            "flex": null,
            "_model_name": "LayoutModel",
            "justify_items": null,
            "grid_row": null,
            "max_height": null,
            "align_content": null,
            "visibility": null,
            "align_self": null,
            "height": null,
            "min_height": null,
            "padding": null,
            "grid_auto_rows": null,
            "grid_gap": null,
            "max_width": null,
            "order": null,
            "_view_module_version": "1.2.0",
            "grid_template_areas": null,
            "object_position": null,
            "object_fit": null,
            "grid_auto_columns": null,
            "margin": null,
            "display": null,
            "left": null
          }
        },
        "7b2b20e1f2de4a509d535965103a8b39": {
          "model_module": "@jupyter-widgets/controls",
          "model_name": "VBoxModel",
          "state": {
            "_view_name": "VBoxView",
            "_dom_classes": [
              "widget-interact"
            ],
            "_model_name": "VBoxModel",
            "_view_module": "@jupyter-widgets/controls",
            "_model_module_version": "1.5.0",
            "_view_count": null,
            "_view_module_version": "1.5.0",
            "box_style": "",
            "layout": "IPY_MODEL_e3ce0c9d00744da1beb41c9e32b0c12d",
            "_model_module": "@jupyter-widgets/controls",
            "children": [
              "IPY_MODEL_81d62e3143d84deebbfdd8aae5de13b9",
              "IPY_MODEL_614b35444f234e61927ac309fbeaae1f"
            ]
          }
        },
        "e3ce0c9d00744da1beb41c9e32b0c12d": {
          "model_module": "@jupyter-widgets/base",
          "model_name": "LayoutModel",
          "state": {
            "_view_name": "LayoutView",
            "grid_template_rows": null,
            "right": null,
            "justify_content": null,
            "_view_module": "@jupyter-widgets/base",
            "overflow": null,
            "_model_module_version": "1.2.0",
            "_view_count": null,
            "flex_flow": null,
            "width": null,
            "min_width": null,
            "border": null,
            "align_items": null,
            "bottom": null,
            "_model_module": "@jupyter-widgets/base",
            "top": null,
            "grid_column": null,
            "overflow_y": null,
            "overflow_x": null,
            "grid_auto_flow": null,
            "grid_area": null,
            "grid_template_columns": null,
            "flex": null,
            "_model_name": "LayoutModel",
            "justify_items": null,
            "grid_row": null,
            "max_height": null,
            "align_content": null,
            "visibility": null,
            "align_self": null,
            "height": null,
            "min_height": null,
            "padding": null,
            "grid_auto_rows": null,
            "grid_gap": null,
            "max_width": null,
            "order": null,
            "_view_module_version": "1.2.0",
            "grid_template_areas": null,
            "object_position": null,
            "object_fit": null,
            "grid_auto_columns": null,
            "margin": null,
            "display": null,
            "left": null
          }
        },
        "81d62e3143d84deebbfdd8aae5de13b9": {
          "model_module": "@jupyter-widgets/controls",
          "model_name": "IntSliderModel",
          "state": {
            "_view_name": "IntSliderView",
            "style": "IPY_MODEL_81de0c92c98b455a95ef993d2879841b",
            "_dom_classes": [],
            "description": "Na",
            "step": 1,
            "_model_name": "IntSliderModel",
            "orientation": "horizontal",
            "max": 20,
            "_view_module": "@jupyter-widgets/controls",
            "_model_module_version": "1.5.0",
            "value": 19,
            "_view_count": null,
            "disabled": false,
            "_view_module_version": "1.5.0",
            "min": 1,
            "continuous_update": true,
            "readout_format": "d",
            "description_tooltip": null,
            "readout": true,
            "_model_module": "@jupyter-widgets/controls",
            "layout": "IPY_MODEL_27445a4c58594cb2bb97801869ca71c6"
          }
        },
        "614b35444f234e61927ac309fbeaae1f": {
          "model_module": "@jupyter-widgets/output",
          "model_name": "OutputModel",
          "state": {
            "_view_name": "OutputView",
            "msg_id": "",
            "_dom_classes": [],
            "_model_name": "OutputModel",
            "outputs": [
              {
                "output_type": "display_data",
                "metadata": {
                  "tags": [],
                  "needs_background": "light"
                },
                "image/png": "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\n",
                "text/plain": "<Figure size 432x288 with 1 Axes>"
              }
            ],
            "_view_module": "@jupyter-widgets/output",
            "_model_module_version": "1.0.0",
            "_view_count": null,
            "_view_module_version": "1.0.0",
            "layout": "IPY_MODEL_f95a453772eb485195db28c81bc0f084",
            "_model_module": "@jupyter-widgets/output"
          }
        },
        "81de0c92c98b455a95ef993d2879841b": {
          "model_module": "@jupyter-widgets/controls",
          "model_name": "SliderStyleModel",
          "state": {
            "_view_name": "StyleView",
            "handle_color": null,
            "_model_name": "SliderStyleModel",
            "description_width": "",
            "_view_module": "@jupyter-widgets/base",
            "_model_module_version": "1.5.0",
            "_view_count": null,
            "_view_module_version": "1.2.0",
            "_model_module": "@jupyter-widgets/controls"
          }
        },
        "27445a4c58594cb2bb97801869ca71c6": {
          "model_module": "@jupyter-widgets/base",
          "model_name": "LayoutModel",
          "state": {
            "_view_name": "LayoutView",
            "grid_template_rows": null,
            "right": null,
            "justify_content": null,
            "_view_module": "@jupyter-widgets/base",
            "overflow": null,
            "_model_module_version": "1.2.0",
            "_view_count": null,
            "flex_flow": null,
            "width": null,
            "min_width": null,
            "border": null,
            "align_items": null,
            "bottom": null,
            "_model_module": "@jupyter-widgets/base",
            "top": null,
            "grid_column": null,
            "overflow_y": null,
            "overflow_x": null,
            "grid_auto_flow": null,
            "grid_area": null,
            "grid_template_columns": null,
            "flex": null,
            "_model_name": "LayoutModel",
            "justify_items": null,
            "grid_row": null,
            "max_height": null,
            "align_content": null,
            "visibility": null,
            "align_self": null,
            "height": null,
            "min_height": null,
            "padding": null,
            "grid_auto_rows": null,
            "grid_gap": null,
            "max_width": null,
            "order": null,
            "_view_module_version": "1.2.0",
            "grid_template_areas": null,
            "object_position": null,
            "object_fit": null,
            "grid_auto_columns": null,
            "margin": null,
            "display": null,
            "left": null
          }
        },
        "f95a453772eb485195db28c81bc0f084": {
          "model_module": "@jupyter-widgets/base",
          "model_name": "LayoutModel",
          "state": {
            "_view_name": "LayoutView",
            "grid_template_rows": null,
            "right": null,
            "justify_content": null,
            "_view_module": "@jupyter-widgets/base",
            "overflow": null,
            "_model_module_version": "1.2.0",
            "_view_count": null,
            "flex_flow": null,
            "width": null,
            "min_width": null,
            "border": null,
            "align_items": null,
            "bottom": null,
            "_model_module": "@jupyter-widgets/base",
            "top": null,
            "grid_column": null,
            "overflow_y": null,
            "overflow_x": null,
            "grid_auto_flow": null,
            "grid_area": null,
            "grid_template_columns": null,
            "flex": null,
            "_model_name": "LayoutModel",
            "justify_items": null,
            "grid_row": null,
            "max_height": null,
            "align_content": null,
            "visibility": null,
            "align_self": null,
            "height": null,
            "min_height": null,
            "padding": null,
            "grid_auto_rows": null,
            "grid_gap": null,
            "max_width": null,
            "order": null,
            "_view_module_version": "1.2.0",
            "grid_template_areas": null,
            "object_position": null,
            "object_fit": null,
            "grid_auto_columns": null,
            "margin": null,
            "display": null,
            "left": null
          }
        },
        "a29120485f4c41fd9a4fbf7f98c32eb7": {
          "model_module": "@jupyter-widgets/controls",
          "model_name": "VBoxModel",
          "state": {
            "_view_name": "VBoxView",
            "_dom_classes": [
              "widget-interact"
            ],
            "_model_name": "VBoxModel",
            "_view_module": "@jupyter-widgets/controls",
            "_model_module_version": "1.5.0",
            "_view_count": null,
            "_view_module_version": "1.5.0",
            "box_style": "",
            "layout": "IPY_MODEL_ce21f1dddd0147b5a145808233a01c7e",
            "_model_module": "@jupyter-widgets/controls",
            "children": [
              "IPY_MODEL_a20d7f7e7ad749d9ad082dc1b53a9ced",
              "IPY_MODEL_36f2018a923543e5870fdeb45f614e0d"
            ]
          }
        },
        "ce21f1dddd0147b5a145808233a01c7e": {
          "model_module": "@jupyter-widgets/base",
          "model_name": "LayoutModel",
          "state": {
            "_view_name": "LayoutView",
            "grid_template_rows": null,
            "right": null,
            "justify_content": null,
            "_view_module": "@jupyter-widgets/base",
            "overflow": null,
            "_model_module_version": "1.2.0",
            "_view_count": null,
            "flex_flow": null,
            "width": null,
            "min_width": null,
            "border": null,
            "align_items": null,
            "bottom": null,
            "_model_module": "@jupyter-widgets/base",
            "top": null,
            "grid_column": null,
            "overflow_y": null,
            "overflow_x": null,
            "grid_auto_flow": null,
            "grid_area": null,
            "grid_template_columns": null,
            "flex": null,
            "_model_name": "LayoutModel",
            "justify_items": null,
            "grid_row": null,
            "max_height": null,
            "align_content": null,
            "visibility": null,
            "align_self": null,
            "height": null,
            "min_height": null,
            "padding": null,
            "grid_auto_rows": null,
            "grid_gap": null,
            "max_width": null,
            "order": null,
            "_view_module_version": "1.2.0",
            "grid_template_areas": null,
            "object_position": null,
            "object_fit": null,
            "grid_auto_columns": null,
            "margin": null,
            "display": null,
            "left": null
          }
        },
        "a20d7f7e7ad749d9ad082dc1b53a9ced": {
          "model_module": "@jupyter-widgets/controls",
          "model_name": "IntSliderModel",
          "state": {
            "_view_name": "IntSliderView",
            "style": "IPY_MODEL_9b380c54e9f143e3bf3d0c4729dc281e",
            "_dom_classes": [],
            "description": "n",
            "step": 1,
            "_model_name": "IntSliderModel",
            "orientation": "horizontal",
            "max": 20,
            "_view_module": "@jupyter-widgets/controls",
            "_model_module_version": "1.5.0",
            "value": 1,
            "_view_count": null,
            "disabled": false,
            "_view_module_version": "1.5.0",
            "min": -20,
            "continuous_update": true,
            "readout_format": "d",
            "description_tooltip": null,
            "readout": true,
            "_model_module": "@jupyter-widgets/controls",
            "layout": "IPY_MODEL_3551b2eecbb34458b0614d68aabf2693"
          }
        },
        "36f2018a923543e5870fdeb45f614e0d": {
          "model_module": "@jupyter-widgets/output",
          "model_name": "OutputModel",
          "state": {
            "_view_name": "OutputView",
            "msg_id": "",
            "_dom_classes": [],
            "_model_name": "OutputModel",
            "outputs": [
              {
                "output_type": "display_data",
                "metadata": {
                  "tags": [],
                  "needs_background": "light"
                },
                "image/png": "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\n",
                "text/plain": "<Figure size 432x288 with 1 Axes>"
              }
            ],
            "_view_module": "@jupyter-widgets/output",
            "_model_module_version": "1.0.0",
            "_view_count": null,
            "_view_module_version": "1.0.0",
            "layout": "IPY_MODEL_fe6a53adf77b4435bb5014b161f438d1",
            "_model_module": "@jupyter-widgets/output"
          }
        },
        "9b380c54e9f143e3bf3d0c4729dc281e": {
          "model_module": "@jupyter-widgets/controls",
          "model_name": "SliderStyleModel",
          "state": {
            "_view_name": "StyleView",
            "handle_color": null,
            "_model_name": "SliderStyleModel",
            "description_width": "",
            "_view_module": "@jupyter-widgets/base",
            "_model_module_version": "1.5.0",
            "_view_count": null,
            "_view_module_version": "1.2.0",
            "_model_module": "@jupyter-widgets/controls"
          }
        },
        "3551b2eecbb34458b0614d68aabf2693": {
          "model_module": "@jupyter-widgets/base",
          "model_name": "LayoutModel",
          "state": {
            "_view_name": "LayoutView",
            "grid_template_rows": null,
            "right": null,
            "justify_content": null,
            "_view_module": "@jupyter-widgets/base",
            "overflow": null,
            "_model_module_version": "1.2.0",
            "_view_count": null,
            "flex_flow": null,
            "width": null,
            "min_width": null,
            "border": null,
            "align_items": null,
            "bottom": null,
            "_model_module": "@jupyter-widgets/base",
            "top": null,
            "grid_column": null,
            "overflow_y": null,
            "overflow_x": null,
            "grid_auto_flow": null,
            "grid_area": null,
            "grid_template_columns": null,
            "flex": null,
            "_model_name": "LayoutModel",
            "justify_items": null,
            "grid_row": null,
            "max_height": null,
            "align_content": null,
            "visibility": null,
            "align_self": null,
            "height": null,
            "min_height": null,
            "padding": null,
            "grid_auto_rows": null,
            "grid_gap": null,
            "max_width": null,
            "order": null,
            "_view_module_version": "1.2.0",
            "grid_template_areas": null,
            "object_position": null,
            "object_fit": null,
            "grid_auto_columns": null,
            "margin": null,
            "display": null,
            "left": null
          }
        },
        "fe6a53adf77b4435bb5014b161f438d1": {
          "model_module": "@jupyter-widgets/base",
          "model_name": "LayoutModel",
          "state": {
            "_view_name": "LayoutView",
            "grid_template_rows": null,
            "right": null,
            "justify_content": null,
            "_view_module": "@jupyter-widgets/base",
            "overflow": null,
            "_model_module_version": "1.2.0",
            "_view_count": null,
            "flex_flow": null,
            "width": null,
            "min_width": null,
            "border": null,
            "align_items": null,
            "bottom": null,
            "_model_module": "@jupyter-widgets/base",
            "top": null,
            "grid_column": null,
            "overflow_y": null,
            "overflow_x": null,
            "grid_auto_flow": null,
            "grid_area": null,
            "grid_template_columns": null,
            "flex": null,
            "_model_name": "LayoutModel",
            "justify_items": null,
            "grid_row": null,
            "max_height": null,
            "align_content": null,
            "visibility": null,
            "align_self": null,
            "height": null,
            "min_height": null,
            "padding": null,
            "grid_auto_rows": null,
            "grid_gap": null,
            "max_width": null,
            "order": null,
            "_view_module_version": "1.2.0",
            "grid_template_areas": null,
            "object_position": null,
            "object_fit": null,
            "grid_auto_columns": null,
            "margin": null,
            "display": null,
            "left": null
          }
        },
        "c46cf38b455440bcb7c1bd1a5690b2b3": {
          "model_module": "@jupyter-widgets/controls",
          "model_name": "VBoxModel",
          "state": {
            "_view_name": "VBoxView",
            "_dom_classes": [
              "widget-interact"
            ],
            "_model_name": "VBoxModel",
            "_view_module": "@jupyter-widgets/controls",
            "_model_module_version": "1.5.0",
            "_view_count": null,
            "_view_module_version": "1.5.0",
            "box_style": "",
            "layout": "IPY_MODEL_1220a3269b7549b2bbdae69ffcd4469f",
            "_model_module": "@jupyter-widgets/controls",
            "children": [
              "IPY_MODEL_df0e293414af4580b023a18ba7aa5640",
              "IPY_MODEL_bc0495cbea0b4485ab6f2bd7b519a141"
            ]
          }
        },
        "1220a3269b7549b2bbdae69ffcd4469f": {
          "model_module": "@jupyter-widgets/base",
          "model_name": "LayoutModel",
          "state": {
            "_view_name": "LayoutView",
            "grid_template_rows": null,
            "right": null,
            "justify_content": null,
            "_view_module": "@jupyter-widgets/base",
            "overflow": null,
            "_model_module_version": "1.2.0",
            "_view_count": null,
            "flex_flow": null,
            "width": null,
            "min_width": null,
            "border": null,
            "align_items": null,
            "bottom": null,
            "_model_module": "@jupyter-widgets/base",
            "top": null,
            "grid_column": null,
            "overflow_y": null,
            "overflow_x": null,
            "grid_auto_flow": null,
            "grid_area": null,
            "grid_template_columns": null,
            "flex": null,
            "_model_name": "LayoutModel",
            "justify_items": null,
            "grid_row": null,
            "max_height": null,
            "align_content": null,
            "visibility": null,
            "align_self": null,
            "height": null,
            "min_height": null,
            "padding": null,
            "grid_auto_rows": null,
            "grid_gap": null,
            "max_width": null,
            "order": null,
            "_view_module_version": "1.2.0",
            "grid_template_areas": null,
            "object_position": null,
            "object_fit": null,
            "grid_auto_columns": null,
            "margin": null,
            "display": null,
            "left": null
          }
        },
        "df0e293414af4580b023a18ba7aa5640": {
          "model_module": "@jupyter-widgets/controls",
          "model_name": "IntSliderModel",
          "state": {
            "_view_name": "IntSliderView",
            "style": "IPY_MODEL_c53a63b043eb4f0ab8f4a47f3baa00d0",
            "_dom_classes": [],
            "description": "Na",
            "step": 1,
            "_model_name": "IntSliderModel",
            "orientation": "horizontal",
            "max": 20,
            "_view_module": "@jupyter-widgets/controls",
            "_model_module_version": "1.5.0",
            "value": 18,
            "_view_count": null,
            "disabled": false,
            "_view_module_version": "1.5.0",
            "min": 1,
            "continuous_update": true,
            "readout_format": "d",
            "description_tooltip": null,
            "readout": true,
            "_model_module": "@jupyter-widgets/controls",
            "layout": "IPY_MODEL_b9b3c24c6ace46a0ab5f02cc10674e3d"
          }
        },
        "bc0495cbea0b4485ab6f2bd7b519a141": {
          "model_module": "@jupyter-widgets/output",
          "model_name": "OutputModel",
          "state": {
            "_view_name": "OutputView",
            "msg_id": "",
            "_dom_classes": [],
            "_model_name": "OutputModel",
            "outputs": [
              {
                "output_type": "display_data",
                "metadata": {
                  "tags": [],
                  "needs_background": "light"
                },
                "image/png": "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\n",
                "text/plain": "<Figure size 432x288 with 1 Axes>"
              }
            ],
            "_view_module": "@jupyter-widgets/output",
            "_model_module_version": "1.0.0",
            "_view_count": null,
            "_view_module_version": "1.0.0",
            "layout": "IPY_MODEL_c492fdbc701d4bc2a088430b66d8688c",
            "_model_module": "@jupyter-widgets/output"
          }
        },
        "c53a63b043eb4f0ab8f4a47f3baa00d0": {
          "model_module": "@jupyter-widgets/controls",
          "model_name": "SliderStyleModel",
          "state": {
            "_view_name": "StyleView",
            "handle_color": null,
            "_model_name": "SliderStyleModel",
            "description_width": "",
            "_view_module": "@jupyter-widgets/base",
            "_model_module_version": "1.5.0",
            "_view_count": null,
            "_view_module_version": "1.2.0",
            "_model_module": "@jupyter-widgets/controls"
          }
        },
        "b9b3c24c6ace46a0ab5f02cc10674e3d": {
          "model_module": "@jupyter-widgets/base",
          "model_name": "LayoutModel",
          "state": {
            "_view_name": "LayoutView",
            "grid_template_rows": null,
            "right": null,
            "justify_content": null,
            "_view_module": "@jupyter-widgets/base",
            "overflow": null,
            "_model_module_version": "1.2.0",
            "_view_count": null,
            "flex_flow": null,
            "width": null,
            "min_width": null,
            "border": null,
            "align_items": null,
            "bottom": null,
            "_model_module": "@jupyter-widgets/base",
            "top": null,
            "grid_column": null,
            "overflow_y": null,
            "overflow_x": null,
            "grid_auto_flow": null,
            "grid_area": null,
            "grid_template_columns": null,
            "flex": null,
            "_model_name": "LayoutModel",
            "justify_items": null,
            "grid_row": null,
            "max_height": null,
            "align_content": null,
            "visibility": null,
            "align_self": null,
            "height": null,
            "min_height": null,
            "padding": null,
            "grid_auto_rows": null,
            "grid_gap": null,
            "max_width": null,
            "order": null,
            "_view_module_version": "1.2.0",
            "grid_template_areas": null,
            "object_position": null,
            "object_fit": null,
            "grid_auto_columns": null,
            "margin": null,
            "display": null,
            "left": null
          }
        },
        "c492fdbc701d4bc2a088430b66d8688c": {
          "model_module": "@jupyter-widgets/base",
          "model_name": "LayoutModel",
          "state": {
            "_view_name": "LayoutView",
            "grid_template_rows": null,
            "right": null,
            "justify_content": null,
            "_view_module": "@jupyter-widgets/base",
            "overflow": null,
            "_model_module_version": "1.2.0",
            "_view_count": null,
            "flex_flow": null,
            "width": null,
            "min_width": null,
            "border": null,
            "align_items": null,
            "bottom": null,
            "_model_module": "@jupyter-widgets/base",
            "top": null,
            "grid_column": null,
            "overflow_y": null,
            "overflow_x": null,
            "grid_auto_flow": null,
            "grid_area": null,
            "grid_template_columns": null,
            "flex": null,
            "_model_name": "LayoutModel",
            "justify_items": null,
            "grid_row": null,
            "max_height": null,
            "align_content": null,
            "visibility": null,
            "align_self": null,
            "height": null,
            "min_height": null,
            "padding": null,
            "grid_auto_rows": null,
            "grid_gap": null,
            "max_width": null,
            "order": null,
            "_view_module_version": "1.2.0",
            "grid_template_areas": null,
            "object_position": null,
            "object_fit": null,
            "grid_auto_columns": null,
            "margin": null,
            "display": null,
            "left": null
          }
        },
        "3f7d7c86f9954cf7bc3e0de1d3515294": {
          "model_module": "@jupyter-widgets/controls",
          "model_name": "VBoxModel",
          "state": {
            "_view_name": "VBoxView",
            "_dom_classes": [
              "widget-interact"
            ],
            "_model_name": "VBoxModel",
            "_view_module": "@jupyter-widgets/controls",
            "_model_module_version": "1.5.0",
            "_view_count": null,
            "_view_module_version": "1.5.0",
            "box_style": "",
            "layout": "IPY_MODEL_f2fd610293b74d49ac52f504cc3b1bc6",
            "_model_module": "@jupyter-widgets/controls",
            "children": [
              "IPY_MODEL_5102597235854ac5823333478dfda21e",
              "IPY_MODEL_175dfa958dd94d93aa34c15141d46ac6"
            ]
          }
        },
        "f2fd610293b74d49ac52f504cc3b1bc6": {
          "model_module": "@jupyter-widgets/base",
          "model_name": "LayoutModel",
          "state": {
            "_view_name": "LayoutView",
            "grid_template_rows": null,
            "right": null,
            "justify_content": null,
            "_view_module": "@jupyter-widgets/base",
            "overflow": null,
            "_model_module_version": "1.2.0",
            "_view_count": null,
            "flex_flow": null,
            "width": null,
            "min_width": null,
            "border": null,
            "align_items": null,
            "bottom": null,
            "_model_module": "@jupyter-widgets/base",
            "top": null,
            "grid_column": null,
            "overflow_y": null,
            "overflow_x": null,
            "grid_auto_flow": null,
            "grid_area": null,
            "grid_template_columns": null,
            "flex": null,
            "_model_name": "LayoutModel",
            "justify_items": null,
            "grid_row": null,
            "max_height": null,
            "align_content": null,
            "visibility": null,
            "align_self": null,
            "height": null,
            "min_height": null,
            "padding": null,
            "grid_auto_rows": null,
            "grid_gap": null,
            "max_width": null,
            "order": null,
            "_view_module_version": "1.2.0",
            "grid_template_areas": null,
            "object_position": null,
            "object_fit": null,
            "grid_auto_columns": null,
            "margin": null,
            "display": null,
            "left": null
          }
        },
        "5102597235854ac5823333478dfda21e": {
          "model_module": "@jupyter-widgets/controls",
          "model_name": "IntSliderModel",
          "state": {
            "_view_name": "IntSliderView",
            "style": "IPY_MODEL_37f3563962554317994276d60d9224bb",
            "_dom_classes": [],
            "description": "n",
            "step": 1,
            "_model_name": "IntSliderModel",
            "orientation": "horizontal",
            "max": 20,
            "_view_module": "@jupyter-widgets/controls",
            "_model_module_version": "1.5.0",
            "value": 1,
            "_view_count": null,
            "disabled": false,
            "_view_module_version": "1.5.0",
            "min": -20,
            "continuous_update": true,
            "readout_format": "d",
            "description_tooltip": null,
            "readout": true,
            "_model_module": "@jupyter-widgets/controls",
            "layout": "IPY_MODEL_42fd1d71e1284bb7b033d1ca849d4f99"
          }
        },
        "175dfa958dd94d93aa34c15141d46ac6": {
          "model_module": "@jupyter-widgets/output",
          "model_name": "OutputModel",
          "state": {
            "_view_name": "OutputView",
            "msg_id": "",
            "_dom_classes": [],
            "_model_name": "OutputModel",
            "outputs": [
              {
                "output_type": "display_data",
                "metadata": {
                  "tags": [],
                  "needs_background": "light"
                },
                "image/png": "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\n",
                "text/plain": "<Figure size 432x288 with 1 Axes>"
              }
            ],
            "_view_module": "@jupyter-widgets/output",
            "_model_module_version": "1.0.0",
            "_view_count": null,
            "_view_module_version": "1.0.0",
            "layout": "IPY_MODEL_286a4bd3659e43a0a0c208ecfc8bad15",
            "_model_module": "@jupyter-widgets/output"
          }
        },
        "37f3563962554317994276d60d9224bb": {
          "model_module": "@jupyter-widgets/controls",
          "model_name": "SliderStyleModel",
          "state": {
            "_view_name": "StyleView",
            "handle_color": null,
            "_model_name": "SliderStyleModel",
            "description_width": "",
            "_view_module": "@jupyter-widgets/base",
            "_model_module_version": "1.5.0",
            "_view_count": null,
            "_view_module_version": "1.2.0",
            "_model_module": "@jupyter-widgets/controls"
          }
        },
        "42fd1d71e1284bb7b033d1ca849d4f99": {
          "model_module": "@jupyter-widgets/base",
          "model_name": "LayoutModel",
          "state": {
            "_view_name": "LayoutView",
            "grid_template_rows": null,
            "right": null,
            "justify_content": null,
            "_view_module": "@jupyter-widgets/base",
            "overflow": null,
            "_model_module_version": "1.2.0",
            "_view_count": null,
            "flex_flow": null,
            "width": null,
            "min_width": null,
            "border": null,
            "align_items": null,
            "bottom": null,
            "_model_module": "@jupyter-widgets/base",
            "top": null,
            "grid_column": null,
            "overflow_y": null,
            "overflow_x": null,
            "grid_auto_flow": null,
            "grid_area": null,
            "grid_template_columns": null,
            "flex": null,
            "_model_name": "LayoutModel",
            "justify_items": null,
            "grid_row": null,
            "max_height": null,
            "align_content": null,
            "visibility": null,
            "align_self": null,
            "height": null,
            "min_height": null,
            "padding": null,
            "grid_auto_rows": null,
            "grid_gap": null,
            "max_width": null,
            "order": null,
            "_view_module_version": "1.2.0",
            "grid_template_areas": null,
            "object_position": null,
            "object_fit": null,
            "grid_auto_columns": null,
            "margin": null,
            "display": null,
            "left": null
          }
        },
        "286a4bd3659e43a0a0c208ecfc8bad15": {
          "model_module": "@jupyter-widgets/base",
          "model_name": "LayoutModel",
          "state": {
            "_view_name": "LayoutView",
            "grid_template_rows": null,
            "right": null,
            "justify_content": null,
            "_view_module": "@jupyter-widgets/base",
            "overflow": null,
            "_model_module_version": "1.2.0",
            "_view_count": null,
            "flex_flow": null,
            "width": null,
            "min_width": null,
            "border": null,
            "align_items": null,
            "bottom": null,
            "_model_module": "@jupyter-widgets/base",
            "top": null,
            "grid_column": null,
            "overflow_y": null,
            "overflow_x": null,
            "grid_auto_flow": null,
            "grid_area": null,
            "grid_template_columns": null,
            "flex": null,
            "_model_name": "LayoutModel",
            "justify_items": null,
            "grid_row": null,
            "max_height": null,
            "align_content": null,
            "visibility": null,
            "align_self": null,
            "height": null,
            "min_height": null,
            "padding": null,
            "grid_auto_rows": null,
            "grid_gap": null,
            "max_width": null,
            "order": null,
            "_view_module_version": "1.2.0",
            "grid_template_areas": null,
            "object_position": null,
            "object_fit": null,
            "grid_auto_columns": null,
            "margin": null,
            "display": null,
            "left": null
          }
        },
        "e3690678db334e19bd867628b7b6bcdc": {
          "model_module": "@jupyter-widgets/controls",
          "model_name": "VBoxModel",
          "state": {
            "_view_name": "VBoxView",
            "_dom_classes": [
              "widget-interact"
            ],
            "_model_name": "VBoxModel",
            "_view_module": "@jupyter-widgets/controls",
            "_model_module_version": "1.5.0",
            "_view_count": null,
            "_view_module_version": "1.5.0",
            "box_style": "",
            "layout": "IPY_MODEL_ed9983e91ed74ef3b035a5c69d62d3d4",
            "_model_module": "@jupyter-widgets/controls",
            "children": [
              "IPY_MODEL_16dcedb01dd946c493a26e1052078a2d",
              "IPY_MODEL_b536dafe65254a2bb15fbc98b9b8dda5"
            ]
          }
        },
        "ed9983e91ed74ef3b035a5c69d62d3d4": {
          "model_module": "@jupyter-widgets/base",
          "model_name": "LayoutModel",
          "state": {
            "_view_name": "LayoutView",
            "grid_template_rows": null,
            "right": null,
            "justify_content": null,
            "_view_module": "@jupyter-widgets/base",
            "overflow": null,
            "_model_module_version": "1.2.0",
            "_view_count": null,
            "flex_flow": null,
            "width": null,
            "min_width": null,
            "border": null,
            "align_items": null,
            "bottom": null,
            "_model_module": "@jupyter-widgets/base",
            "top": null,
            "grid_column": null,
            "overflow_y": null,
            "overflow_x": null,
            "grid_auto_flow": null,
            "grid_area": null,
            "grid_template_columns": null,
            "flex": null,
            "_model_name": "LayoutModel",
            "justify_items": null,
            "grid_row": null,
            "max_height": null,
            "align_content": null,
            "visibility": null,
            "align_self": null,
            "height": null,
            "min_height": null,
            "padding": null,
            "grid_auto_rows": null,
            "grid_gap": null,
            "max_width": null,
            "order": null,
            "_view_module_version": "1.2.0",
            "grid_template_areas": null,
            "object_position": null,
            "object_fit": null,
            "grid_auto_columns": null,
            "margin": null,
            "display": null,
            "left": null
          }
        },
        "16dcedb01dd946c493a26e1052078a2d": {
          "model_module": "@jupyter-widgets/controls",
          "model_name": "IntSliderModel",
          "state": {
            "_view_name": "IntSliderView",
            "style": "IPY_MODEL_67ebc07f8c0e43548438f670fe9fc919",
            "_dom_classes": [],
            "description": "Na",
            "step": 1,
            "_model_name": "IntSliderModel",
            "orientation": "horizontal",
            "max": 20,
            "_view_module": "@jupyter-widgets/controls",
            "_model_module_version": "1.5.0",
            "value": 5,
            "_view_count": null,
            "disabled": false,
            "_view_module_version": "1.5.0",
            "min": 1,
            "continuous_update": true,
            "readout_format": "d",
            "description_tooltip": null,
            "readout": true,
            "_model_module": "@jupyter-widgets/controls",
            "layout": "IPY_MODEL_c847a617a61f4038a73adade8ef6de2b"
          }
        },
        "b536dafe65254a2bb15fbc98b9b8dda5": {
          "model_module": "@jupyter-widgets/output",
          "model_name": "OutputModel",
          "state": {
            "_view_name": "OutputView",
            "msg_id": "",
            "_dom_classes": [],
            "_model_name": "OutputModel",
            "outputs": [
              {
                "output_type": "display_data",
                "metadata": {
                  "tags": [],
                  "needs_background": "light"
                },
                "image/png": "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\n",
                "text/plain": "<Figure size 432x288 with 1 Axes>"
              }
            ],
            "_view_module": "@jupyter-widgets/output",
            "_model_module_version": "1.0.0",
            "_view_count": null,
            "_view_module_version": "1.0.0",
            "layout": "IPY_MODEL_a13f0b3a6d7c474eb234b07d4df3cb45",
            "_model_module": "@jupyter-widgets/output"
          }
        },
        "67ebc07f8c0e43548438f670fe9fc919": {
          "model_module": "@jupyter-widgets/controls",
          "model_name": "SliderStyleModel",
          "state": {
            "_view_name": "StyleView",
            "handle_color": null,
            "_model_name": "SliderStyleModel",
            "description_width": "",
            "_view_module": "@jupyter-widgets/base",
            "_model_module_version": "1.5.0",
            "_view_count": null,
            "_view_module_version": "1.2.0",
            "_model_module": "@jupyter-widgets/controls"
          }
        },
        "c847a617a61f4038a73adade8ef6de2b": {
          "model_module": "@jupyter-widgets/base",
          "model_name": "LayoutModel",
          "state": {
            "_view_name": "LayoutView",
            "grid_template_rows": null,
            "right": null,
            "justify_content": null,
            "_view_module": "@jupyter-widgets/base",
            "overflow": null,
            "_model_module_version": "1.2.0",
            "_view_count": null,
            "flex_flow": null,
            "width": null,
            "min_width": null,
            "border": null,
            "align_items": null,
            "bottom": null,
            "_model_module": "@jupyter-widgets/base",
            "top": null,
            "grid_column": null,
            "overflow_y": null,
            "overflow_x": null,
            "grid_auto_flow": null,
            "grid_area": null,
            "grid_template_columns": null,
            "flex": null,
            "_model_name": "LayoutModel",
            "justify_items": null,
            "grid_row": null,
            "max_height": null,
            "align_content": null,
            "visibility": null,
            "align_self": null,
            "height": null,
            "min_height": null,
            "padding": null,
            "grid_auto_rows": null,
            "grid_gap": null,
            "max_width": null,
            "order": null,
            "_view_module_version": "1.2.0",
            "grid_template_areas": null,
            "object_position": null,
            "object_fit": null,
            "grid_auto_columns": null,
            "margin": null,
            "display": null,
            "left": null
          }
        },
        "a13f0b3a6d7c474eb234b07d4df3cb45": {
          "model_module": "@jupyter-widgets/base",
          "model_name": "LayoutModel",
          "state": {
            "_view_name": "LayoutView",
            "grid_template_rows": null,
            "right": null,
            "justify_content": null,
            "_view_module": "@jupyter-widgets/base",
            "overflow": null,
            "_model_module_version": "1.2.0",
            "_view_count": null,
            "flex_flow": null,
            "width": null,
            "min_width": null,
            "border": null,
            "align_items": null,
            "bottom": null,
            "_model_module": "@jupyter-widgets/base",
            "top": null,
            "grid_column": null,
            "overflow_y": null,
            "overflow_x": null,
            "grid_auto_flow": null,
            "grid_area": null,
            "grid_template_columns": null,
            "flex": null,
            "_model_name": "LayoutModel",
            "justify_items": null,
            "grid_row": null,
            "max_height": null,
            "align_content": null,
            "visibility": null,
            "align_self": null,
            "height": null,
            "min_height": null,
            "padding": null,
            "grid_auto_rows": null,
            "grid_gap": null,
            "max_width": null,
            "order": null,
            "_view_module_version": "1.2.0",
            "grid_template_areas": null,
            "object_position": null,
            "object_fit": null,
            "grid_auto_columns": null,
            "margin": null,
            "display": null,
            "left": null
          }
        },
        "6d09669137054d49b9bec87f69e3a92a": {
          "model_module": "@jupyter-widgets/controls",
          "model_name": "VBoxModel",
          "state": {
            "_view_name": "VBoxView",
            "_dom_classes": [
              "widget-interact"
            ],
            "_model_name": "VBoxModel",
            "_view_module": "@jupyter-widgets/controls",
            "_model_module_version": "1.5.0",
            "_view_count": null,
            "_view_module_version": "1.5.0",
            "box_style": "",
            "layout": "IPY_MODEL_4b42f47edcc7491ebd5b88aa941dab10",
            "_model_module": "@jupyter-widgets/controls",
            "children": [
              "IPY_MODEL_6b29322b09ad400eaf42966bf2cc5cea",
              "IPY_MODEL_c4ac75b524334ecc8f141c460b30cc31"
            ]
          }
        },
        "4b42f47edcc7491ebd5b88aa941dab10": {
          "model_module": "@jupyter-widgets/base",
          "model_name": "LayoutModel",
          "state": {
            "_view_name": "LayoutView",
            "grid_template_rows": null,
            "right": null,
            "justify_content": null,
            "_view_module": "@jupyter-widgets/base",
            "overflow": null,
            "_model_module_version": "1.2.0",
            "_view_count": null,
            "flex_flow": null,
            "width": null,
            "min_width": null,
            "border": null,
            "align_items": null,
            "bottom": null,
            "_model_module": "@jupyter-widgets/base",
            "top": null,
            "grid_column": null,
            "overflow_y": null,
            "overflow_x": null,
            "grid_auto_flow": null,
            "grid_area": null,
            "grid_template_columns": null,
            "flex": null,
            "_model_name": "LayoutModel",
            "justify_items": null,
            "grid_row": null,
            "max_height": null,
            "align_content": null,
            "visibility": null,
            "align_self": null,
            "height": null,
            "min_height": null,
            "padding": null,
            "grid_auto_rows": null,
            "grid_gap": null,
            "max_width": null,
            "order": null,
            "_view_module_version": "1.2.0",
            "grid_template_areas": null,
            "object_position": null,
            "object_fit": null,
            "grid_auto_columns": null,
            "margin": null,
            "display": null,
            "left": null
          }
        },
        "6b29322b09ad400eaf42966bf2cc5cea": {
          "model_module": "@jupyter-widgets/controls",
          "model_name": "IntSliderModel",
          "state": {
            "_view_name": "IntSliderView",
            "style": "IPY_MODEL_dfbeacb35e384ca78c4773948020cf8c",
            "_dom_classes": [],
            "description": "n",
            "step": 1,
            "_model_name": "IntSliderModel",
            "orientation": "horizontal",
            "max": 20,
            "_view_module": "@jupyter-widgets/controls",
            "_model_module_version": "1.5.0",
            "value": 1,
            "_view_count": null,
            "disabled": false,
            "_view_module_version": "1.5.0",
            "min": -20,
            "continuous_update": true,
            "readout_format": "d",
            "description_tooltip": null,
            "readout": true,
            "_model_module": "@jupyter-widgets/controls",
            "layout": "IPY_MODEL_5742626d2a7447e5bb41b920f0e99b59"
          }
        },
        "c4ac75b524334ecc8f141c460b30cc31": {
          "model_module": "@jupyter-widgets/output",
          "model_name": "OutputModel",
          "state": {
            "_view_name": "OutputView",
            "msg_id": "",
            "_dom_classes": [],
            "_model_name": "OutputModel",
            "outputs": [
              {
                "output_type": "display_data",
                "metadata": {
                  "tags": [],
                  "needs_background": "light"
                },
                "image/png": "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\n",
                "text/plain": "<Figure size 432x288 with 1 Axes>"
              }
            ],
            "_view_module": "@jupyter-widgets/output",
            "_model_module_version": "1.0.0",
            "_view_count": null,
            "_view_module_version": "1.0.0",
            "layout": "IPY_MODEL_44c9ef75425e496dbd457996326bcb2a",
            "_model_module": "@jupyter-widgets/output"
          }
        },
        "dfbeacb35e384ca78c4773948020cf8c": {
          "model_module": "@jupyter-widgets/controls",
          "model_name": "SliderStyleModel",
          "state": {
            "_view_name": "StyleView",
            "handle_color": null,
            "_model_name": "SliderStyleModel",
            "description_width": "",
            "_view_module": "@jupyter-widgets/base",
            "_model_module_version": "1.5.0",
            "_view_count": null,
            "_view_module_version": "1.2.0",
            "_model_module": "@jupyter-widgets/controls"
          }
        },
        "5742626d2a7447e5bb41b920f0e99b59": {
          "model_module": "@jupyter-widgets/base",
          "model_name": "LayoutModel",
          "state": {
            "_view_name": "LayoutView",
            "grid_template_rows": null,
            "right": null,
            "justify_content": null,
            "_view_module": "@jupyter-widgets/base",
            "overflow": null,
            "_model_module_version": "1.2.0",
            "_view_count": null,
            "flex_flow": null,
            "width": null,
            "min_width": null,
            "border": null,
            "align_items": null,
            "bottom": null,
            "_model_module": "@jupyter-widgets/base",
            "top": null,
            "grid_column": null,
            "overflow_y": null,
            "overflow_x": null,
            "grid_auto_flow": null,
            "grid_area": null,
            "grid_template_columns": null,
            "flex": null,
            "_model_name": "LayoutModel",
            "justify_items": null,
            "grid_row": null,
            "max_height": null,
            "align_content": null,
            "visibility": null,
            "align_self": null,
            "height": null,
            "min_height": null,
            "padding": null,
            "grid_auto_rows": null,
            "grid_gap": null,
            "max_width": null,
            "order": null,
            "_view_module_version": "1.2.0",
            "grid_template_areas": null,
            "object_position": null,
            "object_fit": null,
            "grid_auto_columns": null,
            "margin": null,
            "display": null,
            "left": null
          }
        },
        "44c9ef75425e496dbd457996326bcb2a": {
          "model_module": "@jupyter-widgets/base",
          "model_name": "LayoutModel",
          "state": {
            "_view_name": "LayoutView",
            "grid_template_rows": null,
            "right": null,
            "justify_content": null,
            "_view_module": "@jupyter-widgets/base",
            "overflow": null,
            "_model_module_version": "1.2.0",
            "_view_count": null,
            "flex_flow": null,
            "width": null,
            "min_width": null,
            "border": null,
            "align_items": null,
            "bottom": null,
            "_model_module": "@jupyter-widgets/base",
            "top": null,
            "grid_column": null,
            "overflow_y": null,
            "overflow_x": null,
            "grid_auto_flow": null,
            "grid_area": null,
            "grid_template_columns": null,
            "flex": null,
            "_model_name": "LayoutModel",
            "justify_items": null,
            "grid_row": null,
            "max_height": null,
            "align_content": null,
            "visibility": null,
            "align_self": null,
            "height": null,
            "min_height": null,
            "padding": null,
            "grid_auto_rows": null,
            "grid_gap": null,
            "max_width": null,
            "order": null,
            "_view_module_version": "1.2.0",
            "grid_template_areas": null,
            "object_position": null,
            "object_fit": null,
            "grid_auto_columns": null,
            "margin": null,
            "display": null,
            "left": null
          }
        },
        "32257a8e97ca40c1bc5f6e5694f81f5a": {
          "model_module": "@jupyter-widgets/controls",
          "model_name": "VBoxModel",
          "state": {
            "_view_name": "VBoxView",
            "_dom_classes": [
              "widget-interact"
            ],
            "_model_name": "VBoxModel",
            "_view_module": "@jupyter-widgets/controls",
            "_model_module_version": "1.5.0",
            "_view_count": null,
            "_view_module_version": "1.5.0",
            "box_style": "",
            "layout": "IPY_MODEL_71bae936dcdf4dd5a15e0cfd11b09a35",
            "_model_module": "@jupyter-widgets/controls",
            "children": [
              "IPY_MODEL_202a01bbe6644aee8ed84cd4f8577b22",
              "IPY_MODEL_847d1cf2aeb64d4a96b75594b097e21a"
            ]
          }
        },
        "71bae936dcdf4dd5a15e0cfd11b09a35": {
          "model_module": "@jupyter-widgets/base",
          "model_name": "LayoutModel",
          "state": {
            "_view_name": "LayoutView",
            "grid_template_rows": null,
            "right": null,
            "justify_content": null,
            "_view_module": "@jupyter-widgets/base",
            "overflow": null,
            "_model_module_version": "1.2.0",
            "_view_count": null,
            "flex_flow": null,
            "width": null,
            "min_width": null,
            "border": null,
            "align_items": null,
            "bottom": null,
            "_model_module": "@jupyter-widgets/base",
            "top": null,
            "grid_column": null,
            "overflow_y": null,
            "overflow_x": null,
            "grid_auto_flow": null,
            "grid_area": null,
            "grid_template_columns": null,
            "flex": null,
            "_model_name": "LayoutModel",
            "justify_items": null,
            "grid_row": null,
            "max_height": null,
            "align_content": null,
            "visibility": null,
            "align_self": null,
            "height": null,
            "min_height": null,
            "padding": null,
            "grid_auto_rows": null,
            "grid_gap": null,
            "max_width": null,
            "order": null,
            "_view_module_version": "1.2.0",
            "grid_template_areas": null,
            "object_position": null,
            "object_fit": null,
            "grid_auto_columns": null,
            "margin": null,
            "display": null,
            "left": null
          }
        },
        "202a01bbe6644aee8ed84cd4f8577b22": {
          "model_module": "@jupyter-widgets/controls",
          "model_name": "IntSliderModel",
          "state": {
            "_view_name": "IntSliderView",
            "style": "IPY_MODEL_c4fd0924782c411d9a2c3b3e10b930bc",
            "_dom_classes": [],
            "description": "Na",
            "step": 1,
            "_model_name": "IntSliderModel",
            "orientation": "horizontal",
            "max": 20,
            "_view_module": "@jupyter-widgets/controls",
            "_model_module_version": "1.5.0",
            "value": 20,
            "_view_count": null,
            "disabled": false,
            "_view_module_version": "1.5.0",
            "min": 1,
            "continuous_update": true,
            "readout_format": "d",
            "description_tooltip": null,
            "readout": true,
            "_model_module": "@jupyter-widgets/controls",
            "layout": "IPY_MODEL_e63c962ed16340e4a7ea1ad6021df750"
          }
        },
        "847d1cf2aeb64d4a96b75594b097e21a": {
          "model_module": "@jupyter-widgets/output",
          "model_name": "OutputModel",
          "state": {
            "_view_name": "OutputView",
            "msg_id": "",
            "_dom_classes": [],
            "_model_name": "OutputModel",
            "outputs": [
              {
                "output_type": "display_data",
                "metadata": {
                  "tags": [],
                  "needs_background": "light"
                },
                "image/png": "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\n",
                "text/plain": "<Figure size 432x288 with 1 Axes>"
              }
            ],
            "_view_module": "@jupyter-widgets/output",
            "_model_module_version": "1.0.0",
            "_view_count": null,
            "_view_module_version": "1.0.0",
            "layout": "IPY_MODEL_577b13ca19a84eda96758fb70f5394f0",
            "_model_module": "@jupyter-widgets/output"
          }
        },
        "c4fd0924782c411d9a2c3b3e10b930bc": {
          "model_module": "@jupyter-widgets/controls",
          "model_name": "SliderStyleModel",
          "state": {
            "_view_name": "StyleView",
            "handle_color": null,
            "_model_name": "SliderStyleModel",
            "description_width": "",
            "_view_module": "@jupyter-widgets/base",
            "_model_module_version": "1.5.0",
            "_view_count": null,
            "_view_module_version": "1.2.0",
            "_model_module": "@jupyter-widgets/controls"
          }
        },
        "e63c962ed16340e4a7ea1ad6021df750": {
          "model_module": "@jupyter-widgets/base",
          "model_name": "LayoutModel",
          "state": {
            "_view_name": "LayoutView",
            "grid_template_rows": null,
            "right": null,
            "justify_content": null,
            "_view_module": "@jupyter-widgets/base",
            "overflow": null,
            "_model_module_version": "1.2.0",
            "_view_count": null,
            "flex_flow": null,
            "width": null,
            "min_width": null,
            "border": null,
            "align_items": null,
            "bottom": null,
            "_model_module": "@jupyter-widgets/base",
            "top": null,
            "grid_column": null,
            "overflow_y": null,
            "overflow_x": null,
            "grid_auto_flow": null,
            "grid_area": null,
            "grid_template_columns": null,
            "flex": null,
            "_model_name": "LayoutModel",
            "justify_items": null,
            "grid_row": null,
            "max_height": null,
            "align_content": null,
            "visibility": null,
            "align_self": null,
            "height": null,
            "min_height": null,
            "padding": null,
            "grid_auto_rows": null,
            "grid_gap": null,
            "max_width": null,
            "order": null,
            "_view_module_version": "1.2.0",
            "grid_template_areas": null,
            "object_position": null,
            "object_fit": null,
            "grid_auto_columns": null,
            "margin": null,
            "display": null,
            "left": null
          }
        },
        "577b13ca19a84eda96758fb70f5394f0": {
          "model_module": "@jupyter-widgets/base",
          "model_name": "LayoutModel",
          "state": {
            "_view_name": "LayoutView",
            "grid_template_rows": null,
            "right": null,
            "justify_content": null,
            "_view_module": "@jupyter-widgets/base",
            "overflow": null,
            "_model_module_version": "1.2.0",
            "_view_count": null,
            "flex_flow": null,
            "width": null,
            "min_width": null,
            "border": null,
            "align_items": null,
            "bottom": null,
            "_model_module": "@jupyter-widgets/base",
            "top": null,
            "grid_column": null,
            "overflow_y": null,
            "overflow_x": null,
            "grid_auto_flow": null,
            "grid_area": null,
            "grid_template_columns": null,
            "flex": null,
            "_model_name": "LayoutModel",
            "justify_items": null,
            "grid_row": null,
            "max_height": null,
            "align_content": null,
            "visibility": null,
            "align_self": null,
            "height": null,
            "min_height": null,
            "padding": null,
            "grid_auto_rows": null,
            "grid_gap": null,
            "max_width": null,
            "order": null,
            "_view_module_version": "1.2.0",
            "grid_template_areas": null,
            "object_position": null,
            "object_fit": null,
            "grid_auto_columns": null,
            "margin": null,
            "display": null,
            "left": null
          }
        },
        "6337c5c296324425a4fd9f5fde66f6c0": {
          "model_module": "@jupyter-widgets/controls",
          "model_name": "VBoxModel",
          "state": {
            "_view_name": "VBoxView",
            "_dom_classes": [
              "widget-interact"
            ],
            "_model_name": "VBoxModel",
            "_view_module": "@jupyter-widgets/controls",
            "_model_module_version": "1.5.0",
            "_view_count": null,
            "_view_module_version": "1.5.0",
            "box_style": "",
            "layout": "IPY_MODEL_468da38131dc48148e2f281ef38f055a",
            "_model_module": "@jupyter-widgets/controls",
            "children": [
              "IPY_MODEL_281123561ede4768b5f8bafd83bc197e",
              "IPY_MODEL_02c7e84b87ba409fbc8a5c8982858f3a"
            ]
          }
        },
        "468da38131dc48148e2f281ef38f055a": {
          "model_module": "@jupyter-widgets/base",
          "model_name": "LayoutModel",
          "state": {
            "_view_name": "LayoutView",
            "grid_template_rows": null,
            "right": null,
            "justify_content": null,
            "_view_module": "@jupyter-widgets/base",
            "overflow": null,
            "_model_module_version": "1.2.0",
            "_view_count": null,
            "flex_flow": null,
            "width": null,
            "min_width": null,
            "border": null,
            "align_items": null,
            "bottom": null,
            "_model_module": "@jupyter-widgets/base",
            "top": null,
            "grid_column": null,
            "overflow_y": null,
            "overflow_x": null,
            "grid_auto_flow": null,
            "grid_area": null,
            "grid_template_columns": null,
            "flex": null,
            "_model_name": "LayoutModel",
            "justify_items": null,
            "grid_row": null,
            "max_height": null,
            "align_content": null,
            "visibility": null,
            "align_self": null,
            "height": null,
            "min_height": null,
            "padding": null,
            "grid_auto_rows": null,
            "grid_gap": null,
            "max_width": null,
            "order": null,
            "_view_module_version": "1.2.0",
            "grid_template_areas": null,
            "object_position": null,
            "object_fit": null,
            "grid_auto_columns": null,
            "margin": null,
            "display": null,
            "left": null
          }
        },
        "281123561ede4768b5f8bafd83bc197e": {
          "model_module": "@jupyter-widgets/controls",
          "model_name": "IntSliderModel",
          "state": {
            "_view_name": "IntSliderView",
            "style": "IPY_MODEL_be21b9fc9e004a279d2d665cb739780d",
            "_dom_classes": [],
            "description": "n",
            "step": 1,
            "_model_name": "IntSliderModel",
            "orientation": "horizontal",
            "max": 20,
            "_view_module": "@jupyter-widgets/controls",
            "_model_module_version": "1.5.0",
            "value": 1,
            "_view_count": null,
            "disabled": false,
            "_view_module_version": "1.5.0",
            "min": -20,
            "continuous_update": true,
            "readout_format": "d",
            "description_tooltip": null,
            "readout": true,
            "_model_module": "@jupyter-widgets/controls",
            "layout": "IPY_MODEL_e99df8e527a040aebc8e0b794da867a1"
          }
        },
        "02c7e84b87ba409fbc8a5c8982858f3a": {
          "model_module": "@jupyter-widgets/output",
          "model_name": "OutputModel",
          "state": {
            "_view_name": "OutputView",
            "msg_id": "",
            "_dom_classes": [],
            "_model_name": "OutputModel",
            "outputs": [
              {
                "output_type": "display_data",
                "metadata": {
                  "tags": [],
                  "needs_background": "light"
                },
                "image/png": "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\n",
                "text/plain": "<Figure size 432x288 with 1 Axes>"
              }
            ],
            "_view_module": "@jupyter-widgets/output",
            "_model_module_version": "1.0.0",
            "_view_count": null,
            "_view_module_version": "1.0.0",
            "layout": "IPY_MODEL_bdbdd430c0ee4d47a48086e680e0699d",
            "_model_module": "@jupyter-widgets/output"
          }
        },
        "be21b9fc9e004a279d2d665cb739780d": {
          "model_module": "@jupyter-widgets/controls",
          "model_name": "SliderStyleModel",
          "state": {
            "_view_name": "StyleView",
            "handle_color": null,
            "_model_name": "SliderStyleModel",
            "description_width": "",
            "_view_module": "@jupyter-widgets/base",
            "_model_module_version": "1.5.0",
            "_view_count": null,
            "_view_module_version": "1.2.0",
            "_model_module": "@jupyter-widgets/controls"
          }
        },
        "e99df8e527a040aebc8e0b794da867a1": {
          "model_module": "@jupyter-widgets/base",
          "model_name": "LayoutModel",
          "state": {
            "_view_name": "LayoutView",
            "grid_template_rows": null,
            "right": null,
            "justify_content": null,
            "_view_module": "@jupyter-widgets/base",
            "overflow": null,
            "_model_module_version": "1.2.0",
            "_view_count": null,
            "flex_flow": null,
            "width": null,
            "min_width": null,
            "border": null,
            "align_items": null,
            "bottom": null,
            "_model_module": "@jupyter-widgets/base",
            "top": null,
            "grid_column": null,
            "overflow_y": null,
            "overflow_x": null,
            "grid_auto_flow": null,
            "grid_area": null,
            "grid_template_columns": null,
            "flex": null,
            "_model_name": "LayoutModel",
            "justify_items": null,
            "grid_row": null,
            "max_height": null,
            "align_content": null,
            "visibility": null,
            "align_self": null,
            "height": null,
            "min_height": null,
            "padding": null,
            "grid_auto_rows": null,
            "grid_gap": null,
            "max_width": null,
            "order": null,
            "_view_module_version": "1.2.0",
            "grid_template_areas": null,
            "object_position": null,
            "object_fit": null,
            "grid_auto_columns": null,
            "margin": null,
            "display": null,
            "left": null
          }
        },
        "bdbdd430c0ee4d47a48086e680e0699d": {
          "model_module": "@jupyter-widgets/base",
          "model_name": "LayoutModel",
          "state": {
            "_view_name": "LayoutView",
            "grid_template_rows": null,
            "right": null,
            "justify_content": null,
            "_view_module": "@jupyter-widgets/base",
            "overflow": null,
            "_model_module_version": "1.2.0",
            "_view_count": null,
            "flex_flow": null,
            "width": null,
            "min_width": null,
            "border": null,
            "align_items": null,
            "bottom": null,
            "_model_module": "@jupyter-widgets/base",
            "top": null,
            "grid_column": null,
            "overflow_y": null,
            "overflow_x": null,
            "grid_auto_flow": null,
            "grid_area": null,
            "grid_template_columns": null,
            "flex": null,
            "_model_name": "LayoutModel",
            "justify_items": null,
            "grid_row": null,
            "max_height": null,
            "align_content": null,
            "visibility": null,
            "align_self": null,
            "height": null,
            "min_height": null,
            "padding": null,
            "grid_auto_rows": null,
            "grid_gap": null,
            "max_width": null,
            "order": null,
            "_view_module_version": "1.2.0",
            "grid_template_areas": null,
            "object_position": null,
            "object_fit": null,
            "grid_auto_columns": null,
            "margin": null,
            "display": null,
            "left": null
          }
        },
        "52fc31c94e2b461ba89e1929079eb249": {
          "model_module": "@jupyter-widgets/controls",
          "model_name": "VBoxModel",
          "state": {
            "_view_name": "VBoxView",
            "_dom_classes": [
              "widget-interact"
            ],
            "_model_name": "VBoxModel",
            "_view_module": "@jupyter-widgets/controls",
            "_model_module_version": "1.5.0",
            "_view_count": null,
            "_view_module_version": "1.5.0",
            "box_style": "",
            "layout": "IPY_MODEL_6877005ec2904122b8b22c3ef74fcfd1",
            "_model_module": "@jupyter-widgets/controls",
            "children": [
              "IPY_MODEL_395ab3f26d2547949b2d10b67150e008",
              "IPY_MODEL_24a125038ea647c4b47d2341724aaef4"
            ]
          }
        },
        "6877005ec2904122b8b22c3ef74fcfd1": {
          "model_module": "@jupyter-widgets/base",
          "model_name": "LayoutModel",
          "state": {
            "_view_name": "LayoutView",
            "grid_template_rows": null,
            "right": null,
            "justify_content": null,
            "_view_module": "@jupyter-widgets/base",
            "overflow": null,
            "_model_module_version": "1.2.0",
            "_view_count": null,
            "flex_flow": null,
            "width": null,
            "min_width": null,
            "border": null,
            "align_items": null,
            "bottom": null,
            "_model_module": "@jupyter-widgets/base",
            "top": null,
            "grid_column": null,
            "overflow_y": null,
            "overflow_x": null,
            "grid_auto_flow": null,
            "grid_area": null,
            "grid_template_columns": null,
            "flex": null,
            "_model_name": "LayoutModel",
            "justify_items": null,
            "grid_row": null,
            "max_height": null,
            "align_content": null,
            "visibility": null,
            "align_self": null,
            "height": null,
            "min_height": null,
            "padding": null,
            "grid_auto_rows": null,
            "grid_gap": null,
            "max_width": null,
            "order": null,
            "_view_module_version": "1.2.0",
            "grid_template_areas": null,
            "object_position": null,
            "object_fit": null,
            "grid_auto_columns": null,
            "margin": null,
            "display": null,
            "left": null
          }
        },
        "395ab3f26d2547949b2d10b67150e008": {
          "model_module": "@jupyter-widgets/controls",
          "model_name": "IntSliderModel",
          "state": {
            "_view_name": "IntSliderView",
            "style": "IPY_MODEL_ddc3caab416a4b8db4fefffea30294f0",
            "_dom_classes": [],
            "description": "Na",
            "step": 1,
            "_model_name": "IntSliderModel",
            "orientation": "horizontal",
            "max": 20,
            "_view_module": "@jupyter-widgets/controls",
            "_model_module_version": "1.5.0",
            "value": 14,
            "_view_count": null,
            "disabled": false,
            "_view_module_version": "1.5.0",
            "min": 1,
            "continuous_update": true,
            "readout_format": "d",
            "description_tooltip": null,
            "readout": true,
            "_model_module": "@jupyter-widgets/controls",
            "layout": "IPY_MODEL_c5c125e95c63469182431d63f33ecd92"
          }
        },
        "24a125038ea647c4b47d2341724aaef4": {
          "model_module": "@jupyter-widgets/output",
          "model_name": "OutputModel",
          "state": {
            "_view_name": "OutputView",
            "msg_id": "",
            "_dom_classes": [],
            "_model_name": "OutputModel",
            "outputs": [
              {
                "output_type": "display_data",
                "metadata": {
                  "tags": [],
                  "needs_background": "light"
                },
                "image/png": "iVBORw0KGgoAAAANSUhEUgAAAY8AAAEfCAYAAAC5/EqkAAAABHNCSVQICAgIfAhkiAAAAAlwSFlzAAALEgAACxIB0t1+/AAAADh0RVh0U29mdHdhcmUAbWF0cGxvdGxpYiB2ZXJzaW9uMy4yLjIsIGh0dHA6Ly9tYXRwbG90bGliLm9yZy+WH4yJAAAgAElEQVR4nO3deXhU5fXA8e9JWAIkrMGIoICAuKMVUKsorlip2qqtVlyLRa1r3a37T22te61LXVDcxbpXWxeQuFURVEBRBERQQLZAQgIECDm/P86MGcLMZCaZ5Q45n+e5zyT33nnve5OZe+67XlFVnHPOuWTkZTsDzjnnco8HD+ecc0nz4OGccy5pHjycc84lzYOHc865pHnwcM45lzQPHi7rRORUEdEYS3mG83KQiDwpIt+KyJrQ6/0iskW9/a6Lk+fqevvmicgVIjJXRKpFZKqIHBPj+H8QkRkislZEvhGRM5PI+74i8r9QvheJyB0i0ibKfjuJyFsiUiUiZSLyqIh0rrfPmIjzKY1Y31ZERovI8tDf5rgo6V8aOscWUbbVRKR7eqLn5oJnk3+uc1n0G2B+vXU1Gc7DmUAhcCMwB+gHXA8ME5FdVbUqtN/DwBv13tsutO7VeutvAC4GrgQ+BY4H/iUiv1TV/4R3EpE/AA8AfwXGAQcB94mIqOr98TItIrsCbwNvAr8EegO3At2B4yL22wooBWYAxwIdQ/u9JiL7qmptRLKLgF8DKyPWXQ4cApwK7Ao8ISKfqeqsUPo9gKuAw1Q12v9uH2Ar4MV45+NygKr64ktWF+xCpEDfJN/XOg156Rpl3X6h/P2+gfeeFNpveMS6LYC1wPX19h0PTIv4vQWwBHis3n6PAMuAlg0c+yVgVuR+wMmh/PwsYt2dQDnQMcr5HR2xbgwwN8pxJgGXRvz+NXBWxO/PA6MbyGuv0PFOz/Znz5fGL15t5XJCRNXWfiLyr1B11sRUH0dVl0ZZPSn02r2Bt58CLMbu/sOGAa2AJ+vt+ySwi4j0Dv2+N9A1yn5PAF2AfWMdVERaAocBz6nq+ohNzwHrgKMi1h0JvK6qP1UHqup7wPf19oulFbAm4vfVQEEoH4cBQ4FLE0jH5TgPHi5I8kWkRb2l/mf0KeA7rMrlcgAx9d8XbWns533/0OvXsXYQka2BA4CndOPqmp2wksfsem+ZHnrdMWI/gC8b2C+aPtgFfKP3qmo18G34vaH2j95RjhE+TrxjhE0EThGRbiIyDNgN+FhEWgP/AC5X1bIE0nE5zoOHC5IZwPp6S/32g+dV9VJVHaeq4TaHU6K8L9rySLIZEpEi4C4scLwcZ9cTse/TY/XWdwbKNVRfE2F5xPbI1xUN7BdNrPeG3x/e3gmQBPaL53qs9LEQa9+5XVU/Ai4DlgKjE0jDbQa8wdwFya/ZtMG8fm+rl6K879/AoATSXxb+QUTysQtp2Ib6F/hQb6FnsOqqfTR6A3DYycDnqjotgXzkLFVdICIDgG2xoFgmItsCl2BVa21E5A7sf7kauENV/5G9HLt08eDhguRLVa1fvVPfj1HWLQcqEkg/sifRt0DPiN9PwxqJAetei5UiDsYawGMGBREZDGwPXBBl8wqgY6jHVGRwCt/lL4/YD6x08GOc/aKJfG99namr+irHGqpj7RfvGD8Jnce3Eav+ATysqlNF5CZgILAzFnTfF5GvVHV8Imm73OHVVi7XRHuGQGOqrY7ASivh5d/10vwn1sX1+AQufOHjPx1l23SgNdYuESncvvBVxH5Q1/YRa79ovsXaVTZ6r4gUYCWErwBUdTUwN8oxwseJd4yoRORXWLvHNaFVh2E9xpaq6hTgrdA6t5nxkofbHCRdbaWqX8TaSURuB04HTlHVeO0ciEgrbNzGf2P01HoDCywjsPaCsBOxktZ3od8/CuVvBDbGI3K/5cCHsfKgqutE5A3gtyJyXUT12rFY4IpsN3oVa/DuoKoVoXPYFyuF1W9fiktE2gJ/B/6kqpURm9pF/FzIxtWDbjPhwcMFyW4iUhxl/eR4bwr17klJDx8RuQy4ECulzBKRvSI2L1XVb+u95ZdYlU/9hvJw3paE2gCuEJFK4DOsRHMg1m02vN96EbkaGxS4AAsgBwK/B85V1XUReRyNBbbI7+91wMfAcyJyLzaW4lasg8GnEfvdigWkV0Xkr0AH4BasF1W09qR4rga+UdXnItaNA84RkRnYYMCDgNuTTNflgmwPNPHFF+oGCcZaimnkQMJG5KU0Tj7GRNn/FSxwtYqTZj426noeVr00DTg2xr5nADND+80C/hhlnzGEmh7qrd8PK8FUY+NN7gLaRtlvF2w0+iqsvWQM0CXKMebGOaftsZHn/eqtLwQexUpLC4CLo7y3Fz5IMOcXCf0znXPuJyIyBhvw1xcLVBtSlG4+FjxmA39Q1YdTka7LPG8wd87F0hNrr0llT6loAyZdDvKSh3NuEyLSC6suBKhU1W9SlO4e1DWgz1XVZfH2d8HlwcM551zSvNrKOedc0ppFV93i4mLt1atXtrORtFWrVtGuXbuGd9yM+Dk3D83tnHP1fD/99NNlqto12rZmETx69erF5MlxhwoEUmlpKUOHDs12NjLKz7l5aG7nnKvnKyLzYm3zaivnnHNJ8+DhnHMuaR48nHPOJc2Dh3POuaR58HDOOZc0Dx7OOeeS5sHDOedc0jx4pEl5Odx7L8yv/0Ru55xLkCo89RRMmJDtnGzKg0eajBwJ55wDw4dDbW3D+zvnXH1PPAEnnggHHgjfpGRqytTx4JEGP/4IL78M3brBtGnw/vvZzpFzLhfdcw+UlEB+PjzySLZzszEPHmkwYYKVNsaOhYICeCnZh3s655q9BQtg0iQ4/3zYf394441s52hjHjzS4KOPoF072Htv+PnPveThnEteaam9Hn447LcffPEFrFqV1SxtxINHGkycCIMGQYsWFjymTg3WP905F3yTJkHbtrDTTrDbbtZ4Pm1atnNVx4NHiqnCjBmw8872+157wYYN8Nln2c2Xcy63TJ4Mu+9uN6G7727rpkzJbp4iefBIscWLobIS+vWz33fd1V6//DJ7eXLO5ZaaGvj8cxg40H7femsrhcyald18RfLgkWLhf+5229lrjx7Qvr0HD+dc4ubNg9Wr624+RWDbbeHbb7Obr0gePFIsHDzCJQ8Rq7OcPj17eXLO5ZbvvrPXPn3q1vXp48FjszZ7ttVR9uxZt27nna2nhGr28uWcyx1z5thr79516/r0sfVBuY7kZPAQkVIRqRaRqtASmLGX8+fDVltZAAnbYQdYvtwW55xryJw50LIldO9et653b1izBpYsyV6+IuVk8Ag5R1ULQ0v/bGcmbMGCjf/hUFf0nD078/lxzuWeOXOgVy8bWR4Wvq4sXJiVLG0il4NHIC1caCWPSOHgEaT6SudccH33nTWQRwpfV4ISPFo0vEtg/VVEbga+Aa5U1dLIjSIyChgFUFJSQmlp6SYJpMMPP+zLjjsuorS0rpixdm0esB/jxn3HVlvNSzitqqqqjOU7KPycm4fmds7Jnu/MmfswdOgSSkvr+uYuWdIa2JsJE76hXbsfU5/JZKlqzi3AnkAR0Bo4BagE+sTaf4899tBMqKxUBdWbb950W/fuqqecklx6EyZMSEW2coqfc/PQ3M45mfMtL7fryC23bLx+3TpVEdVrr01p1uICJmuM62pOVlup6kRVrVTVtar6GPAhcHi28xUuTtavtgKruvI2D+dcQ8LddOtXW7VsCVtsEZxqq5wMHlEoINnORPifWr/BHILXR9s5F0zhbrr1gwfYtWXBgszmJ5acCx4i0lFEholIgYi0EJERwH5A1icsbqjksWiRT5DonIsv2hiPsG7d7HlBQZBzwQNoCdwILAWWAecCv1LVmVnNFXX9r0tKNt0W7nEVLpI651w0330HnTpBx46bbuvaFZYty3yeosm54KGqS1V1kKoWqWpHVd1LVd/Odr7A/qn5+dH/6eEiaPiuorG+/tpm7XXOBcuqVfbsnurqpqUzZ070KiuA4mIPHpulZcugSxebz6q+cBG0KSWP+++HHXe0EesPPtj4dJxzqbV0KQwYYA9t2msvqKpqfFoNBY81a4JR/e3BI4WWLbN/bjTFxVBY2PiSx4IFcNFFcMghtpx3Hnz/fePz6pxLnYsvtqmJrrvOHth0002NS6e2FubOjd7eAVZtBcEofXjwSKF4wUPEPhCNLXn84x+wbh088AA8/LA9YOr22xufV+dcasyZA08+CWefDddeC7/9LdxzT+NKBwsX2vc8XskDrKSTbR48Uihe8AD7QDSm5FFbC08/DcOGWQDaZhv7gD7+OKxd2/j8Ouea7vHHbabbCy+0388806qtXn01+bTiddMFL3lsthoKHuGSR7JTKn/0EfzwA4wYUbfupJOgvBzeSEEH5fXrrR7VueaithZWrmx6Oqrw1FNw4IF147v2289+fv755NOL100XvOSxWVJNrOSxenXyUyq//Tbk5cEvflG37qCDrHG+MR/QSM89Z3cz7dtbkTsozwpwLl2++MI6nXToAL/+ddMat6dOtZkjfve7unV5eXDYYTB+vD1ONhnffWfv32ab6Nu95LEZqqiwdoiGSh6QfLvH+PHws59Z3++wli2tGuvNN+0uqjEmT4YTT7Qv0q9/Df/3f/DPfzYuLedywYoVdmGvrIQ//cmqls46q/HpjRtnr5E3dgCHHmrXhMmTk0tvzhx7XnmrVtG3d+hgzwryksdmJHwn0FDJA5Jr96iqgo8/hoMP3nTbL35hH6LPPks8vTBVOP98y+/rr8Ozz9oxLrsMFi9OPr1IU6fCUUfBvvvCE080LS3XvM2bZ1W0e+0Ft91mN2hNcc01NtPDv/8Nd9wBV15pjd3/+1/j0hs/3m6+6s8qcdBBdduTEa+bLljHm+JiDx6blXDw6NIl9j69etlrMiWPiROt6Dt06Kbbhg2zD9N//5t4emHvvGNfmKuugs6drah8zz0WrO66K/n0wj77DPbZx9ppysvh5JPhr39tfHphixZZXs88EyZMaHp6kZpzVV0qz33ZMrjhBhg1Cl57relpz5sHP/85vPSSla4vuaRppYSyMhsfNXIk7LGHrbvsMpsR4sYbk09v3Tp47726QBGpSxcLKh9/nFyac+bEbu8I69zZSlDZ5sEjRcrK7DVeyaNtW9hyy+RKHp9+aq8DB266rWtX+xK8+Wbi6YWNHm0f8JEj69b17w/HHgv33de4xsTqajj+eEt3yhQrgfzud3Z39/77yacXNm2aPQf+5put19mBBza+H32YqgXLHj2gTRs47rjUzBk0dar9TY880qoAk63zjmbaNDj9dDjiCPvfpCLNhx+Gnj2hoAB+9SvrkNEUM2faZ/Haa60d7YgjrPdRYwNIba1Vqa5aZTcin3xiF/qHHrL0G+PJJ+2Cf845devatbMbkjfeSL4n5McfWxtmtOABVlr6+OPE/warV9tNUrySB9gMFkEIHll/Nkcmlkw8z2PMGJuDf/bs+PvtvbfqAQckluaECRP0uONUe/WKvc8VV6jm56tWVCSe19WrVQsLVf/wh023ffSRnceDDyaeXthNN9l733yzbl1lpeV/111Va2oaTqP+cw+WL7dnoXTvrvr116pr1qieeKId5+mnk89j2IUXWhoHHKD6xz+qtmmjuu22qvPnNz7NZ55RbdVKtX171X79LP1DDlFdtSr+++I962HsWNXWrVWLilS3287SPPhg1aqqxufzqqssnX33VT33XPssbL216ty5jUtv5UrV7bdXLS5WnTTJnjtx7rl2jH/+M/p7Gnq+xUMP2fsfeaRu3fr1qnvsodqjh30OklFbq7rzzqqDB2+6bf58+w5dcUVyaV5zjWpenuqKFdG3P/BA3TUhked5TJ+e2Od6+HDV3XdPLq+NRZzneWT9wp6JJRPB46677K9ZVhZ/vxEjVHv2TCzNCRMmaN++qkcfHXufd96x4776asJZ1Zdf3vQiH1Zbq7rjjqp77pl4eqr2ZS4utg92fWPHbnohiKX+l+zkk+2LPXly3bp161R//nPVjh1VFy1KLp+qqo8/bvn54x9VN2ywdRMn2kV0n30s/WS9+65qy5aqQ4aoLltmf8cHH7SH9xx/vP0eS6wLy/vvW5r77qu6dKml8fDDdsH67W/jpxlL+H/x+9/XBfPPP7eAN2iQ6tq1yad53nmWp3feqVu3YYPqsGEWlOfN2/Q98S6m69apbrON6l57bXqO4c/7HXckl8ePP45/UzRsmN08JPM33Wcf+5vFMnWqHfPJJxMLHv/+t+3/8cfx9zvxRNXevRPPZ1N48MhA8LjuOvtrrl8ff7+rrrIvWiIXqH//+z0F1RtvjL1PdbV9Qc89N/G8jhih2rlz7DzcfrudyxdfJJ7m6NH2nsgLSFhtrd0x9u3bcOkj8ks2ebKlGe2OcMYMu8sfMSLxPKpasOnY0S7y9f9XTz9tx/vLX5JLs6rKLnb9+llJKdJf/hL/oqUa/cJSVWUltmhp/u1vluYDDySXz2XLVLt0sYty/SDxwgva4Gctmm++UW3RQvWMMzbdNm+eakGBBbr64l1MH33U8vL669G3Dx1qpY9kgvzpp6u2bRu7hB7+/EbepMRTWWnnffnlsfepqVFt186+m4kEj7vvtjwsXhx/v3POsc9wJnjwyEDwuOACq1poyCOPaELVW6qqd975uYLqf/8bf79hw6zaIBHV1ZbPkSNj77Nkid3xXnhhYmnW1qrusotVTcW6c3v+eTvv556Ln1bkl2zYMAtysb7w4eqX999PLJ+qqiedZOf29dfRtx99tAXjOXMST/OSS2Lno7bWLnYdOqguWBD9/dEuLBdfHD/NAw6In2Y0o0ZZKW7atOjbjz3WLvbffpt4mkcdZSW2WCXAa6+18/jgg43Xx7qY1tRY9dxuu8X+LL3yiqU5dmxieaystDyedlrsfcrKLBhcemliab7+uuVh3Lj4++2zj5UcEwkeF1xgwaah0s/VV1uJNlxqTicPHhkIHqedZvXGDZkwwf7qb7/d8L5nnTUroTuR226zNH/4oeE0X31VEwpIRx+t2rVrYnd348dbmqNHx94nfFH42c8Sq8IpLbU0b7019r5VVXYH+rOfJdae8t57luaVV8be54cf7EIzfHhiVRhTptgF+fTTI1Zu2GBReuVK1fJynT15hZa0Wq4n/7LM6p+WLLF/6qJFqj/+qB8+/7xFgfnzVRcu1GnjFmtxXpmed2q5neSaNVZMisjQzJnWFnLMMQ3nUdWqQkTi3xDMn2/nfsQRiaUZ/h/ddFPsfaqqVLfc0qoZI/+esS6m4Wq1eDcZNTWqffpYmokIlyo+/DD+fr/4hZX2Evm/X3ih/f1Xr46/39ln283a+PETGkzzyCPtJqwh4ZqBWG0tqRQveLTIamv9ZqS83AbwNCSZsR4zZxbRo4c9tzieQw6x17ffhtNOi7/v88/bYMNYPUTCTjsNXnzRxoD86lfx973rLutldsIJsffJz4dLL7VeQ2++aQO1YlG1HlpbbWWTzcXSrh3ceqv16Hr0UUs7lto1a/m/cyrYt6SCqw6rgAmV1r1l1Sp7Df3cY/Vq3hm4iomvr+b7Q1bTs8uquv2qq627TmjRdevoNn8dP9auo8tz6+Dp9batXneoPsAigNeArpvm7ef1ft8Fe9IZY0JLpLw8yM+nX4sWVNCCyhdasaa4gDYdC6zrVJSltnUBC98sYHSbAkbUtIHrC6GoyKZ5jnjtXlTEnWcWcs1tRbz1fCGHHl1ox4v296y13lRbb22D7WJp1w6uvx7OOANeftkGo8aiCn/5i/X6O/ro2Pvl58O558IFF9ggvGg9ESM9/LB1m9177/j7HXOMfYY+/9wG5cYzfrx1SW/TJv5+u+8O994LP/7YwI40PMYjLDxYeMWK6M8OyhQPHilSXp7YP7J7dxsdnshYj1mzChv8EAPssov1VR83Ln7wWLsWXnnFvsAtW8ZP87DDrFvxo4/GDx6zZ1uf/iuvtGtVPCedZFNW33hj3RiVaN58Ez780Lql/vTlrKmB5cutT3RZ2U8/H1e2nOqtK1h73krWTqig9ZoKG9obXlauhIoK8tau5acnhg2Jn8+BBQX0y2/L6tK21G7bjrzCtnYVbNfOOtm3agWtWjHzu1Z88F1LhhzYiq47t/pp/U9Ly5Z28RVhQ61w6+15rFot/PkqoU0bsT+ACDNnzWK77bcHEca9VctLz9cw8pQN/GzXGhsVVxPltaaGFmtreOup9eRVV3PMwGpa1lRbgKuutsnKVqyA6moqF1czuKya4sJqWj24Ou7Tik4PLfwmtKJtWwswHTvaVSv0iLuZiztx9GcdOez4TrR5utMm2+nUyea8ycvj97+HO++Eyy+HX/4y9mfv9detq/Ojj1qAiOe002zcz9//Hn8g6vTp1tX39ttjf97CjjrKgtwLL8QPHkuWWD4T6S6+++72OmtWYdz9VC14hG8E4wkHj/LyhvdNJw8eKVJeXjcxWjz5+da/vqGSR2Ul/PBD243GYcQiYqPD337b7ghj3CwyfrxdT3/zm+jbI7VoYQP8br/d+p5vuWX0/f7xD9s3kcFbrVpZX/0Lz13Hx88vYe8+S2yobERA6Dt1Kl+++xClBWUMGV0Gt4UCRkVF9HMHThFhpRax+t8daN2zg120ttgC+vWDDh1Y16YDd45uT17nDlx0fQfyOnWwC2I4ILRta0u7dtCmDZKfz5cfwJAhcPkx0Qc5zp8Pg3aEPQ+G378Vykgc+cDQfWzQW8X3cPfdddsWlpay3dChfPcdHHUBHPhL2P3RxNLseZyN5L+oh43Arm/hQth+e9j70NAkmoIFoKoqWyorN3n9amIlo++u4lcHVjJk96qfAjArVsDSpdTOnMUWc1ZwGeW0eHYDPBsjgyLQuTMtiov5IK+Y92cWM/uAruwwpJgeFRU2CrC4GIqL0eKu3HFdMb16FjFiRAMnjv2LTzvNxtLccos92zua0aMtWJ10UoNJUlxsg3Gff95ucGIFm3fesddELvQ77WTfj9mz4wePRYusgNu3b8Nphm9Ssz3WIyeDh4h0BkYDh2LPMb9CVZ/OZp7Ky+2DkohEnusxdSqoSkIlD7AP8lNP2aRvAwZE3+df/7KqtWhTnURz2mn2xXzySXvYTX3l5fDIIzbAbqv2VfDtYrstW7zYlig/n714MedQDr+NfswuBUX0rd6CDr27kNe1GLbvb6MOu3Sxu/7wz+GlUyekqIhLzszj0Ufhi3/ZxTLSxefBPyrhwzcgr34dUQz77mvnf9ttVi22665122prbRR1TY09X6WhO9qwvfayarh77rEAPiSiBLR+PZx6qgX+++5LPM199rG83HWXVRtGfl5qa+1Oet06qzr5Kc38fPsgxKhn3fEEmPM9HPYWfPOYDaSMdOUVNmDzo/8pe+1cZVexFSvsA1H/57IyWLaMzkuXssu8ObT76BP0k2X0Xb/eHo0ZIsA7wIb8luT3tIBC1672WlISdTnvD1twzz1teOABK9HWt2YNjBljJe2uUaoLozn2WLsRmj7dBqZG8/bbdgFP5LvZurU9/bOh4DF7tr326dNwmpHVVlkVqzEkyAvwDDAWKAT2BSqAnWLtn4kG886drQtdIs44w7pMxhMeN7JwYWJpzp8fv4F57Vrr3nfyyYmlpxs2qC5bpr8bMF1P6TlBa595VvXvf7fW5tNPVz3ySF2w9Z46h15aU9DWDh5t6dTJuoLtv7/qb36jes45+v5hN+gfeEAnX/2ytWLOmKG6ZImuqliv3bqt1h12aLjLc32LF1vvo2HDNm7wfOMNy0YyXZnDlixR7dbNGlF//NHW1daqXnaZpXnvvcmnWVFhjb3FxapffWXrxo2boCNHWppPPJF8msuXq261lXXYiBzkeM01lubddyef5pw51vPqsMM27ozw3nvW1Txez6VYwmMtrr2mVt977TXrcvjxx1rzymv65+5j9IZOt+n6iy6zroBHHWVdlfr1s0EoMT5fq1oU6bf5fXXD3vtYL4+zzrJ+8/ffr+PPeVH35kP96MnZ1nkhgZbwH3+0jgXXXht9e22t/Z3jjb2q75RTVDt3ro67T7h7ciK9MOfOtX0ffjjxPDQWm1NvK6AdsA7YLmLdE8DNsd6T7uBRW2tfqHi9eCLdfLP95eONCj/55IY/cPXtsIPqoYdG3/b666otWKdvjVmg+tlndlV97DGLNhdfbH1Yhw2zPpLdulm/xWhf2Px81S231A277KqlrQ/Rt0pOVL3oIht8MGaMdeP69FO7isUYcVZdbfGkV6+Ne4ycf74dIoFejVGF+8mfdZaN6v7Pf6ynyy67NH5E9iefWNfdHj3s//brX9sxRo1q3CA9VRsb0bVr3Sj/7bevULCux4312WeWXrduNrbkt7+1fJ56auPzef/9lsZJJ9m1t7TUbpL69LHfG+M3v7HuqM89V9f1KTwzwfPPx3njmjV21Zw40UbTPfyw6k036dxfnafPcJwu3H6ofQE6d459I9OmjX3o9tzTujb94Q/2R7/7buvmVVqq+tVXOnzvMt15p+h/tBkzLKn77kv8nO+8094TvgGJ5sor7auVSO/Gior4N4qpFC94iG3PHSKyO/ChqraNWHcxsL+qHhGxbhQwCqCkpGSPZ5+NVTHbdKtX5zN8+BDOPPNbjjuu4UmCSku7cv31O/HQQ5Po2zf6sypPO20QxcVV3Hrr13HTyquuptWKFbRcsYK3nijg+0nrufDEybRZWWbry8tptWIFGxaupP366OXc2pYtWde5M+s6dWJdp06s79jxp5/XFHXmuvt/zobijlxy6yJqOlgj6NNPb8NDD23LnXdOYbfdkm+5++KL9lx44W7ssMNKzj9/Fh98UMyYMb054ojvuPDCeUmnB3aFeOCBbRk7tu5hCL16reJvf5vGFls0/pGLM2cWcuut/Zk9u4g2bWo44YTvOeGE72O2LSViyZLW3HNPXz77rBMdO1Zz0kk/MGxY06Yz/vbbdtx6a3+++aY9BQUbOO64HzjppLkNNj7H89hjPRkzpm6mvm7d1nDbbVPZaqvYje7xLFjQhtNPH0hJySouv3wWX39dxD339H8WYCYAAB88SURBVGP//Zdy9dVfJVxdF6YKZ565BytWtOTxxz+hoKAWWb+ez97M44nbO3Hubyax17bf0WrFip+WlpE/V1QgUZ5psJ4WrO/YiQ1dO270nfhkbm9embgjI68oo3Dbwp+2aZw/8pQpHfjTn3bnb3+bxuDBy6Puc8MNOzBjRnueempig+dcWwuHHLI/J5zwPSNHJtDzpgkOOOCAT1U1an+2XAweQ4B/qeqWEev+AIxQ1aHR3jNw4ECdnOzE+kn44Qd7eMtDD8XvLho2eTIMGmSzhW7Sk2nDBlYvWMHAXssYcchUrjw9L347Qqwn2bRv/1PdcE2XLXj09RJKdi3hyNO3qKs33iL0c1FR3Er2hx6yevUHHrDXGTOse+RBB1nvrcZ69llrVwh3/hkxAk499V0OPnj/xieKTcL41lvWMeGEE6wtvKlUrYNXUVHsZy00VmlpKUOjTZvcSGVl1vu2devUpPfJJ9ajrls3m6ywqKhp6Y0fD0cdVcOqVdbkeuih1sOpMH6zQEzvv29P7zv/fGv7WbHC2v2KiqztsEW8lt0NG+wPFvHdKp+5hPuvX8zhP1vMgG5LNv7exXruc5cuG3+nIn5e1W4LDjyhhFMvLeGsa7eI+oEcNMia9BKd5LRLF5uE9N57E9u/sUQkZvDIxQbzKqB9vXXtgcos5AWo6zK3SVfd2lrbuGzZRsuOP5RxM8vo+9dl8GhofahhkeXLaavKVwBvhRaom8g//MHcc8+oH9IBh1qAuOO+un6zzz4Jo16B8bcCByZ/fiNHWmP72WfbbLkvv2yf/4j2zkY5/njrez9hgvUy2WcfePfdpt/MDBmycWN0KojEn24/SFKdz8GDbUmVgw6Cxx+fSFXVPnTrZh04ki1xRBoyBM47z7rtLlsGX35pMyQ//3wDgQOs88AWW2w0mKoj8OqbMHYNfP7vurzN/U4ZsO1Kbv7TEs46OiKg1L+h++wzew31EGwHTAS4JbQUFtrxIjp+nP5FF7batQvc22XTTiFdulhPwIg/UqdO2W8wz8XgMRNoISL9VHVWaN0AYHrKj6Rqt8Xl5Zsu4R4l5eV0nVHOWMo54K/lcEvE9uXLoz7mry1wAa1YM70YqkM9SwYMsA9JcTHvflXMgy90YdRVy9j/NwdYgCgubrDzeztg8LHwyNNw4212gVe1L1X//tGfCZKIvDwLHiNHWuljl13g8cc3fQBOY/Tsab2MXPPSufP6uAMBk3X77RYo7rvPela98krTAt7JJ8Mf/1hXqgF46GGhKq8Dwy/oANv0aziR6moLIkuWcMXvv6Fm4TpuvTgi2IRuGDd89Q3Hry2jw6SVMClGWq1abdTr8MFlXah5vxNc1NHuWjt0iP7asaMVwZpSdxlDzgUPVV0lIi8C/ycipwO7AUex6UDdpvvoI7sdjqeggI5tOrILHWm9riNsXWy30R06/NSH/aclFBwoLmavfduxVXfh9dc3TfKRU+CdLeH0A0s37iOagDPPhGeesYfeXHCBFYMnT7bibVPq6Dt0sDu5eONInMuWFi0sgNx6a2o+n6eeas8mueEGqwKtqLAbp+HDYz9ffBMFBbbzNttQvk8n/vnPPlw6ctNuw+9NsGfUvP2f9Rz8s+UbD4aNsfReP5N2S8rhgXKb/SCeY4+1u78Uy7ngEfJH4BFgCVAGnKWqqS95bLutjRALR/DwyNmOEdG+oIDnn7RBSDNftHFpiejT1x7yE83kyfZgncYU5YcMsTrka6+1QYuXXGJ5SmSwYSI8cLggS9Xns00buPpqqw678UYb97F8uU210hj9+9vT1SZNgsMP33jb9NCVa8cBLeuqohtwwVE2xnLKFGyQ0MqVdbUiFRUb/5zInCeNkJPBQ1WXAw3MuJQCW25pcyo0IGabRxy77mpzR1VVbdxQWFVlDdKJjAKPRsRG3Q4ZAr/9rZVY33kndY2nzjUXZ59t351rrrHf//KXuulGktW/fxV5ebGDR8eOsUfJR9O+fcTTPlu2rKvSyqCcDB5BE545I5GJEcN2283aI774YuMJ26ZMsaqhhiZ7i6d3b0v33XetXT2ZD6VzzuTlWVXtO+9YhUNTvpNt2mxghx0seNQ3fbrNTpFMTcNGwSNLvBIiBcrLrXE6mS6cu+1mr1OmbLz+gw/sdc89m5anTp2sG7AHDucaLz/fpv5pSuAIGzTIgkfk6IjaWutOvMsuyaUVDh7ZHGnhwSMFKirsn5mMrbe2C3z94PHeezYXTqJz8TjncsNee1lHq1mz6tbNmGFBINmbxfbtrakj1rCTTPDgkQKVlckPnBKxRvGPP65bV1NjJY9w10Dn3OYjPCHp22/XrZsYGlDemOAB2a268uCRAo0JHgAHHGA9rpYutd8nTbK09m/aAGvnXAD16WPtkePG1a378ENrK+3fP7m0wsGjMmtDoz14pERVVeOCx4Gh0d4TJtjryy9bf/V4T9lzzuWuQw6x6VnWrLH2iv/+10okyXYxDl9vvOSR4yorGzcvz8CB1rbx3HM2xc7YsRZQsvloSedc+hx3nF0vXnrJ5gxbuNAGHiYrCNVW3lU3BSorYbvtkn9fixY2uPAf/4A//9kG/dxxR+rz55wLhqFDrerqlltsEG+7dvGf1x5LEIKHlzxSoP5Av2RcdJF9gG65xcZ7HHVUavPmnAuOvDybQmXqVPjPf+DSS5MbHxYWhODhJY8UaGyDOdjkghMnQmmpFWnTMH+Zcy5AjjnGGs3Lymzaqcbw4LEZqK21ecma8oyD7bZrXLWXcy43HXRQ094fhODh1VZNtHq19ZpobLWVc84lq00bq6Xw4JHDwv2sm/p0NeecS5RI9ue38uDRROGnwHrJwzmXSe3b+yDBnOYlD+dcNnjJI8d58HDOZYMHjxzn1VbOuWzw4JHjvOThnMsGDx5JEJFSEakWkarQ8k228+QlD+dcNnjwSN45qloYWpKcyDj1vOThnMuGoiIPHjktHDy85OGcy6SiIpvdorY2O8fPxelJ/ioiNwPfAFeqamm0nURkFDAKoKSkhNLSqLs12VdfbUurVt354IP3U552VVVV2vIdVH7OzUNzO+d0nO/ixVsDfXjzzfdp02ZDStNOiKrmzALsCRQBrYFTgEqgT0Pv22OPPTRdzjxTtWvX9KQ9YcKE9CQcYH7OzUNzO+d0nO/996uC6sKFKU/6J8BkjXFdDUy1VagxXGMsHwCo6kRVrVTVtar6GPAhcHg2892UGXWdc66xwtedcKedTAtMtZWqDm3M2wBJcVaS0pRneTjnXGOFrzvZCh6BKXk0REQ6isgwESkQkRYiMgLYD3gjm/nykodzLhvCwSNb81sFpuSRgJbAjcD2wAZgBvArVZ2ZzUxVVUGnTtnMgXOuOfJqqwSp6lJgULbzUV9lJWyzTbZz4ZxrbrzaKsd5tZVzLhuyXW3lwaOJvMHcOZcN2a628uDRBKpe8nDOZUe7dvbqwSMHVVfDhg1e8nDOZV6rVrZ4tVUOCkd8L3k457KhqMhLHjnJZ9R1zmVTYaEHj5zkz/JwzmVTYaFXW+UkL3k457LJSx45yoOHcy6bvM0jR3m1lXMum7zaKkd5ycM5l01ebZWj/BG0zrls8mqrHOXjPJxz2eTVVjmqshJatoTWrbOdE+dcc1RYaDNd1NRk/tgJT8kuIgXA3kAvoA2wFPhMVb9NT9aCzydFdM5lU7jWY9Uq6NAhs8duMHiIyD7A+cAR2AOZKoA1QGegtYjMAR4E/qmqWSpAZYdPiuicy6bIadkzHTziVluJyKvAc8A84FCgSFW7qGoPVW0L9MOe7ncQMFNEDkl3hoOkstJLHs657MnmA6EaKnm8ARyrquuibVTVOcAc4DER2QnYKsX5C7SqKi95OOeyJ5vP9Ihb8lDV+2IFjij7TlfVt5uSGRE5R0Qmi8haERkTZftBIjJDRFaLyAQR6dmU4zWVV1s557Ipm08TTLi3lYjMEZEuUdZ3DLV7pMJCrBrskSjHKQZeBK7G2lsmA2NTdNxG8Wor51w2BbnaKlIvID/K+tZA91RkRlVfBBCRgUCPepuPBqar6r9C+1wHLBOR7VV1RiqOnyyvtnLOZVM2q60S6W11dMSvw0WkIuL3fKyxfG6K8xXNTsDU8C+qukpEvg2t3yR4iMgoYBRASUkJpaWlKc/Q8uX7sHLlEkpLZ6U8bYCqqqq05DvI/Jybh+Z2zuk636VLWwE/Z/Lkb+jW7ceUpx9PIiWP50OvCoyut209FjguSmGeYinExpZEqgCi3vur6oNYF2IGDhyoQ4cOTXmG1q6F/v27M3RoSgpemygtLSUd+Q4yP+fmobmdc7rOtyJ0K9+9e3+GDu2f8vTjabDNQ1XzVDUP+B7YIvx7aGmtqv1V9bWG0hGRUhHRGMsHCeS1Cmhfb117ICtjS9avt+Dh1VbOuWzJiTYPVe3dlAOp6tCmvB+YDpwS/kVE2gF9QuszzidFdM5lW34+tGkTwN5WInKiiEgiCYlITxEZ0pTMiEiL0DQo+UC+iBSISDjAvQTsLCLHhPa5BpiWzcZy8JKHcy67sjUte0PVVr8HvhGRP4vILvUDiYh0FpEjReQ5YBLQ1AHyV2FTn1wOnBj6+SoAVV0KHAPcBKwA9gSOb+LxGs2f5eGcC4JsBY+41VaqeqCIDAfOA24AqkVkCVANdAK6AkuAR4GzQxf4RlPV64Dr4mwfB2zflGOkildbOeeCoKgoO9VWDbZ5qOrrwOuhQXpDgG2wWXWXAZ8Dn6tqbVpzGUBebeWcC4JAljzq2V9VX4i2QUQuU9W/pShPOcFLHs65ICgsrOuym0nJPAzqSRF5WETahleISA8RmQD8KfVZCzYveTjngiBb1VbJBI89gb2AKSIyUESOA6Zh7R8D0pG5IPMGc+dcEAS+2kpVp4XmnLoP+AgbcX6xqt6drswFmVdbOeeCIKhddesbAOwPzAbWAYNFpFnee1dVQV4etG3b8L7OOZcuga+2EpFrgPeAV7AgsgfWbfaLpg4OzEXh6dgTG0LpnHPpUVho0yWtS+jJS6mTTMnjTOAIVb1QVdep6jdYG8izwLi05C7A/FkezrkgyNYDoZLpqrurqi6LXKGqNcDlIvKf1GYr+PxZHs65IIh8pkeXTR7Xlz4JlzzqB456295LTXZyh5c8nHNBEA4emS55JNtg7kL8+eXOuSDIVrWVB49G8mor51wQeMkjx3i1lXMuCDx45BgveTjngiCywTyTPHg0kpc8nHNB4CWPHLJhA6xe7SUP51z2eYN5DvEZdZ1zQVFQYM8y9+CRA3xGXedcUIhkZ36rQAUPETlHRCaLyFoRGVNvWy8RURGpiliuzkY+veThnAuSoqLMN5gnMz1JJiwEbgSGYY+6jaZjaFqUrPHp2J1zQZKNkkeggoeqvggQem5IjyxnJyavtnLOBUmzDx4JmiciCrwNXBJrzi0RGQWMAigpKaG0tDRlGfjf/7oAu/DNN5OB9JUVq6qqUprvXODn3Dw0t3NO9/muXz+ABQvyKC39PG3HqC+XgscyYBAwBegC3As8hVVxbUJVHwQeBBg4cKAOHTo0ZRmZP99eDzhgINttl7JkN1FaWkoq850L/Jybh+Z2zuk+3222gdmzyejfNGMN5iJSGmrwjrZ80ND7VbVKVSerao2qLgbOAQ7NxpMMvdrKORckm3WDuaoOTXWSodeM9xjz4OGcC5Jm3+YhIi2wPOUD+SJSANSoao2I7AmUA7OATsDdQKmqVmQ6n1VV1rfan1/unAuCZj/OA7gKWANcDpwY+vmq0LZtgTeASuBLYC3wuyzkkcpKaNcO8oL213PONUuFhfYM80w+xzxQJQ9VvQ64Lsa2Z4BnMpmfWPxBUM65IImcHDFTj6L1e+dG8ODhnAuSbEzL7sGjETx4OOeCJBvTsnvwaAQPHs65IPHgkSM8eDjngsSDR47w4OGcC5JsPBDKg0cj+PPLnXNB4g3mOcKfX+6cCxKvtsoBNTWwZo2XPJxzweHBIwf4UwSdc0HTujW0aOHBI9B8UkTnXNBk4znmHjyS5MHDORdEhYXeYB5oHjycc0HkJY+A8zYP51wQefAIuPA/x7vqOueCxINHwHm1lXMuiDx4BJwHD+dcEHmDecB58HDOBZGXPAKustKfX+6cC55mGzxEpLWIjBaReSJSKSJTROQX9fY5SERmiMhqEZkgIj0znc+VK6F9ewsgzjkXFEVFmX2OeWCCB/Y89R+A/YEOwFXAcyLSC0BEioEXgauBzsBkYGymM1lRAR06ZPqozjkXX6bntwpM8FDVVap6narOVdVaVX0N+A7YI7TL0cB0Vf2XqlYD1wEDRGT7TObTg4dzLogyPS17i8wcJnkiUgJsB0wPrdoJmBrerqqrROTb0PoZUd4/ChgFUFJSQmlpaUryNW/eAEAoLZ2SkvTiqaqqSlm+c4Wfc/PQ3M45E+f7/ffFwM6MGzeJPn1WpfVYENDgISItgaeAx1Q1HBgKgaX1dq0AovZ7UtUHgQcBBg4cqEOHDk1R3mCbbSBV6cVTWlqakeMEiZ9z89DczjkT51tTY6/bbTeIIUPSeiggg9VWIlIqIhpj+SBivzzgCWAdcE5EElVA+3rJtgcy2L/Aq62cc8HUsaO9VlRk5ngZK3mo6tCG9hERAUYDJcDhqro+YvN04JSIfdsBfair1soIDx7OuSAKX5fKyzNzvMA0mIfcD+wAHKGqa+ptewnYWUSOEZEC4BpgWkS1VtqpevBwzgVTuOTR7IJHaMzGGcBuwCIRqQotIwBUdSlwDHATsALYEzg+k3lcs8bqFT14OOeCJnxd2uyqrRqiqvOAuEPvVHUckNGuuZHC/xQPHs65oGnVCtq0aYYlj1zgwcM5F2QdOmSu5OHBIwkePJxzQdaxo5c8AsmDh3MuyLzkEVAePJxzQeYlj4Dy4OGcCzIveQSUBw/nXJB5ySOgKipsbit/iqBzLoi85BFQFRUWOPL8r+acC6COHaG62pZ088tgEnxqEudckGVyckQPHklYvhy6dMl2LpxzLrpMTlESmOlJcsHy5dC5c7Zz4TJt/fr1zJ8/n+o01QV06NCBr7/+Oi1pFxQU0KNHD1q2bJmW9F2wZHJyRA8eSSgrg513znYuXKbNnz+foqIievXqhT01ILUqKyspSkMvDFWlrKyM+fPn07t375Sn74InkyUPr7ZKgldbNU/V1dV06dIlLYEjnUSELl26pK3E5IKnUyd7Xb48/cfy4JEgVa+2as5yLXCE5Wq+XeMUF9trWVn6j+XBI0GVlfYsDw8ezrmgCl+fli1L/7E8eCQoXAz0aivnXFC1bGntHh48AiQcPLzk4ZwLsuLizAQP722VoHAdogeP5u2CC2DKlNSmueOOrbnvvtjbJ02axMiRI/nkk0/YsGEDgwcP5umnn+bvf/87X375JevXr+e6667jqKOOSm3GXE5qdsFDRFoD9wEHA52Bb4ErVPW/oe29gO+AVRFv+5uq3pCJ/HnJw2XLoEGDOPLII7nqqqtYs2YNJ554ImPHjuXAAw/kkUceoby8nMGDB3PwwQfTrl27bGfXZVlxMfz4Y/qPE5jggeXlB2B/4HvgcOA5EdlFVedG7NdRVWsynTlv83AAd92V+jQrK9cCreLuc8011zBo0CAKCgq4++672XPPPXn11Ve57bbbAOtO/P3337PDDjukPoMup3TpAl98kf7jBCZ4qOoq4LqIVa+JyHfAHsDcbOQpUrgYGO5H7VwmlZWVUVVVxfr166murkZVeeGFF+jfv3+2s+YCJlPVVqKq6T9KI4hICTAP2E1VZ0RUWy0EFHgbuERVo/6ZRGQUMAqgpKRkj2effbZJ+fn73/sxfvwWvPrqh01KJxlVVVUUFhZm7HhBEMRz7tChA3379k1b+hs2bCA/Pz/uPscddxzHHHMM8+bNY9GiRbRv356VK1dy2223ISJMnTqVAQMGRH3v7NmzqcjUPN0JCuL/OZ0yeb5PPbUNDz+8Lf/973sUFNQ2Ka0DDjjgU1UdGHWjqgZuAVoC44AHItYVAgOx0lIJ8DzwZiLp7bHHHtpUxxyjusMOTU4mKRMmTMjsAQMgiOf81VdfpTX9lStXxt3+2GOP6dFHH62qqjU1NTp48GB97bXXdNSoUbrzzjvrjjvuqMOHD4/5/nTnvzGC+H9Op0ye74MPqoLq9983PS1gssa4rmas2kpESrH2jGg+VNV9Q/vlAU8A64BzwjuoahUwOfTrYhE5B/hRRIpUtTJtGQ8fcDGUlKT7KM5t6uSTT+bkk08GID8/n4kTJwIwfPjwbGbLBVS4XXbZMth66/QdJ2PBQ1WHNrSP2FwKo7GSxeGquj5ekqHXjIxVWbQIBkYvvDnnXGCEb3IXLUrvcQLTYB5yP7ADcLCqroncICJ7AuXALKATcDdQqqoZqcz1kodzLhd0726vCxak9ziBGWEuIj2BM4DdgEUiUhVaRoR22RZ4A6gEvgTWAr/LRN5Wr7a5rbbcMhNHc865xttqK3tNd/AITMlDVecBMacAVdVngGcyl6M6ixfbq5c8nHNB16oVbLFFMyp5BNnChfbarVt28+Gcc4no3t2DRyDMnWuvvXplMxfOOZcYDx4BMW+evW6zTXbz4ZxzifDgERBz51odYtu22c6Jc841rEcPG+exenX6jhGYBvMgmzvXq6xcSBrmZG+9447Em5M92pTsY8eOZeedd05pPtzmY7vt7HXWLIgxa02TefBIwKxZsPfe2c6Fa66iTcnugcPFs/329jpjhgePrKmosJLHGWdkOycuENIwJ/vaysoGJmTfdEp25+Lp1w9ELHiki7d5NGDaNHvdddfs5sM1b+Ep2SsrK6murs52dlzAtWkDffvCZ5+l7xgePBrwzjsWwQcPznZOXHN2xhlncMMNNzBixAguu+yybGfH5YChQ+Hdd6EmTY/O8+ARx+TJVkux3372gBXnsuHxxx+nZcuWnHDCCVx++eVMmjSJd955J9vZcgF35JFW7X722elJ39s84th2WytxpOPRo84lKtaU7M7FM3w4XHll+qZV8uARR+fO8Oab2c6Fc84lTwRuvDF96Xu1lXPOuaR58HAuAfZEztyTq/l2wefBw7kGFBQUUFZWlnMXYlWlrKyMgoKCbGfFbYa8zcO5BvTo0YP58+ezdOnStKRfXV2dtgt8QUEBPXr0SEvarnnz4OFcA1q2bEnv3r3Tln5paSm777572tJ3Lh282so551zSPHg455xLmgcP55xzSZNc60HSGCKyFJiX7Xw0QjGwLNuZyDA/5+ahuZ1zrp5vT1XtGm1DswgeuUpEJqvqwGznI5P8nJuH5nbOm+P5erWVc865pHnwcM45lzQPHsH2YLYzkAV+zs1Dczvnze58vc3DOedc0rzk4ZxzLmkePJxzziXNg4dzzrmkefAIMBFpLSKjRWSeiFSKyBQR+UW285VuInKOiEwWkbUiMibb+UkXEeksIi+JyKrQ//iEbOcpnZrL/zXS5vwd9ll1g60F8AOwP/A9cDjwnIjsoqpzs5mxNFsI3AgMA9pkOS/pdC+wDigBdgNeF5Gpqjo9u9lKm+byf4202X6HvbdVjhGRacD1qvpCtvOSbiJyI9BDVU/Ndl5STUTaASuAnVV1ZmjdE8ACVb08q5lLs835/5qIzeU77NVWOURESoDtgM31zrQ52Q6oCQeOkKnATlnKj8uAzek77MEjR4hIS+Ap4DFVnZHt/LgmKwRW1ltXARRlIS8uAza377AHjywSkVIR0RjLBxH75QFPYPXj52QtwymQ6Dk3A1VA+3rr2gOVWciLS7PN6Tsc5g3mWaSqQxvaR0QEGI01qh6uquvTna90SuScm4mZQAsR6aeqs0LrBrAZVGe4jW1u3+EwL3kE3/3ADsARqrom25nJBBFpISIFQD6QLyIFIrJZ3eio6irgReD/RKSdiOwDHIXdnW6WmsP/NYbN8jvswSPARKQncAbWjXORiFSFlhFZzlq6XQWsAS4HTgz9fFVWc5Qef8S6rC4BngHO2oy76ULz+b/+ZHP+DntXXeecc0nzkodzzrmkefBwzjmXNA8ezjnnkubBwznnXNI8eDjnnEuaBw/nnHNJ8+DhXAaIyNCIaVjeSPA9vSLe82W68+hcMjx4OJcGoTm87omyaSfgdwkm8wPQDbg9ZRlzLkU8eDiXWUtUdUUiO6rqBlVdhE2i6FygePBwLsVCj1jdHzg7XO0E9Iqx7y4iMl5EVoamrZgqIgdkMLvONUpzmJTMuUw7H3vgzwzgz6F1sR7y9DT2EKjBQA2wC1Cd7gw611QePJxLMVWtEJF1wOpQtRMisn2M3XsCt0U8HGh2JvLoXFN5tZVz2XUH8LCIvCMiV8YJMs4FigcP57JIVa8DdgReBn4OTBOR32c1U84lwIOHc+mxDnvoUYNUdZaq3q2qw7Enzp2e1pw5lwLe5uFceswFBotIL6yr7SY3aiLSBrgN+Fdo/xJgX2BihvLoXKN5ycO59LgNK318BSwFtomyzwagEzAG+AZ4CfgIuDAzWXSu8bzk4VwaqOpMYO/w7yIyNMo+64ATMpgt51LGSx7OZdZcEXkpkR1FZBsRqaJurIhzgeHPMHcuA0LtG91Dv65S1R8TeE8L6kamr1XVH9KUPeeS5sHDOedc0rzayjnnXNI8eDjnnEuaBw/nnHNJ8+DhnHMuaR48nHPOJe3/AYHIlU9P3O5vAAAAAElFTkSuQmCC\n",
                "text/plain": "<Figure size 432x288 with 1 Axes>"
              }
            ],
            "_view_module": "@jupyter-widgets/output",
            "_model_module_version": "1.0.0",
            "_view_count": null,
            "_view_module_version": "1.0.0",
            "layout": "IPY_MODEL_46aae0ee08d44c0aa3af9d236327815a",
            "_model_module": "@jupyter-widgets/output"
          }
        },
        "ddc3caab416a4b8db4fefffea30294f0": {
          "model_module": "@jupyter-widgets/controls",
          "model_name": "SliderStyleModel",
          "state": {
            "_view_name": "StyleView",
            "handle_color": null,
            "_model_name": "SliderStyleModel",
            "description_width": "",
            "_view_module": "@jupyter-widgets/base",
            "_model_module_version": "1.5.0",
            "_view_count": null,
            "_view_module_version": "1.2.0",
            "_model_module": "@jupyter-widgets/controls"
          }
        },
        "c5c125e95c63469182431d63f33ecd92": {
          "model_module": "@jupyter-widgets/base",
          "model_name": "LayoutModel",
          "state": {
            "_view_name": "LayoutView",
            "grid_template_rows": null,
            "right": null,
            "justify_content": null,
            "_view_module": "@jupyter-widgets/base",
            "overflow": null,
            "_model_module_version": "1.2.0",
            "_view_count": null,
            "flex_flow": null,
            "width": null,
            "min_width": null,
            "border": null,
            "align_items": null,
            "bottom": null,
            "_model_module": "@jupyter-widgets/base",
            "top": null,
            "grid_column": null,
            "overflow_y": null,
            "overflow_x": null,
            "grid_auto_flow": null,
            "grid_area": null,
            "grid_template_columns": null,
            "flex": null,
            "_model_name": "LayoutModel",
            "justify_items": null,
            "grid_row": null,
            "max_height": null,
            "align_content": null,
            "visibility": null,
            "align_self": null,
            "height": null,
            "min_height": null,
            "padding": null,
            "grid_auto_rows": null,
            "grid_gap": null,
            "max_width": null,
            "order": null,
            "_view_module_version": "1.2.0",
            "grid_template_areas": null,
            "object_position": null,
            "object_fit": null,
            "grid_auto_columns": null,
            "margin": null,
            "display": null,
            "left": null
          }
        },
        "46aae0ee08d44c0aa3af9d236327815a": {
          "model_module": "@jupyter-widgets/base",
          "model_name": "LayoutModel",
          "state": {
            "_view_name": "LayoutView",
            "grid_template_rows": null,
            "right": null,
            "justify_content": null,
            "_view_module": "@jupyter-widgets/base",
            "overflow": null,
            "_model_module_version": "1.2.0",
            "_view_count": null,
            "flex_flow": null,
            "width": null,
            "min_width": null,
            "border": null,
            "align_items": null,
            "bottom": null,
            "_model_module": "@jupyter-widgets/base",
            "top": null,
            "grid_column": null,
            "overflow_y": null,
            "overflow_x": null,
            "grid_auto_flow": null,
            "grid_area": null,
            "grid_template_columns": null,
            "flex": null,
            "_model_name": "LayoutModel",
            "justify_items": null,
            "grid_row": null,
            "max_height": null,
            "align_content": null,
            "visibility": null,
            "align_self": null,
            "height": null,
            "min_height": null,
            "padding": null,
            "grid_auto_rows": null,
            "grid_gap": null,
            "max_width": null,
            "order": null,
            "_view_module_version": "1.2.0",
            "grid_template_areas": null,
            "object_position": null,
            "object_fit": null,
            "grid_auto_columns": null,
            "margin": null,
            "display": null,
            "left": null
          }
        },
        "7cf63996f4d24b46ba235bea0f737f44": {
          "model_module": "@jupyter-widgets/controls",
          "model_name": "VBoxModel",
          "state": {
            "_view_name": "VBoxView",
            "_dom_classes": [
              "widget-interact"
            ],
            "_model_name": "VBoxModel",
            "_view_module": "@jupyter-widgets/controls",
            "_model_module_version": "1.5.0",
            "_view_count": null,
            "_view_module_version": "1.5.0",
            "box_style": "",
            "layout": "IPY_MODEL_e32479ce685c4387974beef958bb66e3",
            "_model_module": "@jupyter-widgets/controls",
            "children": [
              "IPY_MODEL_b135771d6c2d4341a0f0cbdca05a2fb7",
              "IPY_MODEL_39448f4d20cb48efae5a55db9e32b1a7"
            ]
          }
        },
        "e32479ce685c4387974beef958bb66e3": {
          "model_module": "@jupyter-widgets/base",
          "model_name": "LayoutModel",
          "state": {
            "_view_name": "LayoutView",
            "grid_template_rows": null,
            "right": null,
            "justify_content": null,
            "_view_module": "@jupyter-widgets/base",
            "overflow": null,
            "_model_module_version": "1.2.0",
            "_view_count": null,
            "flex_flow": null,
            "width": null,
            "min_width": null,
            "border": null,
            "align_items": null,
            "bottom": null,
            "_model_module": "@jupyter-widgets/base",
            "top": null,
            "grid_column": null,
            "overflow_y": null,
            "overflow_x": null,
            "grid_auto_flow": null,
            "grid_area": null,
            "grid_template_columns": null,
            "flex": null,
            "_model_name": "LayoutModel",
            "justify_items": null,
            "grid_row": null,
            "max_height": null,
            "align_content": null,
            "visibility": null,
            "align_self": null,
            "height": null,
            "min_height": null,
            "padding": null,
            "grid_auto_rows": null,
            "grid_gap": null,
            "max_width": null,
            "order": null,
            "_view_module_version": "1.2.0",
            "grid_template_areas": null,
            "object_position": null,
            "object_fit": null,
            "grid_auto_columns": null,
            "margin": null,
            "display": null,
            "left": null
          }
        },
        "b135771d6c2d4341a0f0cbdca05a2fb7": {
          "model_module": "@jupyter-widgets/controls",
          "model_name": "IntSliderModel",
          "state": {
            "_view_name": "IntSliderView",
            "style": "IPY_MODEL_c5de645801c043039bd4d893daac41f3",
            "_dom_classes": [],
            "description": "n",
            "step": 1,
            "_model_name": "IntSliderModel",
            "orientation": "horizontal",
            "max": 20,
            "_view_module": "@jupyter-widgets/controls",
            "_model_module_version": "1.5.0",
            "value": 1,
            "_view_count": null,
            "disabled": false,
            "_view_module_version": "1.5.0",
            "min": -20,
            "continuous_update": true,
            "readout_format": "d",
            "description_tooltip": null,
            "readout": true,
            "_model_module": "@jupyter-widgets/controls",
            "layout": "IPY_MODEL_5c1a220564af4f2a8db3330668892597"
          }
        },
        "39448f4d20cb48efae5a55db9e32b1a7": {
          "model_module": "@jupyter-widgets/output",
          "model_name": "OutputModel",
          "state": {
            "_view_name": "OutputView",
            "msg_id": "",
            "_dom_classes": [],
            "_model_name": "OutputModel",
            "outputs": [
              {
                "output_type": "display_data",
                "metadata": {
                  "tags": [],
                  "needs_background": "light"
                },
                "image/png": "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\n",
                "text/plain": "<Figure size 432x288 with 1 Axes>"
              }
            ],
            "_view_module": "@jupyter-widgets/output",
            "_model_module_version": "1.0.0",
            "_view_count": null,
            "_view_module_version": "1.0.0",
            "layout": "IPY_MODEL_52ac6e8b42e34fa8b8a7895e8338c3c6",
            "_model_module": "@jupyter-widgets/output"
          }
        },
        "c5de645801c043039bd4d893daac41f3": {
          "model_module": "@jupyter-widgets/controls",
          "model_name": "SliderStyleModel",
          "state": {
            "_view_name": "StyleView",
            "handle_color": null,
            "_model_name": "SliderStyleModel",
            "description_width": "",
            "_view_module": "@jupyter-widgets/base",
            "_model_module_version": "1.5.0",
            "_view_count": null,
            "_view_module_version": "1.2.0",
            "_model_module": "@jupyter-widgets/controls"
          }
        },
        "5c1a220564af4f2a8db3330668892597": {
          "model_module": "@jupyter-widgets/base",
          "model_name": "LayoutModel",
          "state": {
            "_view_name": "LayoutView",
            "grid_template_rows": null,
            "right": null,
            "justify_content": null,
            "_view_module": "@jupyter-widgets/base",
            "overflow": null,
            "_model_module_version": "1.2.0",
            "_view_count": null,
            "flex_flow": null,
            "width": null,
            "min_width": null,
            "border": null,
            "align_items": null,
            "bottom": null,
            "_model_module": "@jupyter-widgets/base",
            "top": null,
            "grid_column": null,
            "overflow_y": null,
            "overflow_x": null,
            "grid_auto_flow": null,
            "grid_area": null,
            "grid_template_columns": null,
            "flex": null,
            "_model_name": "LayoutModel",
            "justify_items": null,
            "grid_row": null,
            "max_height": null,
            "align_content": null,
            "visibility": null,
            "align_self": null,
            "height": null,
            "min_height": null,
            "padding": null,
            "grid_auto_rows": null,
            "grid_gap": null,
            "max_width": null,
            "order": null,
            "_view_module_version": "1.2.0",
            "grid_template_areas": null,
            "object_position": null,
            "object_fit": null,
            "grid_auto_columns": null,
            "margin": null,
            "display": null,
            "left": null
          }
        },
        "52ac6e8b42e34fa8b8a7895e8338c3c6": {
          "model_module": "@jupyter-widgets/base",
          "model_name": "LayoutModel",
          "state": {
            "_view_name": "LayoutView",
            "grid_template_rows": null,
            "right": null,
            "justify_content": null,
            "_view_module": "@jupyter-widgets/base",
            "overflow": null,
            "_model_module_version": "1.2.0",
            "_view_count": null,
            "flex_flow": null,
            "width": null,
            "min_width": null,
            "border": null,
            "align_items": null,
            "bottom": null,
            "_model_module": "@jupyter-widgets/base",
            "top": null,
            "grid_column": null,
            "overflow_y": null,
            "overflow_x": null,
            "grid_auto_flow": null,
            "grid_area": null,
            "grid_template_columns": null,
            "flex": null,
            "_model_name": "LayoutModel",
            "justify_items": null,
            "grid_row": null,
            "max_height": null,
            "align_content": null,
            "visibility": null,
            "align_self": null,
            "height": null,
            "min_height": null,
            "padding": null,
            "grid_auto_rows": null,
            "grid_gap": null,
            "max_width": null,
            "order": null,
            "_view_module_version": "1.2.0",
            "grid_template_areas": null,
            "object_position": null,
            "object_fit": null,
            "grid_auto_columns": null,
            "margin": null,
            "display": null,
            "left": null
          }
        },
        "e5717ed1c5c94bf5b09c3655b3f5b98e": {
          "model_module": "@jupyter-widgets/controls",
          "model_name": "VBoxModel",
          "state": {
            "_view_name": "VBoxView",
            "_dom_classes": [
              "widget-interact"
            ],
            "_model_name": "VBoxModel",
            "_view_module": "@jupyter-widgets/controls",
            "_model_module_version": "1.5.0",
            "_view_count": null,
            "_view_module_version": "1.5.0",
            "box_style": "",
            "layout": "IPY_MODEL_17b4309aa9914d3fa64fefe673d1c408",
            "_model_module": "@jupyter-widgets/controls",
            "children": [
              "IPY_MODEL_3e89f22059a641018b3f6ed1c66d95e1",
              "IPY_MODEL_f4272ffdf6d447a38c87443fcb3c78f7"
            ]
          }
        },
        "17b4309aa9914d3fa64fefe673d1c408": {
          "model_module": "@jupyter-widgets/base",
          "model_name": "LayoutModel",
          "state": {
            "_view_name": "LayoutView",
            "grid_template_rows": null,
            "right": null,
            "justify_content": null,
            "_view_module": "@jupyter-widgets/base",
            "overflow": null,
            "_model_module_version": "1.2.0",
            "_view_count": null,
            "flex_flow": null,
            "width": null,
            "min_width": null,
            "border": null,
            "align_items": null,
            "bottom": null,
            "_model_module": "@jupyter-widgets/base",
            "top": null,
            "grid_column": null,
            "overflow_y": null,
            "overflow_x": null,
            "grid_auto_flow": null,
            "grid_area": null,
            "grid_template_columns": null,
            "flex": null,
            "_model_name": "LayoutModel",
            "justify_items": null,
            "grid_row": null,
            "max_height": null,
            "align_content": null,
            "visibility": null,
            "align_self": null,
            "height": null,
            "min_height": null,
            "padding": null,
            "grid_auto_rows": null,
            "grid_gap": null,
            "max_width": null,
            "order": null,
            "_view_module_version": "1.2.0",
            "grid_template_areas": null,
            "object_position": null,
            "object_fit": null,
            "grid_auto_columns": null,
            "margin": null,
            "display": null,
            "left": null
          }
        },
        "3e89f22059a641018b3f6ed1c66d95e1": {
          "model_module": "@jupyter-widgets/controls",
          "model_name": "IntSliderModel",
          "state": {
            "_view_name": "IntSliderView",
            "style": "IPY_MODEL_4e837392f4d441eab18be72e79eb7aa2",
            "_dom_classes": [],
            "description": "Na",
            "step": 1,
            "_model_name": "IntSliderModel",
            "orientation": "horizontal",
            "max": 20,
            "_view_module": "@jupyter-widgets/controls",
            "_model_module_version": "1.5.0",
            "value": 19,
            "_view_count": null,
            "disabled": false,
            "_view_module_version": "1.5.0",
            "min": 1,
            "continuous_update": true,
            "readout_format": "d",
            "description_tooltip": null,
            "readout": true,
            "_model_module": "@jupyter-widgets/controls",
            "layout": "IPY_MODEL_931edbf808ce48ba90cf5107d8083f19"
          }
        },
        "f4272ffdf6d447a38c87443fcb3c78f7": {
          "model_module": "@jupyter-widgets/output",
          "model_name": "OutputModel",
          "state": {
            "_view_name": "OutputView",
            "msg_id": "",
            "_dom_classes": [],
            "_model_name": "OutputModel",
            "outputs": [
              {
                "output_type": "display_data",
                "metadata": {
                  "tags": [],
                  "needs_background": "light"
                },
                "image/png": "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\n",
                "text/plain": "<Figure size 432x288 with 1 Axes>"
              }
            ],
            "_view_module": "@jupyter-widgets/output",
            "_model_module_version": "1.0.0",
            "_view_count": null,
            "_view_module_version": "1.0.0",
            "layout": "IPY_MODEL_591595bcd9a948e29ff630b10fcc24f2",
            "_model_module": "@jupyter-widgets/output"
          }
        },
        "4e837392f4d441eab18be72e79eb7aa2": {
          "model_module": "@jupyter-widgets/controls",
          "model_name": "SliderStyleModel",
          "state": {
            "_view_name": "StyleView",
            "handle_color": null,
            "_model_name": "SliderStyleModel",
            "description_width": "",
            "_view_module": "@jupyter-widgets/base",
            "_model_module_version": "1.5.0",
            "_view_count": null,
            "_view_module_version": "1.2.0",
            "_model_module": "@jupyter-widgets/controls"
          }
        },
        "931edbf808ce48ba90cf5107d8083f19": {
          "model_module": "@jupyter-widgets/base",
          "model_name": "LayoutModel",
          "state": {
            "_view_name": "LayoutView",
            "grid_template_rows": null,
            "right": null,
            "justify_content": null,
            "_view_module": "@jupyter-widgets/base",
            "overflow": null,
            "_model_module_version": "1.2.0",
            "_view_count": null,
            "flex_flow": null,
            "width": null,
            "min_width": null,
            "border": null,
            "align_items": null,
            "bottom": null,
            "_model_module": "@jupyter-widgets/base",
            "top": null,
            "grid_column": null,
            "overflow_y": null,
            "overflow_x": null,
            "grid_auto_flow": null,
            "grid_area": null,
            "grid_template_columns": null,
            "flex": null,
            "_model_name": "LayoutModel",
            "justify_items": null,
            "grid_row": null,
            "max_height": null,
            "align_content": null,
            "visibility": null,
            "align_self": null,
            "height": null,
            "min_height": null,
            "padding": null,
            "grid_auto_rows": null,
            "grid_gap": null,
            "max_width": null,
            "order": null,
            "_view_module_version": "1.2.0",
            "grid_template_areas": null,
            "object_position": null,
            "object_fit": null,
            "grid_auto_columns": null,
            "margin": null,
            "display": null,
            "left": null
          }
        },
        "591595bcd9a948e29ff630b10fcc24f2": {
          "model_module": "@jupyter-widgets/base",
          "model_name": "LayoutModel",
          "state": {
            "_view_name": "LayoutView",
            "grid_template_rows": null,
            "right": null,
            "justify_content": null,
            "_view_module": "@jupyter-widgets/base",
            "overflow": null,
            "_model_module_version": "1.2.0",
            "_view_count": null,
            "flex_flow": null,
            "width": null,
            "min_width": null,
            "border": null,
            "align_items": null,
            "bottom": null,
            "_model_module": "@jupyter-widgets/base",
            "top": null,
            "grid_column": null,
            "overflow_y": null,
            "overflow_x": null,
            "grid_auto_flow": null,
            "grid_area": null,
            "grid_template_columns": null,
            "flex": null,
            "_model_name": "LayoutModel",
            "justify_items": null,
            "grid_row": null,
            "max_height": null,
            "align_content": null,
            "visibility": null,
            "align_self": null,
            "height": null,
            "min_height": null,
            "padding": null,
            "grid_auto_rows": null,
            "grid_gap": null,
            "max_width": null,
            "order": null,
            "_view_module_version": "1.2.0",
            "grid_template_areas": null,
            "object_position": null,
            "object_fit": null,
            "grid_auto_columns": null,
            "margin": null,
            "display": null,
            "left": null
          }
        }
      }
    }
  },
  "cells": [
    {
      "cell_type": "markdown",
      "metadata": {
        "id": "nV2YfxnN_ieD"
      },
      "source": [
        "#Taller teórico-práctico 2: Señales y sistemas 2020-II \n",
        "##Profesor: Andrés Marino Álvarez Meza, Ph.D.  \n",
        "##Estudiante: Mateo Salazar Zapata COD: 0215551   \n",
        "##Universidad Nacional de Colombia - sede Manizales\n"
      ]
    },
    {
      "cell_type": "markdown",
      "metadata": {
        "id": "Chz5YvNC_1oD"
      },
      "source": [
        "# **1. Instrucciones**\n",
        "\n",
        "\n",
        "###El taller debe ser enviado en formato pdf al correo electrónico amalvarezme@unal.edu.co desde su correo institucional (no se aceptarán envios desde correos diferentes a @unal.edu.co) incluyendo desarrollos matemáticos, conceptuales, códigos en Python (cuaderno en Colab), resultados obtenidos y discusiones. Es de caracter individual. Fecha máxima de entrega: **noviembre 10 de 2020.**\n",
        "---"
      ]
    },
    {
      "cell_type": "markdown",
      "metadata": {
        "id": "Jy22DvRHCEsC"
      },
      "source": [
        "#**2. Representación generalizada**\n",
        "– Encuentre el valor de $\\omega_0 \\in \\mathbb{R}$ para que el conjunto $\\{ e^{jn\\omega_0t}\\}_{n\\in \\mathbb{Z}}$ sea ortogonal en el intervalo $t\\in[-\\frac{T}{2},\\frac{T}{2}]$ con $T\\in \\mathbb{R}^+$\n",
        "---\n",
        "\n",
        "**R:**  \n",
        "Primero que todo expandiendo la expresión queda que$$e^{jn\\omega_0t}=cos(n\\omega_0t)+jsen(n\\omega_0t)$$\n",
        "Para que sea ortogonal debe ser que las sañales sean perpendicular $\\angle90° = \\frac{\\pi}{2}$ ya que así nos aseguraremos que las señales no compartirán información  $$\\omega_0=2\\pi f \\Rightarrow f=\\frac{1}{T}$$\n",
        "Entonces para el valor $w_0$ se comprobará que sea ortogonal \n",
        "$$\\omega_0=\\frac{2\\pi}{T} \\\\ n\\omega_0=n\\frac{2\\pi}{T}$$Donde $n\\in \\mathbb{Z}$ y será reponsable en la variación de la frecuencia.\n",
        "Ahora comprobaremos ortogonalidad.\n",
        "\n",
        "$$\\int_{\\frac{-T}{2}}^\\frac{T}{2}e^{jnw_0t}(e^{jmw_0t})^*dt$$\n",
        "sí $m\\neq n$\n",
        "$$\\int_{\\frac{-T}{2}}^\\frac{T}{2}e^{jnw_0t}e^{-jmw_0t}dt=\\int_{\\frac{-T}{2}}^\\frac{T}{2}e^{jw_0t(n-m)}dt \\\\ \\int_{\\frac{-T}{2}}^\\frac{T}{2}e^{jw_0(n-m)t}dt=\\frac{1}{j(n-m)w_0}e^{jw_0t(n-m)}|_{-\\frac{T}{2}}^{\\frac{T}{2}} \\\\ = \\frac{1}{j(n-m)w_0}[e^{j(n-m)(\\frac{2\\pi}{T})(\\frac{T}{2})}-e^{j(n-m)(\\frac{2\\pi}{T})(-\\frac{T}{2})}] \\\\ =  \\frac{1}{j(n-m)w_0}[e^{j(n-m)(\\pi)}-e^{-j(n-m)\\pi}] \\\\  sen(\\phi)=\\frac{e^{j\\phi}-e^{-j\\phi}}{2j} \\\\ \\frac{j*1*2}{j(n-m)w_0}[\\frac{e^{j(n-m)(\\pi)}-e^{-j(n-m)\\pi}}{j2}] \\\\ \\frac{2}{(n-m)w_0}[\\frac{e^{j(n-m)(\\pi)}-e^{-j(n-m)\\pi}}{j2}] = \\frac{2}{(n-m)w_0}sen((n-m)\\pi) \\\\ n,m \\in \\mathbb{Z}; \\ n-m=r \\\\ \\phi = r\\pi \\Rightarrow sen(r\\pi)=0 \\\\ sen(\\pi)\\ ; sen(2\\pi)\\ ; sen(36\\pi)\\ \\forall \\ r\\pi \\Rightarrow sen(r\\pi)=0 \\\\ \\int_{\\frac{-T}{2}}^\\frac{T}{2}e^{jnw_0t}e^{-jmw_0t}dt = 0$$\n",
        "si $n=m$\n",
        "$$\\int_{\\frac{-T}{2}}^\\frac{T}{2}e^{jw_0(n-m)t}dt=\\int_{\\frac{-T}{2}}^\\frac{T}{2}1dt=T \\\\ n\\neq m \\Rightarrow 0 \\\\ n=m \\Rightarrow E_n =T$$\n",
        "Por lo tanto si es Ortogonal para el valor $w_0=\\frac{2\\pi}{T}$\n",
        "\n",
        "___\n",
        "– Demuestre la ortogonalidad del conjunto $\\{cos(nw_0t),sen(mw_ot)\\}_{n,m \\in \\mathbb{Z}}$\n",
        "---\n",
        "Para Demostrar que el conjunto es ortogonal debemos analizar la ortogonalidades siguientes\n",
        "$$\\int cos(nw_0t)cos(mw_0t)dt\n",
        "\\\\ \\int sen(nw_0t)sen(mw_0t)dt\n",
        "\\\\ \\int cos(nw_0t)sen(mw_0t)dt$$\n",
        "$(1) \\int cos(nw_0t)cos(mw_0t)dt:$  \n",
        "si $n \\neq m$\n",
        "$$cos(nw_0t\\pm mw_0t)=cos(nw_0t)cos(mw_0t)\\mp sen(nw_0t)sen(mw_0t)\n",
        "\\\\ \\Updownarrow\n",
        "\\\\ (a)\\ cos(nw_0t+mw_0t)=cos(nw_0t)cos(mw_0t)-sen(nw_0t)sen(mw_0t)\n",
        "\\\\(b)\\ cos(nw_0t-mw_0t)=cos(nw_0t)cos(mw_0t)+sen(nw_0t)sen(mw_0t)\\\\ $$\n",
        "Sumando $(a)+(b)$\n",
        "$$\n",
        "\\\\ cos(nw_0t+mw_0t)+cos(nw_0t-mw_0t)=2cos(nw_0t)cos(mw_0t)\n",
        "\\\\ cos(nw_0t)cos(mw_0t)=\\frac{1}{2}[cos(nw_0t+mw_0t)+cos(nw_0t-mw_0t)]\n",
        "\\\\ \\frac{1}{2}\\left[\\int cos(nw_0t+mw_0t)dt+\\int cos(nw_0t-mw_0t)dt\\right]=\\frac{1}{2}\\left[\\int cos((n+m)w_0t)dt+\\int cos((n-m)w_0t)dt\\right]\n",
        "\\\\ u=(n\\pm m)w_0t \\Rightarrow du=(n\\pm m)w_0dt \\Rightarrow dt=\\frac{du}{(n\\pm m)w_0}\n",
        "\\\\ =\\frac{1}{2}\\left[ \\left|\\frac{1}{(n+m)w_0}sen((n+m)w_0t)\\right|_{-\\frac{T}{2}}^{\\frac{T}{2}}+\\left|\\frac{1}{(n-m)w_0}sen((n-m)w_0t)\\right|_{-\\frac{T}{2}}^{\\frac{T}{2}}\\right]\n",
        "\\\\ =\\frac{1}{2}\\left[ \\frac{1}{(n+m)w_0}\\left(sen\\left((n+m)\\frac{2\\pi}{T}\\frac{T}{2}\\right)-sen\\left((n+m)\\frac{2\\pi}{T}\\frac{-T}{2}\\right)\\right)+\\frac{1}{(n-m)w_0}\\left(sen\\left((n-m)\\frac{2\\pi}{T}\\frac{T}{2}\\right)-sen\\left((n-m)\\frac{2\\pi}{T}\\frac{-T}{2}\\right)\\right)\\right]\n",
        "\\\\ =\\frac{1}{2}\\left[ \\frac{1}{(n+m)w_0}\\left(sen\\left((n+m)\\pi\\right)-sen\\left(-(n+m)\\pi\\right)\\right)+\\frac{1}{(n-m)w_0}\\left(sen\\left((n-m)\\pi\\right)-sen\\left(-(n-m)\\pi\\right)\\right)\\right]$$  \n",
        "como $n,m \\in \\mathbb{Z}\\Rightarrow n\\pm m=\\mathbb{Z}$ sea $n\\pm m=r\\Rightarrow sen(r\\pi)=0;$ por lo tanto para $n\\neq m$\n",
        "$$\\int cos(nw_0t)cos(mw_0t)dt=0$$\n",
        "Ahora sí $n=m$\n",
        "$$\\int cos(nw_0t)cos(mw_0t)dt=\\int |cos(nw_0t)|^2dt\n",
        "\\\\ cos^2(\\phi)=\\frac{1}{2}+\\frac{1}{2}cos(2\\phi)\n",
        "\\\\ \\int \\left(\\frac{1}{2}+\\frac{1}{2}cos(2\\phi)\\right)dt= \\int_{-\\frac{T}{2}}^{\\frac{T}{2}}\\frac{1}{2}dt+\\int_{-\\frac{T}{2}}^{\\frac{T}{2}}\\frac{1}{2}cos(2nw_0t)dt\n",
        "\\\\ \\frac{1}{2}T|_{-\\frac{T}{2}}^{\\frac{T}{2}}+\\frac{1}{2}\\frac{1}{2nw_0}sen(2nw_0t)|_{-\\frac{T}{2}}^{\\frac{T}{2}}\n",
        "\\\\ \\int |cos(nw_0t)|^2dt=\\frac{T}{2}\n",
        "\\\\ n\\neq m \\Rightarrow 0 \\\\ n=m \\Rightarrow E_n=\\frac{T}{2}$$\n",
        "$(2) \\int sen(nw_0t)sen(mw_0t)dt:$  \n",
        "sí $n\\neq m$  \n",
        "$$cos(nw_0t\\pm mw_0t)=cos(nw_0t)cos(mw_0t)\\mp sen(nw_0t)sen(mw_0t)\n",
        "\\\\ \\Updownarrow\n",
        "\\\\(a)\\ -cos(nw_0t+mw_0t)=-cos(nw_0t)cos(mw_0t)+sen(nw_0t)sen(mw_0t)\n",
        "\\\\ (b)\\ cos(nw_0t-mw_0t)=cos(nw_0t)cos(mw_0t)+sen(nw_0t)sen(mw_0t)\\\\ $$\n",
        "Sumando $(a)+(b)$\n",
        "$$\\\\ -cos(nw_0t+mw_0t)+cos(nw_0t-mw_0t)=2sen(nw_0t)sen(mw_0t)\n",
        "\\\\ sen(nw_0t)sen(mw_0t)=\\frac{1}{2}[cos(nw_0t-mw_0t)-cos(nw_0t+mw_0t)]\n",
        "\\\\ \\frac{1}{2}\\left[\\int cos((n-m)w_0t)dt-\\int cos((n+m)w_0t)dt\\right]=0$$\n",
        "Como vimos anteriormente la integral al final daba como resultado $=0$  \n",
        "Ahora sí $n=m$\n",
        "$$\\int |sin(nw_0t)|^2dt\n",
        "\\\\ sin^2(\\phi)=\\frac{1}{2}-\\frac{1}{2}cos(2\\phi)\n",
        "\\\\ \\int \\left(\\frac{1}{2}-\\frac{1}{2}cos(2\\phi)\\right)dt= \\int_{-\\frac{T}{2}}^{\\frac{T}{2}}\\frac{1}{2}dt-\\int_{-\\frac{T}{2}}^{\\frac{T}{2}}\\frac{1}{2}cos(2nw_0t)dt=\\frac{T}{2}\n",
        "\\\\ n\\neq m \\Rightarrow 0 \\\\ n=m \\Rightarrow E_n=\\frac{T}{2}$$\n",
        "$(3) \\int cos(nw_0t)sen(mw_0t)dt$  \n",
        "sí $n\\neq m$\n",
        "$$sen(nw_0t\\pm mw_0t)=cos(nw_0t)sen(mw_0t)\\pm cos(mw_0t)sen(nw_0t)\n",
        "\\\\ \\Updownarrow\n",
        "\\\\ (a)\\ sen(nw_0t+mw_0t)=cos(nw_0t)sen(mw_0t)+sen(nw_0t)cos(mw_0t)\n",
        "\\\\ (b)\\ sen(nw_0t-mw_0t)=cos(nw_0t)sen(mw_0t)-sen(nw_0t)cos(mw_0t)\\\\ $$\n",
        "Sumando $(a)+(b)$\n",
        "$$\\\\ sen(nw_0t+mw_0t)+sen(nw_0t-mw_0t)=2cos(nw_0t)sen(mw_0t)\n",
        "\\\\ cos(nw_0t)sen(mw_0t)=\\frac{1}{2}\\left[ sen(nw_0t+mw_0t)+sen(nw_0t-mw_0t) \\right]\n",
        "\\\\ \\frac{1}{2}\\left[\\int sen((n+m)w_0t)dt+\\int sen((n-m)w_0t)dt\\right]\n",
        "\\\\=\\frac{1}{2}\\left[ \\left|-\\frac{1}{(n+m)w_0}cos((n+m)w_0t)\\right|_{-\\frac{T}{2}}^{\\frac{T}{2}}-\\left|\\frac{1}{(n-m)w_0}cos((n-m)w_0t)\\right|_{-\\frac{T}{2}}^{\\frac{T}{2}}\\right]\n",
        "\\\\ =\\frac{1}{2}\\left[ -\\frac{1}{(n+m)w_0}\\left(cos\\left((n+m)\\frac{2\\pi}{T}\\frac{T}{2}\\right)-cos\\left((n+m)\\frac{2\\pi}{T}\\frac{-T}{2}\\right)\\right)-\\frac{1}{(n-m)w_0}\\left(cos\\left((n-m)\\frac{2\\pi}{T}\\frac{T}{2}\\right)-cos\\left((n-m)\\frac{2\\pi}{T}\\frac{-T}{2}\\right)\\right)\\right]\n",
        "\\\\ =\\frac{1}{2}\\left[ -\\frac{1}{(n+m)w_0}\\left(cos\\left((n+m)\\pi\\right)-cos\\left(-(n+m)\\pi\\right)\\right)-\\frac{1}{(n-m)w_0}\\left(cos\\left((n-m)\\pi\\right)-cos\\left(-(n-m)\\pi\\right)\\right)\\right]\n",
        "\\\\ $$\n",
        "Por propiedad de señal par $cos(\\phi)=cos(-\\phi)$ por lo tanto:\n",
        "$$\\\\ cos\\left((n+m)\\pi\\right)-cos\\left(-(n+m)\\pi\\right) = 0$$\n",
        "Entonces para $n\\neq m \\Rightarrow$$\\int cos(nw_0t)sen(mw_0t)dt=0$   \n",
        "Ahora sí $n=m$\n",
        "$$\\int cos(nw_0t)sen(nw_0t)\n",
        "\\\\ sen(2\\phi)=2sen(\\phi)cos(\\phi)\n",
        "\\\\ sen(\\phi)cos(\\phi)=\\frac{sen(2\\phi)}{2}\n",
        "\\\\ sen(nw_0t)cos(nw_0t)=\\frac{sen(2nw_0t)}{2}\n",
        "\\\\ \\int \\frac{sen(2nw_0t)}{2}dt=-\\frac{1}{4nw_0}cos(2nw_0t)|_{-\\frac{T}{2}}^{\\frac{T}{2}}\n",
        "\\\\ =-\\frac{1}{4nw_0}\\left[cos(2n\\frac{2\\pi}{T}\\frac{T}{2})-cos(2n\\frac{2\\pi}{T}\\frac{-T}{2})\\right]=-\\frac{1}{4nw_0}\\left[cos(2n\\pi)-cos(-2n\\pi)\\right]\n",
        "\\\\ -\\frac{1}{4nw_0}\\left[cos(2n\\pi)-cos(2n\\pi)\\right]=0\n",
        "\\\\ n\\neq m \\Rightarrow 0 \\\\ n=m \\Rightarrow 0$$\n",
        "Anque nos dió que para $n=m$ también es $0$, debido a que el desfase entre el $cos(t)$ y $sen(t)$ es $\\frac{\\pi}{2}$, se comprueba que el conjunto de $\\{cos(t),sen(t)\\}$ es ortogonal, dado que para las bases iguales, es decir $\\{cos(t),cos(t)\\}$ y $\\{sen(t),sen(t)\\}$ serán ortogonales.   \n",
        "___\n",
        "– Encuentre el espectro $c_n \\in C$ de la señal $x(t) = u(t)$ a través de la representación generalizada $x(t)=\\sum_{n=-oo}^{oo}c_n\\phi_n (t)$; para $\\phi_n (t)=e^{jnw_0t}$: Realice una simulación en Python para $t\\in [0; 2]$ y determine el error relativo para $n \\in \\{ 0,\\pm 1,\\pm 2\\}$\n",
        "---\n",
        "Para Empezar como Recomendacion siempre calculamos $C_0$ aparte entonces:\n",
        "$$C_0=\\frac{1}{T}\\int_{-\\frac{T}{2}}^{\\frac{T}{2}} x(t)\\phi_n(t)^*dt=\\frac{1}{T}\\int_{-\\frac{T}{2}}^{\\frac{T}{2}} x(t)e^0dt\n",
        "\\\\ C_0=\\frac{1}{T}\\int_{-\\frac{T}{2}}^{\\frac{T}{2}} x(t)dt$$\n",
        "Como $x(t)=u(t); u(t)\\ \\forall t[0,oo]=1$\n",
        "$$\\\\ C_0=\\frac{1}{T}\\int_0^{\\frac{T}{2}} dt=\\frac{1}{T}|t|_0^{\\frac{T}{2}}=\\frac{1}{2}$$\n",
        "Para $C_n$\n",
        "$$C_n=\\frac{1}{T}\\int_0^{\\frac{T}{2}}(1)e^{-jnw_ot}=\\frac{1}{T(-jnw_o)}e^{-jnw_ot}|_0^{\\frac{T}{2}}\n",
        "\\\\\n",
        "$$\n",
        "Para $t\\in [0,2]\\Rightarrow T=2-0=2\\; \\ w_0=\\frac{2\\pi}{T}=\\frac{2\\pi}{2}=\\pi\\  \\&\\ \\frac{T}{2}=1$\n",
        "$$\n",
        "\\\\ \\frac{1}{2(-jn\\pi)}[ e^{-jn\\pi(1)}-e^{-jn\\pi(0)}]=\\frac{1}{2(-jn\\pi)}[e^{-jn\\pi}-1]\n",
        "\\\\ \\frac{1}{2(-jn\\pi)}[cos(n\\pi)-jsen(n\\pi)-1]\n",
        "\\\\ c_n=\\frac{1}{-2jn\\pi}[(-1)^n-1]\n",
        "\\\\ x(t)=\\sum_{n=-2}^{2}\\frac{1}{-2jn\\pi}[(-1)^n-1]e^{jnw_0t}$$\n",
        "para $n \\in \\{ 0,\\pm 1,\\pm 2\\}$  \n",
        "Porcentaje de Error relativo $\\%e_r$ será:  \n",
        "$$\n",
        "\\\\ P_x=\\frac{1}{2}\\int_{0}^{2}|1|^2dt=\\frac{1}{2}(t|_{0}^{2}=\\frac{1}{2}(2)=1\n",
        "\\\\ P_x=1$$\n",
        "\n",
        "$$ c_0=\\frac{1}{2}\n",
        "\\\\ c_{-1}=0.32j\\ ;\\ c_1=-0.32/j\n",
        "\\\\ c_{-2}=0\\ ;\\ c_2=0\n",
        "\\\\ \\%e_r=\\left(1-\\left[\\sum_{n=-2}^{2}|c_n|^2\\right]\\right)*100\\%\n",
        "\\\\ \\%e_r=\\left(1-\\left[\\frac{1}{2}^2+|-0.32/j|^2+|0.32/j|^2+|0|^2+|0|^2\\right]\\right)*100\\%\n",
        "\\\\ \\%e_r=77.26\\%$$\n"
      ]
    },
    {
      "cell_type": "code",
      "metadata": {
        "id": "WBYLslhiiKpD",
        "outputId": "b3f01455-c23f-4476-a6b9-1e28b4f63cfc",
        "colab": {
          "base_uri": "https://localhost:8080/",
          "height": 353,
          "referenced_widgets": [
            "f38bb428e60645289323acf19f2156c2",
            "0cfe508a79ea4d029f9755a9f89e8c8b",
            "0af63dcf14174a67b02d90f086803d97",
            "f79b038539944cc8adcf4cc0a9e35476",
            "876ef54d0c494c1baae1952ea904d795",
            "09092cbabcc94a1d857fb223b3363b43",
            "8cba870fec2745b683a2d3cf82508d3f"
          ]
        }
      },
      "source": [
        "# Para graficar\n",
        "%matplotlib inline\n",
        "import matplotlib as mpl\n",
        "import matplotlib.pyplot as plt\n",
        "import numpy as np\n",
        "import warnings\n",
        "warnings.filterwarnings(\"ignore\")\n",
        "\n",
        "mpl.rc('axes', labelsize=14)\n",
        "mpl.rc('xtick', labelsize=12)\n",
        "mpl.rc('ytick', labelsize=12)\n",
        "\n",
        "T = 5 #3 segundos de grafica\n",
        "Fs = 1000 # 500 muestras por segundo Ajustar según señal estudiada\n",
        "Nm = T*Fs #numero de muestras requeridas\n",
        "tv = np.linspace(-T/2,T/2,Nm)\n",
        "\n",
        "#xo = np.concatenate((-A*np.ones(int(Nm/2)), A*np.ones(int(Nm/2))), axis=0)\n",
        "xo=np.heaviside(tv,0)\n",
        "N = 20 #numero armonicos\n",
        "wo = 2*np.pi/T # frecuencia fundamental\n",
        "# %% definir bases\n",
        "phin = np.zeros((Nm,2*N+1),dtype=np.complex_)\n",
        "for n in range(-N,N+1,1):\n",
        "    phin[:,n+N] = np.exp(1j*n*wo*tv)\n",
        "    # graficar bases\n",
        "from ipywidgets import interact,IntSlider\n",
        "#calcular espectro -> cambiar según la señal estudiada\n",
        "cn = np.zeros(2*N+1,dtype=np.complex_)\n",
        "nv = np.linspace(-N, N, 2*N+1) #vector num armónicos\n",
        "Cn = ((-1+(-1)**nv)/(-2*1j*nv*np.pi))\n",
        "Cn[N] = 0.5\n",
        "\n",
        "Px = 2 # estimar según señal estudiada\n",
        "from ipywidgets import interact,IntSlider\n",
        "\n",
        "def pltest(Na=1):\n",
        "    ind = range(N-Na,N+Na+1)\n",
        "    er = 1- (abs(Cn[N])**2 + 2*np.sum(abs(Cn[N:N+Na+1])**2))/Px\n",
        "    xe = phin[:,ind]@ Cn[ind] \n",
        "    plt.plot(tv,xe,color='b',label='xe')\n",
        "    plt.plot(tv,xo,color='r',label='x')\n",
        "    plt.title('Er=%.2f[%%]' % (100*er),fontsize=16)\n",
        "    plt.xlabel('t[s]')\n",
        "    plt.ylabel('x(t)')\n",
        "    plt.grid()\n",
        "    plt.legend()\n",
        "    plt.show()\n",
        "    return\n",
        "interact(pltest,Na=(1,N,1))"
      ],
      "execution_count": null,
      "outputs": [
        {
          "output_type": "display_data",
          "data": {
            "application/vnd.jupyter.widget-view+json": {
              "model_id": "f38bb428e60645289323acf19f2156c2",
              "version_minor": 0,
              "version_major": 2
            },
            "text/plain": [
              "interactive(children=(IntSlider(value=1, description='Na', max=20, min=1), Output()), _dom_classes=('widget-in…"
            ]
          },
          "metadata": {
            "tags": []
          }
        },
        {
          "output_type": "execute_result",
          "data": {
            "text/plain": [
              "<function __main__.pltest>"
            ]
          },
          "metadata": {
            "tags": []
          },
          "execution_count": 98
        }
      ]
    },
    {
      "cell_type": "markdown",
      "metadata": {
        "id": "D0sks2ZeITW8"
      },
      "source": [
        "___\n",
        "– Consulte en qué consiste la representación por polinomios de Legendre. Realice la representación de la función signo en el intervalo $t\\in [-1,1]$ para las primeras $5$ bases y encuentre el error relativo. Ver cuaderno de Colab Representación polinomios de Legendre.\n",
        "---"
      ]
    },
    {
      "cell_type": "markdown",
      "metadata": {
        "id": "9WJ8nHcpGxUT"
      },
      "source": [
        "Debido a que la funcion $sign(t)$ siempre será $1\\ ó -1$, al momento de hayar la potencia\n",
        "$\\frac{1}{T}\\int |x(t)|2dt$ $;|x(t)|^2$ siempre será $= 1$\n",
        "por lo tanto \n",
        "$$P_{x(t)}=\\frac{1}{T}\\int_{-\\frac{T}{2}}^{\\frac{T}{2}} 1dt=1$$\n",
        "Para Aproximación de una función mediante los polinomios de Legendre contamos con la ecuación\n",
        "$$C_n=\\frac{2n+1}{2}\\int_{-1}^{1}x(t)P_n(t)dt;\\ n=[0,1,2,...N]$$"
      ]
    },
    {
      "cell_type": "code",
      "metadata": {
        "id": "-6hRMu49aCJU",
        "outputId": "df70c55d-2abe-45c1-fdbb-ab07e8f356c2",
        "colab": {
          "base_uri": "https://localhost:8080/",
          "height": 509
        }
      },
      "source": [
        "from numpy import *\n",
        "import numpy as np\n",
        "import matplotlib.pyplot as plt\n",
        "from sympy import *\n",
        "import sympy as sym\n",
        "\n",
        "def Leg_Serie(x, N):\n",
        "    C = []\n",
        "    xl = 0\n",
        "    for degree in range(N):\n",
        "        C.append((integrate(x*legendre(degree, t), (t, -1, 1)))/(integrate(legendre(degree, t) ** 2, (t, -1, 1))))\n",
        "        xl += C[degree] * legendre(degree, t)\n",
        "        #print(C[degree])\n",
        "    return C, xl\n",
        "tn = np.linspace(-2, 2, 1000)\n",
        "t=symbols('t',real=True)\n",
        "\n",
        "x =  Piecewise((1, ((t<1) & (t >=0)) | ((t<-1) & (t >=-1))), (-1, ((t>=1) & (t < 1)) | ((t>=-1) & (t <0))))\n",
        "\n",
        "C, xl = Leg_Serie(x, 5) #INGRESAMOS PARA QUE EVALUE 5 MUESTRAS \n",
        "\n",
        "fig, (ax1, ax2) = plt.subplots(1, 2, figsize=(20, 8))\n",
        "ax1.plot(tn, lambdify(t,  x, \"numpy\")(tn), label=\"Señal original\")\n",
        "ax1.plot(tn, lambdify(t,  xl, \"numpy\")(tn), label= \"Señal reconstruida\")\n",
        "ax1.grid()\n",
        "ax1.legend(loc=\"best\")\n",
        "ax1.margins(x=0)\n",
        "ax1.set_ylim(-1.5, 1.5)\n",
        "ax1.set_xlabel(\"Tiempo\")\n",
        "ax1.set_ylabel(\"Señales\")\n",
        "\n",
        "ax2.stem(np.arange(len(C)), [i.evalf() for i in C], use_line_collection=True)\n",
        "ax2.grid()\n",
        "ax2.set_xlabel(\"Grado\")\n",
        "ax2.set_ylabel(\"Valor coeficiente\")\n",
        "\n",
        "fig.show()\n",
        "  "
      ],
      "execution_count": null,
      "outputs": [
        {
          "output_type": "display_data",
          "data": {
            "image/png": "[encoded data removed]",
            "text/plain": [
              "<Figure size 1440x576 with 2 Axes>"
            ]
          },
          "metadata": {
            "tags": [],
            "needs_background": "light"
          }
        }
      ]
    },
    {
      "cell_type": "markdown",
      "metadata": {
        "id": "nAlCa0-1b-ri"
      },
      "source": [
        "Ahora para el error relativo tenemos que\n",
        "$$e_r=\\left( 1- \\frac{\\sum_{n=-a}^{a} |C_n|^2}{P_{x(t)}}\\right)*100\\%$$  \n",
        "$\\%e_r=37.5\\%\\Rightarrow $ para 5 muestras"
      ]
    },
    {
      "cell_type": "code",
      "metadata": {
        "id": "Y6xWutI-bVkM",
        "outputId": "ac1b3252-dc0c-405a-a427-02fdd32966ec",
        "colab": {
          "base_uri": "https://localhost:8080/"
        }
      },
      "source": [
        "def legen(n):\n",
        "  c_n=[]\n",
        "  for n in range(n):\n",
        "    legendr=((2*n+1)/2)*(integrate(-legendre(n,t),(t,-1,0))+integrate(legendre(n,t),(t,0,1)))\n",
        "    c_n.append(legendr)\n",
        "  return c_n\n",
        "\n",
        "Error_R=abs(1-sum(legen(5)))*100\n",
        "print(\"Por lo tanto para 5 muestras tenemos un Error Relativo de \",\"{0:.2f}\".format(Error_R),\"%\")\n",
        "legendre=legen(5)\n",
        "for i in range(len(legendre)):\n",
        "  print(\"Para la \",i+1,\" Base = \",legendre[i])"
      ],
      "execution_count": null,
      "outputs": [
        {
          "output_type": "stream",
          "text": [
            "Por lo tanto para 5 muestras tenemos un Error Relativo de  37.50 %\n",
            "Para la  1  Base =  0\n",
            "Para la  2  Base =  1.50000000000000\n",
            "Para la  3  Base =  0\n",
            "Para la  4  Base =  -0.875000000000000\n",
            "Para la  5  Base =  0\n"
          ],
          "name": "stdout"
        }
      ]
    },
    {
      "cell_type": "markdown",
      "metadata": {
        "id": "CayV_X1odsXt"
      },
      "source": [
        "___\n",
        "___\n",
        "#3. Serie de Fourier\n",
        "– Calcular los coeficientes de la serie compleja, trignométrica y compacta de Fourier para las siguientes funciones, con $t \\in [-\\pi,\\pi]: a)\\ t, b)\\ |sin(t)|,c)\\ sgn(3t),d)\\ |cos^2(\\frac{t}{3})|,e)\\ e^{jt},f)\\ t^2.$ Para cada señal representada encuentre el error relativo para $n \\in \\{ 0,\\pm 1,\\pm 2,...,\\pm 5\\}$ Implemente las simulaciones en Python para graficar la parte real del espectro, la parte imaginaria del espectro, la magnitud del espectro, la fase del espectro y la señal reconstruida. Ver cuaderno de Colab Serie de Fourier.\n",
        "---\n",
        "\n",
        "___\n",
        "$a)\\ \\ x(t)=t$    \n",
        "con $t\\in [-\\pi,\\pi]$  \n",
        "\n",
        "$ \\bigstar \\ $espectro en serie de fourier complejo\n",
        "$$c_n = \\frac{1}{T}\\int^{T/2}_{-T/2}{x(t)e^{-jn\\omega_o t}}dt\n",
        "\\\\ c_0=\\frac{1}{2\\pi}\\int_{-\\pi}^{\\pi}te^{0}dt=\\frac{1}{2\\pi}\\left|\\frac{t^2}{2}\\right|_{-\\pi}^{\\pi}=\\frac{1}{2\\pi}\\left[\\frac{\\pi^2}{2}-\\frac{(-\\pi)^2}{2}\\right]=0\\Rightarrow Nivel\\ DC\n",
        "\\\\ c_n=\\frac{1}{2\\pi}\\int_{-\\pi}^{\\pi}te^{-jnw_ot}dt\n",
        "\\\\ u=t \\Rightarrow du=dt\n",
        "\\\\ dv=e^{-jnw_0t}dt \\Rightarrow  v=\\frac{e^{-jnw_0t}}{-jnw_0}\n",
        "\\\\ c_n=\\frac{1}{2\\pi}\\left\\{\\left|\\frac{te^{-jnw_0t}}{-jnw_0}\\right|_{-\\pi}^{\\pi}-\\int_{-\\pi}^{\\pi}\\frac{e^{-jnw_0t}}{-jnw_0}dt\\right\\}=\\frac{1}{2\\pi}\\left\\{\\left|\\frac{te^{-jnw_0t}}{-jnw_0}\\right|_{-\\pi}^{\\pi}-\\left|\\frac{e^{-jnw_0t}}{(-jnw_0)^2}\\right|_{-\\pi}^{\\pi}\\right\\}\n",
        "\\\\\n",
        "w_o=\\frac{2\\pi}{T}\\ ;\\ T=2\\pi\\Rightarrow w_0=1\n",
        "\\\\c_n=\\frac{1}{2\\pi}\\left\\{\\frac{1}{-jn(\\frac{2\\pi}{2\\pi})}\\left( (\\pi)e^{-jn(\\frac{2\\pi}{2\\pi})(\\pi)}-(-\\pi)e^{-jn(\\frac{2\\pi}{2\\pi})(-\\pi)}\\right)-\\frac{1}{(-jn\\frac{2\\pi}{2\\pi})^2}\\left(e^{-jn(\\frac{2\\pi}{2\\pi})(\\pi)}-e^{-jn(\\frac{2\\pi}{2\\pi})(-\\pi)}\\right)\\right\\}\n",
        "\\\\ c_n=\\frac{1}{2\\pi}\\left\\{\\frac{1}{-jn}\\left(\\pi(cos(n\\pi)-jsen(n\\pi))+\\pi(cos(n\\pi)+jsen(n\\pi))\\right)-\\frac{1}{j^2n^2}(cos(n\\pi)-jsen(n\\pi)-(cos(n\\pi)+sen(n\\pi)))\\right\\}\n",
        "\\\\sen(n\\pi)=0\\ ;\\ cos(n\\pi)=(-1)^n\\\n",
        "\\\\c_n=\\frac{1}{2\\pi}\\frac{1}{-jn}2\\pi cos(n\\pi)\n",
        "\\\\ \\Rightarrow c_n=\\frac{1}{-jn}(-1)^n\\Leftarrow\n",
        "\\\\ \\begin{equation}\n",
        "\\hat{x}(t) = \\sum\\limits_{n=-N}^N{c_n e^{jn\\omega_ot}}=\\sum\\limits_{n=-N}^N{\\frac{1}{-jn}(-1)^n e^{jn\\omega_ot}}\n",
        "\\end{equation}\n",
        "$$\n",
        "\n",
        "$ \\bigstar \\ $espectro en serie de fourier trigonometrica\n",
        "$$a_n=\\frac{2}{2\\pi}\\int_{-\\pi}^{\\pi}tcos(nw_0t)dt=0\\ ;\\ a_0=0\n",
        "\\\\ b_n=\\frac{2}{2\\pi}\\int_{-\\pi}^{\\pi}tsen(nw_0t)dt=-\\frac{2}{n}(-1)^n\n",
        "\\\\ \\hat{x}(t)=a_0+\\sum_{n=-5}^{5}a_ncos(w_ot)+b_nsen(nw_0t)\n",
        "\\\\ \\hat{x}(t)=(-\\frac{2}{n}(-1)^n)sen(nw_0t)\n",
        "\\\\ c_n = \\frac{a_n - jb_n}{2}=\\frac{2j(-1)^n}{n2}=\\frac{j(-1)^n}{n}, \\quad n\\neq 0\n",
        "\\\\ c_0 = a_0.$$\n",
        "\n",
        "$ \\bigstar \\ $espectro en serie de fourier compacta\n",
        "\\begin{equation}\n",
        "d_n = \\sqrt{a_n^2+b_n^2} = 2|c_n| = \\frac{2(-1)^n}{n}; \\quad n > 0\n",
        "\\end{equation}\n",
        "\\begin{equation}\n",
        "  d_0 = a_0;  \n",
        "\\end{equation}\n",
        "\n",
        "\\begin{equation}\n",
        "\\phi_n = \\tan^{-1}\\left(\\frac{\\mathcal{Im}\\{c_n\\}}{\\mathcal{Re}\\{c_n\\}}\\right) = \\tan^{-1}\\left(\\frac{-b_n}{a_n}\\right)=\\tan^{-1}\\left(\\frac{-b_n}{0}\\right)=-90°; \\quad n \\geq 0\n",
        "\\\\ \\hat{x}(t) = \\sum\\limits_{n=0}^N{\\frac{2(-1)^n}{n}\\cos(n\\omega_ot-90°)}.\n",
        "\\end{equation}  \n",
        "Porcentado de Error relativo $\\%e_r$ será:  \n",
        "$$\n",
        "\\\\ P_x=\\frac{1}{T}\\int_{-\\frac{T}{2}}^{\\frac{T}{2}}|t|^2dt=\\frac{1}{T}\\left(\\frac{t^3}{3}\\right)_{-\\frac{T}{2}}^{\\frac{T}{2}}=\\frac{1}{T}\\left(\\frac{(\\frac{T}{2})^3}{3}-\\frac{(-\\frac{T}{2})^3}{3}\\right)=\\frac{T^2}{12}\\ ;\\ T=2\\pi\n",
        "\\\\ P_x=\\frac{\\pi^2}{3}$$\n",
        "\n",
        "$$ c_0=0\n",
        "\\\\ c_{-1}=1j\\ ;\\ c_1=-1j\n",
        "\\\\ c_{-2}=-0.5j\\ ;\\ c_2=0.5j\n",
        "\\\\ c_{-3}=0.33j\\ ;\\ c_3=-0.33j\n",
        "\\\\ c_{-4}=-0.25j\\ ;\\ c_4=0.25j\n",
        "\\\\ c_{-5}=0.2j\\ ;\\ c_5=0.2j\n",
        "\\\\ \\%e_r=\\left(1-\\frac{3}{\\pi^2}\\left[\\sum_{n=-5}^{5}|c_n|^2\\right]\\right)*100\\%\n",
        "\\\\ \\%e_r=\\left(1-\\frac{3}{\\pi^2}\\left[0+|1|^2+|-1|^2+|-0.5|^2+|0.5|^2+|0.33|^2+|-0.33|^2+|-0.25|^2+|0.25|^2+|0.2|^2+|-0.2|^2\\right]\\right)*100\\%\n",
        "\\\\ \\%e_r=11.15\\%$$"
      ]
    },
    {
      "cell_type": "markdown",
      "metadata": {
        "id": "ScCxya-i7xNe"
      },
      "source": [
        "Graficacion Parte Real Del espectro $a_n=0 \\Rightarrow c_n=\\frac{1}{-jn}(-1)^n$"
      ]
    },
    {
      "cell_type": "code",
      "metadata": {
        "id": "qaze9bbQeFPr",
        "outputId": "122aef8e-7998-4360-94ca-bc49235839a5",
        "colab": {
          "base_uri": "https://localhost:8080/",
          "height": 336,
          "referenced_widgets": [
            "062f35db83cc4916bc6fe5e946b7b686",
            "00eef988bbf54ec1b0ae1184bf831510",
            "06b76f6c1ebb4427aec1bec447a0ffca",
            "6804a86bba1e4970aecd4aecf94a1d03",
            "ccd3853ba0284cbd9ff3c7894500e3c5",
            "758fcef0591940dbba5f81d7aa8b26a9",
            "4c8ad74240db432e8c3a64acce063076"
          ]
        }
      },
      "source": [
        "# Para graficar\n",
        "%matplotlib inline\n",
        "import matplotlib as mpl\n",
        "import matplotlib.pyplot as plt\n",
        "import numpy as np\n",
        "import warnings\n",
        "warnings.filterwarnings(\"ignore\")\n",
        "\n",
        "mpl.rc('axes', labelsize=14)\n",
        "mpl.rc('xtick', labelsize=12)\n",
        "mpl.rc('ytick', labelsize=12)\n",
        "\n",
        "T = 5 #3 segundos de grafica\n",
        "Fs = 1000 # 500 muestras por segundo Ajustar según señal estudiada\n",
        "Nm = T*Fs #numero de muestras requeridas\n",
        "tv = np.linspace(-T/2,T/2,Nm)\n",
        "\n",
        "#xo = np.concatenate((-A*np.ones(int(Nm/2)), A*np.ones(int(Nm/2))), axis=0)\n",
        "xo=tv\n",
        "N = 20 #numero armonicos\n",
        "wo = 2*np.pi/T # frecuencia fundamental\n",
        "# %% definir bases\n",
        "phin = np.zeros((Nm,2*N+1),dtype=np.complex_)\n",
        "for n in range(-N,N+1,1):\n",
        "    phin[:,n+N] = np.exp(1j*n*wo*tv)\n",
        "    # graficar bases\n",
        "from ipywidgets import interact,IntSlider\n",
        "\n",
        "def pltbase(n=1):\n",
        "    plt.plot(tv,np.real(phin[:,int(n+N)]),label=\"Re{$\\phi_n$(t)}\")\n",
        "    plt.xlabel(\"t[s]\",fontsize = 14)\n",
        "    plt.ylabel(\"$\\phi_n$(t)\",fontsize = 14)\n",
        "    plt.plot(tv,np.imag(phin[:,int(n+N)]),label=\"Im{$\\phi_n$(t)}\")\n",
        "    plt.grid()\n",
        "    plt.legend()\n",
        "    plt.plot(tv,xo,'r',linewidth=4)\n",
        "    plt.show()\n",
        "    return\n",
        "interact(pltbase,n=(-N,N,1))"
      ],
      "execution_count": null,
      "outputs": [
        {
          "output_type": "display_data",
          "data": {
            "application/vnd.jupyter.widget-view+json": {
              "model_id": "062f35db83cc4916bc6fe5e946b7b686",
              "version_minor": 0,
              "version_major": 2
            },
            "text/plain": [
              "interactive(children=(IntSlider(value=1, description='n', max=20, min=-20), Output()), _dom_classes=('widget-i…"
            ]
          },
          "metadata": {
            "tags": []
          }
        },
        {
          "output_type": "execute_result",
          "data": {
            "text/plain": [
              "<function __main__.pltbase>"
            ]
          },
          "metadata": {
            "tags": []
          },
          "execution_count": 101
        }
      ]
    },
    {
      "cell_type": "code",
      "metadata": {
        "id": "EJp69Rx5eUPQ",
        "outputId": "6e72ee8f-29b6-4cdb-b539-7e3213c39985",
        "colab": {
          "base_uri": "https://localhost:8080/",
          "height": 585
        }
      },
      "source": [
        "#calcular espectro -> cambiar según la señal estudiada\n",
        "cn = np.zeros(2*N+1,dtype=np.complex_)\n",
        "nv = np.linspace(-N, N, 2*N+1) #vector num armónicos\n",
        "Cn = ((1)/(-1j*nv))*(-1)**nv \n",
        "Cn[N] = 0\n",
        "#graficar espectro\n",
        "fig = plt.figure(figsize=(4,8))\n",
        "plt.subplot(3,1,1)\n",
        "plt.stem(nv, np.real(Cn), 'r')\n",
        "plt.title(r'Re{Cn}')\n",
        "plt.xlabel(r'$nw_o$[rad/s]',fontsize = 14)\n",
        "plt.ylabel(r'$Re\\{C_n\\}$',fontsize = 14)\n",
        "plt.axis('tight')\n",
        "plt.grid()\n",
        "\n",
        "plt.subplot(3,1,2)\n",
        "plt.stem(nv, np.imag(Cn), 'r')\n",
        "plt.title(r'Im{Cn}')\n",
        "plt.xlabel(r'$nw_o$[rad/s]',fontsize = 14)\n",
        "plt.ylabel(r'$Im\\{C_n\\}$',fontsize = 14)\n",
        "plt.axis('tight')\n",
        "plt.grid()\n",
        "\n",
        "plt.subplot(3,1,3)\n",
        "plt.stem(nv, abs(Cn), 'r')\n",
        "plt.title(r'|Cn|')\n",
        "plt.xlabel(r'$nw_o$[rad/s]',fontsize = 14)\n",
        "plt.ylabel(r'$|C_n|$',fontsize = 14)\n",
        "plt.axis('tight')\n",
        "plt.grid()\n",
        "\n",
        "fig.tight_layout()"
      ],
      "execution_count": null,
      "outputs": [
        {
          "output_type": "display_data",
          "data": {
            "image/png": "[encoded data removed]",
            "text/plain": [
              "<Figure size 288x576 with 3 Axes>"
            ]
          },
          "metadata": {
            "tags": [],
            "needs_background": "light"
          }
        }
      ]
    },
    {
      "cell_type": "code",
      "metadata": {
        "id": "qy--ejnjetWB",
        "outputId": "8b9a9afe-7d67-40c1-f6df-ba4c2b1cba30",
        "colab": {
          "base_uri": "https://localhost:8080/",
          "height": 353,
          "referenced_widgets": [
            "7b2b20e1f2de4a509d535965103a8b39",
            "e3ce0c9d00744da1beb41c9e32b0c12d",
            "81d62e3143d84deebbfdd8aae5de13b9",
            "614b35444f234e61927ac309fbeaae1f",
            "81de0c92c98b455a95ef993d2879841b",
            "27445a4c58594cb2bb97801869ca71c6",
            "f95a453772eb485195db28c81bc0f084"
          ]
        }
      },
      "source": [
        "Px = np.pi**2/3 # estimar según señal estudiada\n",
        "from ipywidgets import interact,IntSlider\n",
        "\n",
        "def pltest(Na=1):\n",
        "    ind = range(N-Na,N+Na+1)\n",
        "    er = 1- (abs(Cn[N])**2 + 2*np.sum(abs(Cn[N:N+Na+1])**2))/Px\n",
        "    xe = phin[:,ind]@ Cn[ind] \n",
        "    plt.plot(tv,xe,color='b',label='xe')\n",
        "    plt.plot(tv,xo,color='r',label='x')\n",
        "    plt.title('Er=%.2f[%%]' % (100*er),fontsize=16)\n",
        "    plt.xlabel('t[s]')\n",
        "    plt.ylabel('x(t)')\n",
        "    plt.grid()\n",
        "    plt.legend()\n",
        "    plt.show()\n",
        "    return\n",
        "interact(pltest,Na=(1,N,1))"
      ],
      "execution_count": null,
      "outputs": [
        {
          "output_type": "display_data",
          "data": {
            "application/vnd.jupyter.widget-view+json": {
              "model_id": "7b2b20e1f2de4a509d535965103a8b39",
              "version_minor": 0,
              "version_major": 2
            },
            "text/plain": [
              "interactive(children=(IntSlider(value=1, description='Na', max=20, min=1), Output()), _dom_classes=('widget-in…"
            ]
          },
          "metadata": {
            "tags": []
          }
        },
        {
          "output_type": "execute_result",
          "data": {
            "text/plain": [
              "<function __main__.pltest>"
            ]
          },
          "metadata": {
            "tags": []
          },
          "execution_count": 103
        }
      ]
    },
    {
      "cell_type": "markdown",
      "metadata": {
        "id": "C9SVDpyq3W5G"
      },
      "source": [
        "___\n",
        "$b)\\ x(t)=|sen(t)|$  \n",
        "$\\bigstar$ Forma en Fourier compleja   \n",
        "Usando Propiedades de simetría tenemos que $|sen(t)|$ será PAR\n",
        "$$c_n=\\frac{2}{T}\\int_{0}^{\\frac{T}{2}}sen(t)e^{-jnw_0t}dt\n",
        "\\\\ c_0=\\frac{1}{\\pi}\\int_{0}^{\\pi}sen(t)=-\\frac{cos(t)}{\\pi}|_{0}^{\\pi}=\\frac{2}{\\pi}\n",
        "\\\\ u=sen(t)\\ \\ ;\\ \\ du=cos(t)dt\n",
        "\\\\ dv=e^{-jnw_0t}\\ \\ ;\\ \\ v=\\frac{1}{-jnw_0}e^{-jnw_0t}\n",
        "\\\\ \\left|\\frac{sen(t)}{-jnw_0}e^{-jnw_0t}\\right|_0^{\\frac{T}{2}}-\\int_{0}^{\\frac{T}{2}}\\frac{cos(t)}{-jnw_0}e^{-jnw_0t}dt\n",
        "\\\\ u=\\frac{cos(t)}{-jnw_0})\\ \\ ;\\ \\ du=\\frac{sen(t))}{jnw_0})dt\n",
        "\\\\ dv=e^{-jnw_0t}\\ \\ ;\\ \\ v=\\frac{1}{-jnw_0}e^{-jnw_0t}\n",
        "\\\\ \\left|\\frac{sen(t)}{-jnw_0}e^{-jnw_0t}\\right|_0^{\\frac{T}{2}}-\\left|\\frac{cos(t)}{-jnw_0}e^{(-jnw_0t)^2}\\right|_0^{\\frac{T}{2}}-\\int_{0}^{\\frac{T}{2}}\\frac{sen(t)}{(jnw_0)^2}e^{-jnw_0t}dt=\\int_{0}^{\\frac{T}{2}}sen(t)e^{-jnw_0t}dt\n",
        "\\\\ \\left|\\frac{sen(t)}{-jnw_0}e^{-jnw_0t}\\right|_0^{\\frac{T}{2}}-\\left|\\frac{cos(t)}{-jnw_0}e^{(-jnw_0t)^2}\\right|_0^{\\frac{T}{2}}=\\int_{0}^{\\frac{T}{2}}sen(t)e^{-jnw_0t}dt\\left(1+\\frac{1}{(jnw_0)^2} \\right)\n",
        "\\\\ \\int_{0}^{\\frac{T}{2}}sen(t)e^{-jnw_0t}dt=\\frac{-(jnw_0)sen(t)e^{-jnw_0t}-cos(t)e^{-jnw_0t}}{(jnw_0)^2+1}\n",
        "\\\\ \\frac{2}{T}\\int_{0}^{\\frac{T}{2}}sen(t)e^{-jnw_0t}dt=\\frac{2}{T}\\left[\\frac{-(jnw_0)sen(t)e^{-jnw_0t}-cos(t)e^{-jnw_0t}}{(jnw_0)^2+1}\\right]_{0}^{\\frac{T}{2}}\n",
        "\\\\\n",
        "T=2\\pi\\ ;\\ w_0=1\\ ;\\ \\frac{T}{2}=\\pi\n",
        "\\\\ = \\frac{1}{\\pi((jn)^2+1)}[((-jn)sen(\\pi)e^{-jn\\pi}-cos(\\pi)e^{-jn\\pi})-((-jn)sen(0)e^{-jn(0)}-cos(0)e^{-jn(0)})]\n",
        "\\\\ c_n=\\frac{1}{\\pi((jn)^2+1)}(1+(-1)^n)\n",
        "\\\\ \\hat{x}(t)=\\sum_{n=-N}^{N}\\frac{1}{\\pi((jn)^2+1)}(1+(-1)^n)e^{jnw_0t}$$\n",
        "$\\bigstar$ Espectro en Seri de Fourier Trigonometrica\n",
        "$$a_n=\\frac{4}{T}\\int_{0}^{\\frac{T}{2}}sen(t)cos(nw_0t)dt\n",
        "\\\\a_0=\\frac{2}{\\pi}\\int_{0}^{\\pi}sen(t)=\\frac{2}{\\pi}(-cos(t)|_{0}^{\\pi})\n",
        "\\\\a_0=\\frac{4}{\\pi}$$\n",
        "Por identidad Trigonometrica tenemos\n",
        "$$sen(t)cos(nw_0t)=\\frac{sen(t+nw_0t)+sen(t-nw_0t)}{2}\n",
        "\\\\\n",
        "T=2\\pi\\ ;\\ w_0=1\\ ;\\ \\frac{T}{2}=\\pi\n",
        "\\\\ \\frac{2}{\\pi}\\int_{0}^{\\pi}\\frac{sen(t+nt)+sen(t-n)}{2}dt\n",
        "\\\\ =\\frac{1}{\\pi}\\left[\\frac{-cos(t+nt)}{1+n}+\\frac{-cos(t-nt)}{1-n}\\right]_{0}^{\\pi}\n",
        "\\\\ a_n=\\frac{2-(1-n)(-1)^{n+1}-(1+n)(-1)^{n-1}}{\\pi(1-n^2)}\n",
        "\\\\b_n=\\frac{2}{\\pi}\\int_{0}^{\\pi}sen(t)sen(nw_0t)dt$$\n",
        "Por identidad Trigonometrica tenemos\n",
        "$$sen(t)sen(nw_0t)=\\frac{cos(t-nw_0t)-cos(t+nw_0t)}{2}\n",
        "\\\\b_n=\\frac{1}{\\pi}\\left[\\int_{0}^{\\pi}cos(t-nw_ot)-\\int_{0}^{\\pi}cos(t+nw_ot)\\right]\n",
        "\\\\ =\\frac{1}{\\pi}\\left[\\frac{sen(t-nt)}{1-n}-\\frac{sen(t+nt)}{1+n}\\right]_{0}^{\\pi}\n",
        "\\\\ b_n=0\n",
        "\\\\ \\hat{x}(t)=\\frac{4}{\\pi}+\\sum_{1}^{N}\\frac{2-(1-n)(-1)^{n+1}-(1+n)(-1)^{n-1}}{\\pi(1-n^2)}cos(nw_0t)\n",
        "\\\\c_n=\\frac{\\frac{2-(1-n)(-1)^{n+1}-(1+n)(-1)^{n-1}}{\\pi(1-n^2)}}{2}\n",
        "\\\\ c_n=\\frac{2-(1-n)(-1)^{n+1}-(1+n)(-1)^{n-1}}{2\\pi(1-n^2)}$$\n",
        "$\\bigstar$ Espectro en seria de Fourier Compacta\n",
        "$$d_n=2|c_n|=\\frac{2-(1-n)(-1)^{n+1}-(1+n)(-1)^{n-1}}{\\pi(1-n^2)}\n",
        "\\\\ \\phi=tan^{-1}\\left(\\frac{0}{a_N}\\right)=0°\n",
        "\\\\ \\hat{x}(t)=\\sum_{0}^{N}\\frac{2-(1-n)(-1)^{n+1}-(1+n)(-1)^{n-1}}{\\pi(1-n^2)}cos(nw_0t)$$\n",
        "Porcentaje de error relativo $\\% e_r$\n",
        "$$P_x=\\frac{1}{\\pi}\\int_{0}^{\\pi}sen^2(t)dt=\\frac{1}{2}$$\n"
      ]
    },
    {
      "cell_type": "code",
      "metadata": {
        "id": "h44fD019Ili8",
        "outputId": "700fba12-485c-461b-8749-078586468ba7",
        "colab": {
          "base_uri": "https://localhost:8080/",
          "height": 333,
          "referenced_widgets": [
            "a29120485f4c41fd9a4fbf7f98c32eb7",
            "ce21f1dddd0147b5a145808233a01c7e",
            "a20d7f7e7ad749d9ad082dc1b53a9ced",
            "36f2018a923543e5870fdeb45f614e0d",
            "9b380c54e9f143e3bf3d0c4729dc281e",
            "3551b2eecbb34458b0614d68aabf2693",
            "fe6a53adf77b4435bb5014b161f438d1"
          ]
        }
      },
      "source": [
        "# Para graficar\n",
        "%matplotlib inline\n",
        "import matplotlib as mpl\n",
        "import matplotlib.pyplot as plt\n",
        "import numpy as np\n",
        "import warnings\n",
        "warnings.filterwarnings(\"ignore\")\n",
        "\n",
        "mpl.rc('axes', labelsize=14)\n",
        "mpl.rc('xtick', labelsize=12)\n",
        "mpl.rc('ytick', labelsize=12)\n",
        "\n",
        "T = 5 #3 segundos de grafica\n",
        "Fs = 1000 # 500 muestras por segundo Ajustar según señal estudiada\n",
        "Nm = T*Fs #numero de muestras requeridas\n",
        "tv = np.linspace(-T/2,T/2,Nm)\n",
        "\n",
        "#xo = np.concatenate((-A*np.ones(int(Nm/2)), A*np.ones(int(Nm/2))), axis=0)\n",
        "xo=abs(np.sin(tv))\n",
        "N = 20 #numero armonicos\n",
        "wo = 2*np.pi/T # frecuencia fundamental\n",
        "# %% definir bases\n",
        "phin = np.zeros((Nm,2*N+1),dtype=np.complex_)\n",
        "for n in range(-N,N+1,1):\n",
        "    phin[:,n+N] = np.exp(1j*n*wo*tv)\n",
        "    # graficar bases\n",
        "from ipywidgets import interact,IntSlider\n",
        "\n",
        "def pltbase(n=1):\n",
        "    plt.plot(tv,np.real(phin[:,int(n+N)]),label=\"Re{$\\phi_n$(t)}\")\n",
        "    plt.xlabel(\"t[s]\",fontsize = 14)\n",
        "    plt.ylabel(\"$\\phi_n$(t)\",fontsize = 14)\n",
        "    plt.plot(tv,np.imag(phin[:,int(n+N)]),label=\"Im{$\\phi_n$(t)}\")\n",
        "    plt.grid()\n",
        "    plt.legend()\n",
        "    plt.plot(tv,xo,'r',linewidth=4)\n",
        "    plt.show()\n",
        "    return\n",
        "interact(pltbase,n=(-N,N,1))"
      ],
      "execution_count": null,
      "outputs": [
        {
          "output_type": "display_data",
          "data": {
            "application/vnd.jupyter.widget-view+json": {
              "model_id": "a29120485f4c41fd9a4fbf7f98c32eb7",
              "version_minor": 0,
              "version_major": 2
            },
            "text/plain": [
              "interactive(children=(IntSlider(value=1, description='n', max=20, min=-20), Output()), _dom_classes=('widget-i…"
            ]
          },
          "metadata": {
            "tags": []
          }
        },
        {
          "output_type": "execute_result",
          "data": {
            "text/plain": [
              "<function __main__.pltbase>"
            ]
          },
          "metadata": {
            "tags": []
          },
          "execution_count": 1
        }
      ]
    },
    {
      "cell_type": "markdown",
      "metadata": {
        "id": "S7HvNcTyKV5b"
      },
      "source": [
        "$$c_n=\\frac{1}{\\pi((jn)^2+1)}(1+(-1)^n)$$"
      ]
    },
    {
      "cell_type": "code",
      "metadata": {
        "id": "D5UvG9oUIyn3",
        "outputId": "a5d4440e-1aa7-4840-86d3-510227941169",
        "colab": {
          "base_uri": "https://localhost:8080/",
          "height": 585
        }
      },
      "source": [
        "#calcular espectro -> cambiar según la señal estudiada\n",
        "cn = np.zeros(2*N+1,dtype=np.complex_)\n",
        "nv = np.linspace(-N, N, 2*N+1) #vector num armónicos\n",
        "Cn = -((1+(-1)**nv)/(np.pi*(1+nv**2)))\n",
        "Cn[N] = 2/np.pi\n",
        "#graficar espectro\n",
        "fig = plt.figure(figsize=(4,8))\n",
        "plt.subplot(3,1,1)\n",
        "plt.stem(nv, np.real(Cn), 'r')\n",
        "plt.title(r'Re{Cn}')\n",
        "plt.xlabel(r'$nw_o$[rad/s]',fontsize = 14)\n",
        "plt.ylabel(r'$Re\\{C_n\\}$',fontsize = 14)\n",
        "plt.axis('tight')\n",
        "plt.grid()\n",
        "\n",
        "plt.subplot(3,1,2)\n",
        "plt.stem(nv, np.imag(Cn), 'r')\n",
        "plt.title(r'Im{Cn}')\n",
        "plt.xlabel(r'$nw_o$[rad/s]',fontsize = 14)\n",
        "plt.ylabel(r'$Im\\{C_n\\}$',fontsize = 14)\n",
        "plt.axis('tight')\n",
        "plt.grid()\n",
        "\n",
        "plt.subplot(3,1,3)\n",
        "plt.stem(nv, abs(Cn), 'r')\n",
        "plt.title(r'|Cn|')\n",
        "plt.xlabel(r'$nw_o$[rad/s]',fontsize = 14)\n",
        "plt.ylabel(r'$|C_n|$',fontsize = 14)\n",
        "plt.axis('tight')\n",
        "plt.grid()\n",
        "\n",
        "fig.tight_layout()"
      ],
      "execution_count": null,
      "outputs": [
        {
          "output_type": "display_data",
          "data": {
            "image/png": "[encoded data removed]",
            "text/plain": [
              "<Figure size 288x576 with 3 Axes>"
            ]
          },
          "metadata": {
            "tags": [],
            "needs_background": "light"
          }
        }
      ]
    },
    {
      "cell_type": "code",
      "metadata": {
        "id": "GkOccJiYKvAF",
        "outputId": "2e66096c-56b5-492f-9f9c-6dcc31afdcfd",
        "colab": {
          "base_uri": "https://localhost:8080/",
          "height": 352,
          "referenced_widgets": [
            "c46cf38b455440bcb7c1bd1a5690b2b3",
            "1220a3269b7549b2bbdae69ffcd4469f",
            "df0e293414af4580b023a18ba7aa5640",
            "bc0495cbea0b4485ab6f2bd7b519a141",
            "c53a63b043eb4f0ab8f4a47f3baa00d0",
            "b9b3c24c6ace46a0ab5f02cc10674e3d",
            "c492fdbc701d4bc2a088430b66d8688c"
          ]
        }
      },
      "source": [
        "Px = 0.5 # estimar según señal estudiada\n",
        "from ipywidgets import interact,IntSlider\n",
        "\n",
        "def pltest(Na=1):\n",
        "    ind = range(N-Na,N+Na+1)\n",
        "    er = 1- (abs(Cn[N])**2 + 2*np.sum(abs(Cn[N:N+Na+1])**2))/Px\n",
        "    xe = phin[:,ind]@ Cn[ind] \n",
        "    plt.plot(tv,xe,color='b',label='xe')\n",
        "    plt.plot(tv,xo,color='r',label='x')\n",
        "    plt.title('Er=%.2f[%%]' % (100*er),fontsize=16)\n",
        "    plt.xlabel('t[s]')\n",
        "    plt.ylabel('x(t)')\n",
        "    plt.grid()\n",
        "    plt.legend()\n",
        "    plt.show()\n",
        "    return\n",
        "interact(pltest,Na=(1,N,1))"
      ],
      "execution_count": null,
      "outputs": [
        {
          "output_type": "display_data",
          "data": {
            "application/vnd.jupyter.widget-view+json": {
              "model_id": "c46cf38b455440bcb7c1bd1a5690b2b3",
              "version_minor": 0,
              "version_major": 2
            },
            "text/plain": [
              "interactive(children=(IntSlider(value=1, description='Na', max=20, min=1), Output()), _dom_classes=('widget-in…"
            ]
          },
          "metadata": {
            "tags": []
          }
        },
        {
          "output_type": "execute_result",
          "data": {
            "text/plain": [
              "<function __main__.pltest>"
            ]
          },
          "metadata": {
            "tags": []
          },
          "execution_count": 55
        }
      ]
    },
    {
      "cell_type": "markdown",
      "metadata": {
        "id": "p2MLLffiKcEN"
      },
      "source": [
        "___\n",
        "$c)\\  x(t)=sgn(3t)$  \n",
        "$t\\in [-\\pi,\\pi]\\Rightarrow T=2\\pi\\ ;\\ w_0=\\frac{2\\pi}{T}=1\\ :\\ \\frac{T}{2}=\\pi$  \n",
        "Como tenemos $3t$ no afecta para los intervalos ya que se conservan los signos   \n",
        "$\\bigstar$ Fourier compleja:  \n",
        "$\\forall\\ t\\ \\in\\ (-oo,0);\\ sgn(t)\\Rightarrow -1$  \n",
        "$\\forall\\ t\\ \\in\\ (0,oo);\\ sgn(t)\\Rightarrow 1 $  \n",
        "Entonces para hallar los pesos $c_n$\n",
        "$$c_n=\\frac{1}{T}\\left\\{\\int_{-\\frac{T}{2}}^{0}(-1)e^{-jnw_0t}dt+\\int_{0}^{\\frac{T}{2}}(1)e^{-jnw_0t}dt\\right\\}\n",
        "\\\\ c_n=\\frac{1}{T}\\left\\{\\frac{1}{(jnw_0)}(e^{-jnw_o(0)}-e^{-jnw_o(-\\frac{T}{2})})-\\frac{1}{jnw_0}(e^{-jnw_o(\\frac{T}{2})}-e^{-jnw_o(0)})\\right\\}\n",
        "\\\\ c_n=\\frac{1}{2\\pi}\\left\\{\\frac{1}{jn}(1-e^{jn(\\pi)})-\\frac{1}{jn}(e^{-jn(\\pi)}-1)\\right\\}\n",
        "\\\\ c_n=\\frac{1}{2\\pi}\\left\\{\\frac{1}{jn}(1-(cos(n\\pi)+jsen(n\\pi)))-\\frac{1}{jn}((cos(n\\pi)-jsen(n\\pi))-1)\\right\\}\n",
        "\\\\ \\Rightarrow c_n=\\frac{1}{j\\pi n}(1-(-1)^n) \\Leftarrow\n",
        "\\\\ \\hat{x}(t)=\\sum_{n=-N}^{N}\\frac{1}{j\\pi n}(1-(-1)^n)e^{jnw_0t}$$\n",
        "$\\bigstar$ Fourier Trigonometrica  \n",
        "$t\\in [-\\pi,\\pi]\\Rightarrow T=2\\pi\\ ;\\ w_0=\\frac{2\\pi}{T}=1\\ :\\ \\frac{T}{2}=\\pi$\n",
        "$$a_n=\\frac{2}{T}\\left\\{\\int_{-\\frac{T}{2}}^{0}(-1)cos(nw_0t)dt+\\int_{0}^{\\frac{T}{2}}(1)cos(nw_0t)dt\\right\\}\n",
        "\\\\\n",
        "a_0=\\frac{2}{T}\\left[-t|_{-\\frac{T}{2}}^{0}+t|_{0}^{\\frac{T}{2}}\\right]=0\n",
        "\\\\ a_n=\\frac{2}{T}\\left\\{\\left(\\frac{-sen(nw_0t)}{nw_0}\\right)_{-\\frac{T}{2}}^{0}+\\left(\\frac{sen(nw_0t)}{nw_0})\\right)_{0}^{\\frac{T}{2}}\\right\\}\n",
        "\\\\ a_n=\\frac{1}{\\pi}\\left\\{\\left(\\frac{-1}{n}(sen(n(0))-sen(-n\\pi))\\right)+\\left(\\frac{1}{n}(sen(n\\pi)-sen(n(0)))\\right)\\right\\}\n",
        "\\\\ a_n=0\n",
        "\\\\ b_n=\\frac{2}{T}\\left\\{\\int_{-\\frac{T}{2}}^{0}(-1)sen(nw_0t)dt+\\int_{0}^{\\frac{T}{2}}(1)sen(nw_0t)dt\\right\\}\n",
        "\\\\ b_n=\\frac{2}{T}\\left\\{\\left(\\frac{cos(nw_0t)}{nw_0}\\right)_{-\\frac{T}{2}}^{0}+\\left(\\frac{-cos(nw_0t)}{nw_0})\\right)_{0}^{\\frac{T}{2}}\\right\\}\n",
        "\\\\ b_n=\\frac{1}{\\pi}\\left\\{\\left(\\frac{1}{n}(cos(n(0))-cos(-n\\pi))\\right)+\\left(\\frac{-1}{n}(cos(n\\pi)-cos(n(0)))\\right)\\right\\}\n",
        "\\\\ b_n=\\frac{2}{n\\pi}(1-(-1)^n)\n",
        "\\\\ \\hat{x}(t)=\\frac{2}{n\\pi}(1-(-1)^n)sen(nw_ot)\n",
        "\\\\ c_n=\\frac{-\\frac{2}{n\\pi}(1-(-1)^n)}{2}=-\\frac{(1-(-1)^n)}{n\\pi}$$\n",
        "$\\bigstar$ Espectro en Seria de Fourier Compacta:\n",
        "$$d_n=2|c_n|=\\frac{2(1-(-1)^n)}{n\\pi}\n",
        "\\\\ \\phi_n=tan^{-1}\\left(\\frac{-b_n}{a_n}\\right)=-90°\n",
        "\\\\ \\hat{x}(t)=\\sum_{n=0}^{N}\\frac{2(1-(-1)^n)}{n\\pi}cos(nw_0t-90°)$$\n",
        "Para el porcentaje de error relativo $\\% e_r$\n",
        "$$\n",
        "\\\\ P_x=\\frac{1}{T}\\left\\{\\int_{-\\frac{T}{2}}^{0}|-1|^2dt+\\int_{0}^{\\frac{T}{2}}|1|^2dt\\right\\}\n",
        "\\\\ P_x=\\frac{1}{T}\\left[0-(-\\frac{T}{2})+\\frac{T}{2}-0\\right]\n",
        "\\\\ P_x=1$$\n",
        "\n",
        "$$ c_0=0\n",
        "\\\\ c_{-1}=0.636j\\ ;\\ c_1=-0.636j\n",
        "\\\\ c_{-2}=0\\ ;\\ c_2=0\n",
        "\\\\ c_{-3}=0.21j\\ ;\\ c_3=-0.21j\n",
        "\\\\ c_{-4}=0\\ ;\\ c_4=0\n",
        "\\\\ c_{-5}=0.127j\\ ;\\ c_5=-0.127j\n",
        "\\\\ \\%e_r=\\left(1-\\left[\\sum_{n=-5}^{5}|c_n|^2\\right]\\right)*100\\%\n",
        "\\\\ \\%e_r=\\left(1-\\left[0+|0.636|^2+|-0.636|^2+|0|^2+|0|^2+|0.21|^2+|-0.21|^2+|0|^2+|0|^2+|0.127|^2+|-0.127|^2\\right]\\right)*100\\%\n",
        "\\\\ \\%e_r=7.05\\%$$"
      ]
    },
    {
      "cell_type": "code",
      "metadata": {
        "id": "bhFbYBsNWrO9",
        "outputId": "09f6c6c1-d107-4b8a-9014-a08988b052e6",
        "colab": {
          "base_uri": "https://localhost:8080/",
          "height": 336,
          "referenced_widgets": [
            "3f7d7c86f9954cf7bc3e0de1d3515294",
            "f2fd610293b74d49ac52f504cc3b1bc6",
            "5102597235854ac5823333478dfda21e",
            "175dfa958dd94d93aa34c15141d46ac6",
            "37f3563962554317994276d60d9224bb",
            "42fd1d71e1284bb7b033d1ca849d4f99",
            "286a4bd3659e43a0a0c208ecfc8bad15"
          ]
        }
      },
      "source": [
        "# Para graficar\n",
        "%matplotlib inline\n",
        "import matplotlib as mpl\n",
        "import matplotlib.pyplot as plt\n",
        "import numpy as np\n",
        "import warnings\n",
        "warnings.filterwarnings(\"ignore\")\n",
        "\n",
        "mpl.rc('axes', labelsize=14)\n",
        "mpl.rc('xtick', labelsize=12)\n",
        "mpl.rc('ytick', labelsize=12)\n",
        "\n",
        "T = 5 #3 segundos de grafica\n",
        "Fs = 1000 # 500 muestras por segundo Ajustar según señal estudiada\n",
        "Nm = T*Fs #numero de muestras requeridas\n",
        "tv = np.linspace(-T/2,T/2,Nm)\n",
        "\n",
        "#xo = np.concatenate((-A*np.ones(int(Nm/2)), A*np.ones(int(Nm/2))), axis=0)\n",
        "xo=np.sign(tv)\n",
        "N = 20 #numero armonicos\n",
        "wo = 2*np.pi/T # frecuencia fundamental\n",
        "# %% definir bases\n",
        "phin = np.zeros((Nm,2*N+1),dtype=np.complex_)\n",
        "for n in range(-N,N+1,1):\n",
        "    phin[:,n+N] = np.exp(1j*n*wo*tv)\n",
        "    # graficar bases\n",
        "from ipywidgets import interact,IntSlider\n",
        "\n",
        "def pltbase(n=1):\n",
        "    plt.plot(tv,np.real(phin[:,int(n+N)]),label=\"Re{$\\phi_n$(t)}\")\n",
        "    plt.xlabel(\"t[s]\",fontsize = 14)\n",
        "    plt.ylabel(\"$\\phi_n$(t)\",fontsize = 14)\n",
        "    plt.plot(tv,np.imag(phin[:,int(n+N)]),label=\"Im{$\\phi_n$(t)}\")\n",
        "    plt.grid()\n",
        "    plt.legend()\n",
        "    plt.plot(tv,xo,'r',linewidth=4)\n",
        "    plt.show()\n",
        "    return\n",
        "interact(pltbase,n=(-N,N,1))"
      ],
      "execution_count": null,
      "outputs": [
        {
          "output_type": "display_data",
          "data": {
            "application/vnd.jupyter.widget-view+json": {
              "model_id": "3f7d7c86f9954cf7bc3e0de1d3515294",
              "version_minor": 0,
              "version_major": 2
            },
            "text/plain": [
              "interactive(children=(IntSlider(value=1, description='n', max=20, min=-20), Output()), _dom_classes=('widget-i…"
            ]
          },
          "metadata": {
            "tags": []
          }
        },
        {
          "output_type": "execute_result",
          "data": {
            "text/plain": [
              "<function __main__.pltbase>"
            ]
          },
          "metadata": {
            "tags": []
          },
          "execution_count": 86
        }
      ]
    },
    {
      "cell_type": "code",
      "metadata": {
        "id": "T2jOg98hX_hD",
        "outputId": "97867ddd-b3e1-409e-d7bb-b95676d9dc25",
        "colab": {
          "base_uri": "https://localhost:8080/",
          "height": 585
        }
      },
      "source": [
        "#calcular espectro -> cambiar según la señal estudiada\n",
        "cn = np.zeros(2*N+1,dtype=np.complex_)\n",
        "nv = np.linspace(-N, N, 2*N+1) #vector num armónicos\n",
        "Cn = ((1-(-1)**nv)/(1j*nv*np.pi))\n",
        "Cn[N] = 0\n",
        "#graficar espectro\n",
        "fig = plt.figure(figsize=(4,8))\n",
        "plt.subplot(3,1,1)\n",
        "plt.stem(nv, np.real(Cn), 'r')\n",
        "plt.title(r'Re{Cn}')\n",
        "plt.xlabel(r'$nw_o$[rad/s]',fontsize = 14)\n",
        "plt.ylabel(r'$Re\\{C_n\\}$',fontsize = 14)\n",
        "plt.axis('tight')\n",
        "plt.grid()\n",
        "\n",
        "plt.subplot(3,1,2)\n",
        "plt.stem(nv, np.imag(Cn), 'r')\n",
        "plt.title(r'Im{Cn}')\n",
        "plt.xlabel(r'$nw_o$[rad/s]',fontsize = 14)\n",
        "plt.ylabel(r'$Im\\{C_n\\}$',fontsize = 14)\n",
        "plt.axis('tight')\n",
        "plt.grid()\n",
        "\n",
        "plt.subplot(3,1,3)\n",
        "plt.stem(nv, abs(Cn), 'r')\n",
        "plt.title(r'|Cn|')\n",
        "plt.xlabel(r'$nw_o$[rad/s]',fontsize = 14)\n",
        "plt.ylabel(r'$|C_n|$',fontsize = 14)\n",
        "plt.axis('tight')\n",
        "plt.grid()\n",
        "\n",
        "fig.tight_layout()"
      ],
      "execution_count": null,
      "outputs": [
        {
          "output_type": "display_data",
          "data": {
            "image/png": "[encoded data removed]",
            "text/plain": [
              "<Figure size 288x576 with 3 Axes>"
            ]
          },
          "metadata": {
            "tags": [],
            "needs_background": "light"
          }
        }
      ]
    },
    {
      "cell_type": "code",
      "metadata": {
        "id": "a-DTljqTYEnH",
        "outputId": "11f9dc1c-d013-4119-9245-496eb9f89597",
        "colab": {
          "base_uri": "https://localhost:8080/",
          "height": 354,
          "referenced_widgets": [
            "e3690678db334e19bd867628b7b6bcdc",
            "ed9983e91ed74ef3b035a5c69d62d3d4",
            "16dcedb01dd946c493a26e1052078a2d",
            "b536dafe65254a2bb15fbc98b9b8dda5",
            "67ebc07f8c0e43548438f670fe9fc919",
            "c847a617a61f4038a73adade8ef6de2b",
            "a13f0b3a6d7c474eb234b07d4df3cb45"
          ]
        }
      },
      "source": [
        "Px = 1 # estimar según señal estudiada\n",
        "from ipywidgets import interact,IntSlider\n",
        "\n",
        "def pltest(Na=1):\n",
        "    ind = range(N-Na,N+Na+1)\n",
        "    er = 1- (abs(Cn[N])**2 + 2*np.sum(abs(Cn[N:N+Na+1])**2))/Px\n",
        "    xe = phin[:,ind]@ Cn[ind] \n",
        "    plt.plot(tv,xe,color='b',label='xe')\n",
        "    plt.plot(tv,xo,color='r',label='x')\n",
        "    plt.title('Er=%.2f[%%]' % (100*er),fontsize=16)\n",
        "    plt.xlabel('t[s]')\n",
        "    plt.ylabel('x(t)')\n",
        "    plt.grid()\n",
        "    plt.legend()\n",
        "    plt.show()\n",
        "    return\n",
        "interact(pltest,Na=(1,N,1))"
      ],
      "execution_count": null,
      "outputs": [
        {
          "output_type": "display_data",
          "data": {
            "application/vnd.jupyter.widget-view+json": {
              "model_id": "e3690678db334e19bd867628b7b6bcdc",
              "version_minor": 0,
              "version_major": 2
            },
            "text/plain": [
              "interactive(children=(IntSlider(value=1, description='Na', max=20, min=1), Output()), _dom_classes=('widget-in…"
            ]
          },
          "metadata": {
            "tags": []
          }
        },
        {
          "output_type": "execute_result",
          "data": {
            "text/plain": [
              "<function __main__.pltest>"
            ]
          },
          "metadata": {
            "tags": []
          },
          "execution_count": 88
        }
      ]
    },
    {
      "cell_type": "markdown",
      "metadata": {
        "id": "8sAqFVc2EKvY"
      },
      "source": [
        "___\n",
        "$d)\\ |cos^2(\\frac{t}{3})| $  \n",
        "$\\\\ \\bigstar$ Espectro en Serie de Fourier compleja\n",
        "$$c_n=\\frac{1}{T}\\int_{-\\frac{T}{2}}^{\\frac{T}{2}}|cos^2(\\frac{t}{3})|e^{-jnw_0t}dt\n",
        "\\\\ |cos^2(\\frac{t}{3})|=cos^2(\\frac{t}{3})\n",
        "\\\\c_n=\\frac{1}{2\\pi}\\int_{-\\pi}^{\\pi}\\left(\\frac{1}{2}+\\frac{cos(\\frac{2}{3}t)}{2}\\right)e^{-jnw_0t}dt\n",
        "\\\\ c_0=\\frac{1}{2\\pi}\\int_{-\\pi}^{\\pi}\\left[\\frac{1}{2}+\\frac{cos(\\frac{2}{3}t)}{2}\\right]=\\frac{1}{2\\pi}\\left(\\frac{t}{2}+\\frac{3sen(\\frac{2}{3}t)}{4}\\right)_{-\\pi}^{\\pi}\n",
        "\\\\ c_0= \\frac{1}{2\\pi}\\left(\\frac{\\pi-(-\\pi)}{2}+\\frac{3sen(\\frac{2}{3}\\pi)-3sen(-\\frac{2}{3}\\pi)}{4}\\right)=\\frac{1}{2\\pi}\\left(\\pi+\\frac{3sen(\\frac{2}{3}\\pi)}{2}\\right)\n",
        "\\\\ c_0=0.706\n",
        "\\\\c_n=\\frac{1}{2\\pi}\\left[\\int_{-\\pi}^{\\pi}\\frac{e^{-jnw_0t}}{2}dt+\\int_{-\\pi}^{\\pi}\\frac{cos(\\frac{2}{3}t)e^{-jnw_0t}}{2}dt\\right]\n",
        "\\\\ \\int_{-\\pi}^{\\pi}\\frac{e^{-jnw_0t}}{2}dt=0\n",
        "\\\\ \\frac{1}{2\\pi}\\int_{-\\pi}^{\\pi}\\frac{cos(\\frac{2}{3}t)e^{-jnw_0t}}{2}dt=\\frac{1}{2\\pi}\\left[\\frac{6sen(\\frac{2}{3}t)e^{-jnw_0t}-9(jnw_0)cos(\\frac{2}{3}t)e^{-jnw_0t}}{18(jnw_0)^2+8}\\right]_{-\\pi}^{\\pi}\n",
        "\\\\ c_n=\\frac{6\\sqrt3(-1)^n}{2\\pi(18(jn)^2+8)}=\\frac{3\\sqrt3(-1)^n}{\\pi(8-18n^2)}$$\n",
        "$\\bigstar$ Espectro Serie De Fourier Trigonometrica \n",
        "$$a_n=\\frac{2}{T}\\int_{-\\frac{T}{2}}^{\\frac{T}{2}}\\left(\\frac{1}{2}+\\frac{cos(\\frac{2}{3}t)}{2}\\right)cos{(nw_0t)}dt\n",
        "\\\\ a_n=\\frac{1}{\\pi}\\left\\{\\int_{-\\pi}^{\\pi}\\frac{cos(nw_0t)}{2}dt+\\frac{1}{2}\\int_{-\\pi}^{\\pi}\\frac{cos(\\frac{2}{3}t+nw_0t)+cos(\\frac{2}{3}t-nw_0t)}{2}dt\\right\\}\n",
        "\\\\ a_n=\\frac{1}{\\pi}\\left[\\frac{sen(nw_0t)}{2nw_0}|_{-\\pi}^{\\pi}+\\frac{sen(t(\\frac{2}{3}+nw_0))}{4(\\frac{2}{3}+nw_0)}|_{-\\pi}^{\\pi}+\\frac{sen(t(\\frac{2}{3}-nw_0))}{4(\\frac{2}{3}-nw_0)}|_{-\\pi}^{\\pi}\\right]\n",
        "\\\\ a_n=\\frac{1}{\\pi}\\left[\\frac{sen(\\pi(\\frac{2}{3}+n))}{2(\\frac{2}{3}+n)}+\\frac{sen(\\pi(\\frac{2}{3}-n))}{2(\\frac{2}{3}-n)}\\right]\n",
        "\\\\ a_0=\\frac{1}{\\pi}\\int_{-\\pi}^{\\pi}\\left(\\frac{1}{2}+\\frac{cos(\\frac{2}{3}t)}{2}\\right)dt\n",
        "\\\\ a_0=1+3\\frac{sen(\\frac{2}{3}\\pi)}{2\\pi}\n",
        "\\\\ b_n=\\frac{2}{T}\\int_{-\\frac{T}{2}}^{\\frac{T}{2}}\\left(\\frac{1}{2}+\\frac{cos(\\frac{2}{3}t)}{2}\\right)sin{(nw_0t)}dt\n",
        "\\\\ b_n=\\frac{1}{\\pi}\\left\\{\\int_{-\\pi}^{\\pi}\\frac{sen(nw_0t)}{2}dt+\\int_{-\\pi}^{\\pi}\\frac{sen(t(nw_0+\\frac{2}{3}))+sen(t(nw_0-\\frac{2}{3}))}{4}dt\\right\\}\n",
        "\\\\ b_n= \\frac{1}{\\pi}\\left\\{-\\frac{cos(nt)}{2n}|_{-\\pi}^{\\pi}-\\frac{cos(t(n+\\frac{2}{3}))}{4(n+\\frac{2}{3})}|_{-\\pi}^{\\pi}-\\frac{cos(t(n-\\frac{2}{3}))}{4(n-\\frac{2}{3})}|_{-\\pi}^{\\pi}\\right\\}\n",
        "\\\\ b_n=\\frac{1}{\\pi}\\left\\{-\\frac{(cos(n\\pi)-cos(-n\\pi))}{2n}-\\frac{(cos(\\pi(n+\\frac{2}{3}))-cos(-\\pi(n+\\frac{2}{3})))}{4(n+\\frac{2}{3})}-\\frac{(cos(\\pi(n-\\frac{2}{3}))-cos(-\\pi(n-\\frac{2}{3})))}{4(n-\\frac{2}{3})}\\right\\}\n",
        "\\\\ b_n=0\n",
        "\\\\ \\hat{x}(t)=1+3\\frac{sen(\\frac{2}{3}\\pi)}{2\\pi}+\\sum_{1}^{N}\\frac{1}{\\pi}\\left[\\frac{sen(\\pi(\\frac{2}{3}+n))}{2(\\frac{2}{3}+n)}+\\frac{sen(\\pi(\\frac{2}{3}-n))}{2(\\frac{2}{3}-n)}\\right]cos(w_0t)\n",
        "\\\\ c_n=\\frac{1}{2\\pi}\\left[\\frac{sen(\\pi(\\frac{2}{3}+n))}{2(\\frac{2}{3}+n)}+\\frac{sen(\\pi(\\frac{2}{3}-n))}{2(\\frac{2}{3}-n)}\\right]$$\n",
        "$\\bigstar$ Espectro Serie Fourier compacta\n",
        "$$d_n=\\frac{1}{\\pi}\\left[\\frac{sen(\\pi(\\frac{2}{3}+n))}{2(\\frac{2}{3}+n)}+\\frac{sen(\\pi(\\frac{2}{3}-n))}{2(\\frac{2}{3}-n)}\\right]\n",
        "\\\\ \\phi=tan^{-1}\\left(\\frac{-b_n}{a_n}\\right)=0°\n",
        "\\\\ \\hat{x}(t)=\\sum_{n=0}^{N}\\frac{1}{\\pi}\\left[\\frac{sen(\\pi(\\frac{2}{3}+n))}{2(\\frac{2}{3}+n)}+\\frac{sen(\\pi(\\frac{2}{3}-n))}{2(\\frac{2}{3}-n)}\\right]cos(nw_0t)$$  \n",
        "Porcentaje de Error Relativo $\\%e_r$\n",
        "$$P_x=\\frac{1}{2\\pi}\\int_{-\\pi}^{\\pi}\\left(\\frac{1}{2}+\\frac{cos(\\frac{2}{3}t)}{2}\\right)^2dt\n",
        "\\\\ P_X=0.55$$\n",
        "$$ c_0=0.706\n",
        "\\\\ c_{-1}=0.165\\ ;\\ c_1=0.165\n",
        "\\\\ c_{-2}=-0.025\\ ;\\ c_2=-0.025\n",
        "\\\\ c_{-3}=0.01\\ ;\\ c_3=0.01\n",
        "\\\\ c_{-4}=-0.006\\ ;\\ c_4=-0.006\n",
        "\\\\ c_{-5}=0.0037\\ ;\\ c_5=0.0037\n",
        "\\\\ \\%e_r=\\left(1-\\left[\\sum_{n=-5}^{5}|c_n|^2\\right]\\right)*100\\%\n",
        "\\\\ \\%e_r=\\left(1-\\frac{1}{0.55}\\left[0.706^2+|0.165|^2+|0.165|^2+|-0.025|^2+|-0.025|^2+|0.01|^2+|0.01|^2+|-0.006|^2+|-0.006|^2+|0.0037|^2+|0.0037|^2\\right]\\right)*100\\%\n",
        "\\\\ \\%e_r=81.97\\%$$\n"
      ]
    },
    {
      "cell_type": "code",
      "metadata": {
        "id": "9i7MRNwlm1Nb",
        "outputId": "f8cc18c8-e494-4243-82ba-cc5a9361714b",
        "colab": {
          "base_uri": "https://localhost:8080/",
          "height": 333,
          "referenced_widgets": [
            "6d09669137054d49b9bec87f69e3a92a",
            "4b42f47edcc7491ebd5b88aa941dab10",
            "6b29322b09ad400eaf42966bf2cc5cea",
            "c4ac75b524334ecc8f141c460b30cc31",
            "dfbeacb35e384ca78c4773948020cf8c",
            "5742626d2a7447e5bb41b920f0e99b59",
            "44c9ef75425e496dbd457996326bcb2a"
          ]
        }
      },
      "source": [
        "# Para graficar\n",
        "%matplotlib inline\n",
        "import matplotlib as mpl\n",
        "import matplotlib.pyplot as plt\n",
        "import numpy as np\n",
        "import warnings\n",
        "warnings.filterwarnings(\"ignore\")\n",
        "\n",
        "mpl.rc('axes', labelsize=14)\n",
        "mpl.rc('xtick', labelsize=12)\n",
        "mpl.rc('ytick', labelsize=12)\n",
        "\n",
        "T = 5 #3 segundos de grafica\n",
        "Fs = 1000 # 500 muestras por segundo Ajustar según señal estudiada\n",
        "Nm = T*Fs #numero de muestras requeridas\n",
        "tv = np.linspace(-T/2,T/2,Nm)\n",
        "\n",
        "#xo = np.concatenate((-A*np.ones(int(Nm/2)), A*np.ones(int(Nm/2))), axis=0)\n",
        "xo=abs(np.cos(tv/3)**2)\n",
        "N = 20 #numero armonicos\n",
        "wo = 2*np.pi/T # frecuencia fundamental\n",
        "# %% definir bases\n",
        "phin = np.zeros((Nm,2*N+1),dtype=np.complex_)\n",
        "for n in range(-N,N+1,1):\n",
        "    phin[:,n+N] = np.exp(1j*n*wo*tv)\n",
        "    # graficar bases\n",
        "from ipywidgets import interact,IntSlider\n",
        "\n",
        "def pltbase(n=1):\n",
        "    plt.plot(tv,np.real(phin[:,int(n+N)]),label=\"Re{$\\phi_n$(t)}\")\n",
        "    plt.xlabel(\"t[s]\",fontsize = 14)\n",
        "    plt.ylabel(\"$\\phi_n$(t)\",fontsize = 14)\n",
        "    plt.plot(tv,np.imag(phin[:,int(n+N)]),label=\"Im{$\\phi_n$(t)}\")\n",
        "    plt.grid()\n",
        "    plt.legend()\n",
        "    plt.plot(tv,xo,'r',linewidth=4)\n",
        "    plt.show()\n",
        "    return\n",
        "interact(pltbase,n=(-N,N,1))"
      ],
      "execution_count": null,
      "outputs": [
        {
          "output_type": "display_data",
          "data": {
            "application/vnd.jupyter.widget-view+json": {
              "model_id": "6d09669137054d49b9bec87f69e3a92a",
              "version_minor": 0,
              "version_major": 2
            },
            "text/plain": [
              "interactive(children=(IntSlider(value=1, description='n', max=20, min=-20), Output()), _dom_classes=('widget-i…"
            ]
          },
          "metadata": {
            "tags": []
          }
        },
        {
          "output_type": "execute_result",
          "data": {
            "text/plain": [
              "<function __main__.pltbase>"
            ]
          },
          "metadata": {
            "tags": []
          },
          "execution_count": 87
        }
      ]
    },
    {
      "cell_type": "code",
      "metadata": {
        "id": "8GcbcGS7nIIB",
        "outputId": "cd59d6c4-fae9-4e07-c08c-dbeb1894907a",
        "colab": {
          "base_uri": "https://localhost:8080/",
          "height": 585
        }
      },
      "source": [
        "#calcular espectro -> cambiar según la señal estudiada\n",
        "cn = np.zeros(2*N+1,dtype=np.complex_)\n",
        "nv = np.linspace(-N, N, 2*N+1) #vector num armónicos\n",
        "Cn = (3*np.sqrt(3)*(-1)**nv)/(np.pi*(8-18*nv**2))\n",
        "Cn[N] = 0.706\n",
        "#graficar espectro\n",
        "fig = plt.figure(figsize=(4,8))\n",
        "plt.subplot(3,1,1)\n",
        "plt.stem(nv, np.real(Cn), 'r')\n",
        "plt.title(r'Re{Cn}')\n",
        "plt.xlabel(r'$nw_o$[rad/s]',fontsize = 14)\n",
        "plt.ylabel(r'$Re\\{C_n\\}$',fontsize = 14)\n",
        "plt.axis('tight')\n",
        "plt.grid()\n",
        "\n",
        "plt.subplot(3,1,2)\n",
        "plt.stem(nv, np.imag(Cn), 'r')\n",
        "plt.title(r'Im{Cn}')\n",
        "plt.xlabel(r'$nw_o$[rad/s]',fontsize = 14)\n",
        "plt.ylabel(r'$Im\\{C_n\\}$',fontsize = 14)\n",
        "plt.axis('tight')\n",
        "plt.grid()\n",
        "\n",
        "plt.subplot(3,1,3)\n",
        "plt.stem(nv, abs(Cn), 'r')\n",
        "plt.title(r'|Cn|')\n",
        "plt.xlabel(r'$nw_o$[rad/s]',fontsize = 14)\n",
        "plt.ylabel(r'$|C_n|$',fontsize = 14)\n",
        "plt.axis('tight')\n",
        "plt.grid()\n",
        "\n",
        "fig.tight_layout()"
      ],
      "execution_count": null,
      "outputs": [
        {
          "output_type": "display_data",
          "data": {
            "image/png": "[encoded data removed]",
            "text/plain": [
              "<Figure size 288x576 with 3 Axes>"
            ]
          },
          "metadata": {
            "tags": [],
            "needs_background": "light"
          }
        }
      ]
    },
    {
      "cell_type": "code",
      "metadata": {
        "id": "P_PplIUvn8pg",
        "outputId": "e04ff3d9-8c4e-4dbd-c14f-836fc3b139dc",
        "colab": {
          "base_uri": "https://localhost:8080/",
          "height": 352,
          "referenced_widgets": [
            "32257a8e97ca40c1bc5f6e5694f81f5a",
            "71bae936dcdf4dd5a15e0cfd11b09a35",
            "202a01bbe6644aee8ed84cd4f8577b22",
            "847d1cf2aeb64d4a96b75594b097e21a",
            "c4fd0924782c411d9a2c3b3e10b930bc",
            "e63c962ed16340e4a7ea1ad6021df750",
            "577b13ca19a84eda96758fb70f5394f0"
          ]
        }
      },
      "source": [
        "Px = 0.55 # estimar según señal estudiada\n",
        "from ipywidgets import interact,IntSlider\n",
        "\n",
        "def pltest(Na=1):\n",
        "    ind = range(N-Na,N+Na+1)\n",
        "    er = 1- (abs(Cn[N])**2 + 2*np.sum(abs(Cn[N:N+Na+1])**2))/Px\n",
        "    xe = phin[:,ind]@ Cn[ind] \n",
        "    plt.plot(tv,xe,color='b',label='xe')\n",
        "    plt.plot(tv,xo,color='r',label='x')\n",
        "    plt.title('Er=%.2f[%%]' % (100*er),fontsize=16)\n",
        "    plt.xlabel('t[s]')\n",
        "    plt.ylabel('x(t)')\n",
        "    plt.grid()\n",
        "    plt.legend()\n",
        "    plt.show()\n",
        "    return\n",
        "interact(pltest,Na=(1,N,1))"
      ],
      "execution_count": null,
      "outputs": [
        {
          "output_type": "display_data",
          "data": {
            "application/vnd.jupyter.widget-view+json": {
              "model_id": "32257a8e97ca40c1bc5f6e5694f81f5a",
              "version_minor": 0,
              "version_major": 2
            },
            "text/plain": [
              "interactive(children=(IntSlider(value=1, description='Na', max=20, min=1), Output()), _dom_classes=('widget-in…"
            ]
          },
          "metadata": {
            "tags": []
          }
        },
        {
          "output_type": "execute_result",
          "data": {
            "text/plain": [
              "<function __main__.pltest>"
            ]
          },
          "metadata": {
            "tags": []
          },
          "execution_count": 89
        }
      ]
    },
    {
      "cell_type": "markdown",
      "metadata": {
        "id": "aM0psjaWEs2e"
      },
      "source": [
        "___\n",
        "$e)\\ e^{jt}$  \n",
        "$\\bigstar$ Espectro en Serie De Fourier Compleja\n",
        "$$c_n=\\frac{1}{2\\pi}\\int_{-\\pi}^{\\pi}e^{jt}e^{-jnw_0t}dt=\\frac{1}{2\\pi}\\int_{-\\pi}^{\\pi}e^{jt(1-nw_0)}dt\n",
        "\\\\ c_0=\\frac{1}{2\\pi}\\int_{-\\pi}^{\\pi}e^{jt}dt=\\frac{1}{2\\pi}\\left(\\frac{e^{jt}}{j}\\right|_{-\\pi}^{\\pi}=\\frac{1}{2\\pi}\\frac{cos(\\pi)+jsen(\\pi)-(cos(-\\pi)+jsen(-\\pi))}{j}\n",
        "\\\\ c_0=0\n",
        "\\\\ c_n=\\frac{1}{2\\pi}\\left[\\frac{e^{jt(1-nw_0)}}{j(1-nw_0)}\\right]_{-\\pi}^{\\pi}=\\frac{1}{2\\pi}\\left[\\frac{e^{j\\pi(1-n)}-e^{-j\\pi(1-n)}}{j(1-n)}\\right]\n",
        "\\\\ \\frac{1}{2\\pi}\\left[\\frac{cos(\\pi(1-n))+jsen(\\pi(1-n))-cos(\\pi(1-n))+jsen(\\pi(1-n))}{j(1-n)}\\right]\n",
        "\\\\ c_n=\\frac{1}{2\\pi}\\left(\\frac{2jsen(\\pi(1-n))}{j(1-n)}\\right)=\\frac{sen(\\pi(1-n))}{\\pi(1-n)}\n",
        "\\\\ \\lim_{n\\Rightarrow1}\\frac{sen(\\pi(1-n))}{\\pi(1-n)}=\\frac{-\\pi cos(\\pi(1-n))}{-\\pi}\n",
        "\\\\ c_n=cos(\\pi(1-n))\n",
        "\\\\ \\hat{x}(t)=\\sum_{n=-N}^{N}cos(\\pi(1-n))e^{jnw_0t}$$\n",
        "$\\bigstar$ Espectro en Serie De Fourier Trigonometrica \n",
        "$$e^{jt}=cos(t)+jsen(t) \n",
        "\\\\ a_n=\\frac{1}{\\pi}\\int_{-\\pi}^{\\pi}[cos(t)+jsen(t)]cos(nw_0t)dt\n",
        "\\\\ a_0=0\n",
        "\\\\ \\frac{1}{\\pi}\\int_{-\\pi}^{\\pi}[cos(t)cos(nw_0t)+jsen(t)cos(nw_0t)]dt\n",
        "\\\\ \\frac{1}{\\pi}\\left\\{\\int_{-\\pi}^{\\pi}[cos(t)cos(nw_0t)dt+j\\int_{-\\pi}^{\\pi}sen(t)cos(nw_0t)]dt\\right\\}\n",
        "\\\\ \\frac{1}{\\pi}\\left\\{\\int_{-\\pi}^{\\pi}\\frac{cos(t+nw_0t)+cos(t-nw_0t)}{2}dt+j\\int_{-\\pi}^{\\pi}\\frac{sen(t+nw_0t)+sen(t-nw_0t)}{2}dt\\right\\}\n",
        "\\\\ \\frac{1}{2\\pi}\\left\\{\\frac{sen(t(1+n))}{1+n}+\\frac{sen(t(1-n))}{1-n}-j\\frac{cos(t(1+n))}{1+n}-j\\frac{cos(t(1-n))}{1-n}\\right\\}_{-\\pi}^{\\pi}\n",
        "\\\\ \\frac{1}{j2\\pi}\\left\\{j\\frac{sen(t(1+n))}{1+n}+j\\frac{sen(t(1-n))}{1-n}+\\frac{cos(t(1+n))}{1+n}+\\frac{cos(t(1-n))}{1-n}\\right\\}_{-\\pi}^{\\pi}\n",
        "\\\\ \\frac{1}{2j\\pi}\\left[\\frac{e^{jt(1+n)}}{(1+n)^2}+\\frac{e^{jt(1-n)}}{(1-n)^2}\\right]\n",
        "\\\\ \\frac{1}{2j\\pi}\\left[\\frac{e^{jt(1+n)}-e^{-jt(1+n)}}{(1+n)^2}+\\frac{e^{jt(1-n)}-e^{-jt(1-n)}}{(1-n)^2}\\right]$$  \n",
        "\n",
        "Debido a que la Ecuacion de indetermina aplicaremos l'hopital  \n",
        "\n",
        "$$\\lim_{n\\Rightarrow1}\\frac{1}{2j\\pi}\\left[\\frac{j\\pi e^{jt(1+n)}+j\\pi e^{-jt(1+n)}}{2(1+n)}+\\frac{j\\pi e^{jt(1-n)}+j\\pi e^{-jt(1-n)}}{2(1-n)}\\right]\n",
        "\\\\ \\lim_{n\\Rightarrow1}\\frac{1}{4}\\left[\\frac{e^{jt(1+n)}+e^{-jt(1+n)}}{(1+n)}+\\frac{e^{jt(1-n)}+e^{-jt(1-n)}}{(1-n)}\\right]\n",
        "\\\\ \\lim_{n\\Rightarrow1}\\frac{1}{4}\\left[\\frac{e^{jt(1+n)}+e^{-jt(1+n)}+e^{jt(1-n)}+e^{-jt(1-n)}}{1-n^2}\\right]\n",
        "\\\\ \\lim_{n\\Rightarrow1}\\frac{1}{2}\\left[\\frac{cos(\\pi(1+n))+cos(\\pi(1-n))}{1-n^2}\\right]\n",
        "\\\\ \\lim_{n\\Rightarrow1}\\frac{1}{2}\\left[\\frac{-\\pi sen(\\pi(1+n))-\\pi sen(\\pi(1-n))}{-2n}\\right]\n",
        "\\\\ \\lim_{n\\Rightarrow1}\\frac{1}{2}\\left[\\frac{-\\pi^2 cos(\\pi(1+n))-\\pi^2 cos(\\pi(1-n))}{-2}\\right]\n",
        "\\\\ \\lim_{n\\Rightarrow1}\\frac{\\pi^2}{4}\\left[(-1)^{1+n}+(-1)^{1-n}\\right]=0\n",
        "\\\\a_n=\\frac{\\pi^2}{4}\\left[(-1)^{1+n}+(-1)^{1-n}\\right]\n",
        "\\\\b_n=\\frac{1}{\\pi}\\int_{-\\pi}^{\\pi}[cos(t)+jsen(t)]sen(nw_0t)dt\n",
        "\\\\ b_n=\\frac{1}{\\pi}\\int_{-\\pi}^{\\pi}[cos(t)sen(nw_0t)+jsen(t)sen(nw_0t)]dt\n",
        "\\\\ b_n=\\frac{1}{\\pi}\\left\\{\\int_{-\\pi}^{\\pi}sen(nw_0t)cos(t)dt+\\int_{-\\pi}^{\\pi}jsen(t)sen(nw_0t)dt\\right\\}\n",
        "\\\\ \\frac{1}{\\pi}\\left\\{\\int_{-\\pi}^{\\pi}\\frac{sen(nw_0t+t)+sen(nw_0t-t)}{2}dt+j\\int_{-\\pi}^{\\pi}\\frac{cos(nw_0t-t)-cos(nw_0t+t)}{2}dt\\right\\}\n",
        "\\\\b_n=\\frac{1}{2\\pi}\\left\\{-\\frac{cos(t(n+1))}{n+1}-\\frac{cos(t(n-1))}{n-1}+j\\frac{sen(t(n-1))}{n-1}-j\\frac{sen(t(n+1))}{n+1}\\right\\}_{-\\pi}^{\\pi}\n",
        "\\\\b_n=-\\frac{1}{2\\pi}\\left\\{\\frac{cos(t(n+1))}{n+1}+\\frac{cos(t(n-1))}{n-1}-j\\frac{sen(t(n-1))}{n-1}+j\\frac{sen(t(n+1))}{n+1}\\right\\}_{-\\pi}^{\\pi}\n",
        "\\\\ -\\frac{1}{2\\pi}\\left\\{\\frac{cos(\\pi(n+1))}{n+1}+\\frac{cos(\\pi(n-1))}{n-1}-\\frac{cos(-\\pi(n+1))}{n+1}-\\frac{cos(-\\pi(n-1))}{n-1}+j\\frac{sen(\\pi(n+1))}{n+1}-j\\frac{sen(\\pi(n-1))}{n-1}-j\\frac{sen(-\\pi(n+1))}{n+1}+j\\frac{sen(-\\pi(n-1))}{n-1}\\right\\}\n",
        "\\\\ b_n=0\n",
        "\\\\ c_n= 2(\\frac{\\pi^2}{4}\\left[(-1)^{1+n}+(-1)^{1-n}\\right])\n",
        "\\\\ \\hat{x}(t)=\\sum_{n=1}^{N}\\frac{\\pi^2}{4}\\left[(-1)^{1+n}+(-1)^{1-n}\\right](cosw_0t)$$\n",
        "$\\bigstar$ Espectro en serie de Fourier Compacta\n",
        "$$d_n=\\frac{\\pi^2}{4}\\left[(-1)^{1+n}+(-1)^{1-n}\\right]\n",
        "\\\\ \\phi=0°\n",
        "\\\\ \\hat{x}(t)=\\sum_{n=1}^{N}\\frac{\\pi^2}{4}\\left[(-1)^{1+n}+(-1)^{1-n}\\right](cosw_0t+0°)$$\n",
        "Para el Porcentaje de Error Relactivo $\\%e_r$\n",
        "$$P_x=\\frac{1}{T}\\int_{-\\frac{T}{2}}^{\\frac{T}{2}}|e^{jt}|^2dt$$\n",
        "Como $|e^{it}|$ es una función que permanece constante en 1 entonces\n",
        "$$P_x=\\frac{1}{2\\pi}\\int_{-\\pi}^{\\pi}1dt=\\frac{1}{2\\pi}[\\pi-(-\\pi)]\n",
        "\\\\ P_x=1$$\n",
        "$$ c_0=0\n",
        "\\\\ c_{-1}=1\\ ;\\ c_1=1\n",
        "\\\\ c_{-2}=-1\\ ;\\ c_2=-1\n",
        "\\\\ c_{-3}=1\\ ;\\ c_3=1\n",
        "\\\\ c_{-4}=-1\\ ;\\ c_4=-1\n",
        "\\\\ c_{-5}=1\\ ;\\ c_5=1\n",
        "\\\\ \\%e_r=\\left(1-\\left[\\sum_{n=-5}^{5}|c_n|^2\\right]\\right)*100\\%\n",
        "\\\\ \\%e_r=\\left(1-\\frac{1}{0.55}\\left[0^2+|1|^2+|1|^2+|-1|^2+|-1|^2+|1|^2+|1|^2+|-1|^2+|-1|^2+|1|^2+|1|^2\\right]\\right)*100\\%\n",
        "\\\\ \\%e_r=-1000\\%$$"
      ]
    },
    {
      "cell_type": "code",
      "metadata": {
        "id": "XMIEf1o65V5i",
        "outputId": "cf654d87-f1aa-42b7-c500-af9d768700e3",
        "colab": {
          "base_uri": "https://localhost:8080/",
          "height": 333,
          "referenced_widgets": [
            "6337c5c296324425a4fd9f5fde66f6c0",
            "468da38131dc48148e2f281ef38f055a",
            "281123561ede4768b5f8bafd83bc197e",
            "02c7e84b87ba409fbc8a5c8982858f3a",
            "be21b9fc9e004a279d2d665cb739780d",
            "e99df8e527a040aebc8e0b794da867a1",
            "bdbdd430c0ee4d47a48086e680e0699d"
          ]
        }
      },
      "source": [
        "# Para graficar\n",
        "%matplotlib inline\n",
        "import matplotlib as mpl\n",
        "import matplotlib.pyplot as plt\n",
        "import numpy as np\n",
        "import warnings\n",
        "warnings.filterwarnings(\"ignore\")\n",
        "\n",
        "mpl.rc('axes', labelsize=14)\n",
        "mpl.rc('xtick', labelsize=12)\n",
        "mpl.rc('ytick', labelsize=12)\n",
        "\n",
        "T = 5 #3 segundos de grafica\n",
        "Fs = 1000 # 500 muestras por segundo Ajustar según señal estudiada\n",
        "Nm = T*Fs #numero de muestras requeridas\n",
        "tv = np.linspace(-T/2,T/2,Nm)\n",
        "\n",
        "#xo = np.concatenate((-A*np.ones(int(Nm/2)), A*np.ones(int(Nm/2))), axis=0)\n",
        "xo=np.exp(1j*tv)\n",
        "N = 20 #numero armonicos\n",
        "wo = 2*np.pi/T # frecuencia fundamental\n",
        "# %% definir bases\n",
        "phin = np.zeros((Nm,2*N+1),dtype=np.complex_)\n",
        "for n in range(-N,N+1,1):\n",
        "    phin[:,n+N] = np.exp(1j*n*wo*tv)\n",
        "    # graficar bases\n",
        "from ipywidgets import interact,IntSlider\n",
        "\n",
        "def pltbase(n=1):\n",
        "    plt.plot(tv,np.real(phin[:,int(n+N)]),label=\"Re{$\\phi_n$(t)}\")\n",
        "    plt.xlabel(\"t[s]\",fontsize = 14)\n",
        "    plt.ylabel(\"$\\phi_n$(t)\",fontsize = 14)\n",
        "    plt.plot(tv,np.imag(phin[:,int(n+N)]),label=\"Im{$\\phi_n$(t)}\")\n",
        "    plt.grid()\n",
        "    plt.legend()\n",
        "    plt.plot(tv,xo,'r',linewidth=4)\n",
        "    plt.show()\n",
        "    return\n",
        "interact(pltbase,n=(-N,N,1))"
      ],
      "execution_count": null,
      "outputs": [
        {
          "output_type": "display_data",
          "data": {
            "application/vnd.jupyter.widget-view+json": {
              "model_id": "6337c5c296324425a4fd9f5fde66f6c0",
              "version_minor": 0,
              "version_major": 2
            },
            "text/plain": [
              "interactive(children=(IntSlider(value=1, description='n', max=20, min=-20), Output()), _dom_classes=('widget-i…"
            ]
          },
          "metadata": {
            "tags": []
          }
        },
        {
          "output_type": "execute_result",
          "data": {
            "text/plain": [
              "<function __main__.pltbase>"
            ]
          },
          "metadata": {
            "tags": []
          },
          "execution_count": 90
        }
      ]
    },
    {
      "cell_type": "code",
      "metadata": {
        "id": "egAL6ynn5nkj",
        "outputId": "e6211abe-47aa-4b1d-a8ac-e60d540d9c72",
        "colab": {
          "base_uri": "https://localhost:8080/",
          "height": 585
        }
      },
      "source": [
        "#calcular espectro -> cambiar según la señal estudiada\n",
        "cn = np.zeros(2*N+1,dtype=np.complex_)\n",
        "nv = np.linspace(-N, N, 2*N+1) #vector num armónicos\n",
        "Cn = np.cos(np.pi*(1-nv))\n",
        "Cn[N] = 0\n",
        "#graficar espectro\n",
        "fig = plt.figure(figsize=(4,8))\n",
        "plt.subplot(3,1,1)\n",
        "plt.stem(nv, np.real(Cn), 'r')\n",
        "plt.title(r'Re{Cn}')\n",
        "plt.xlabel(r'$nw_o$[rad/s]',fontsize = 14)\n",
        "plt.ylabel(r'$Re\\{C_n\\}$',fontsize = 14)\n",
        "plt.axis('tight')\n",
        "plt.grid()\n",
        "\n",
        "plt.subplot(3,1,2)\n",
        "plt.stem(nv, np.imag(Cn), 'r')\n",
        "plt.title(r'Im{Cn}')\n",
        "plt.xlabel(r'$nw_o$[rad/s]',fontsize = 14)\n",
        "plt.ylabel(r'$Im\\{C_n\\}$',fontsize = 14)\n",
        "plt.axis('tight')\n",
        "plt.grid()\n",
        "\n",
        "plt.subplot(3,1,3)\n",
        "plt.stem(nv, abs(Cn), 'r')\n",
        "plt.title(r'|Cn|')\n",
        "plt.xlabel(r'$nw_o$[rad/s]',fontsize = 14)\n",
        "plt.ylabel(r'$|C_n|$',fontsize = 14)\n",
        "plt.axis('tight')\n",
        "plt.grid()\n",
        "\n",
        "fig.tight_layout()"
      ],
      "execution_count": null,
      "outputs": [
        {
          "output_type": "display_data",
          "data": {
            "image/png": "[encoded data removed]",
            "text/plain": [
              "<Figure size 288x576 with 3 Axes>"
            ]
          },
          "metadata": {
            "tags": [],
            "needs_background": "light"
          }
        }
      ]
    },
    {
      "cell_type": "code",
      "metadata": {
        "id": "VII3DNW48fNb",
        "outputId": "a7a7e94a-d330-4632-8add-756959a25645",
        "colab": {
          "base_uri": "https://localhost:8080/",
          "height": 352,
          "referenced_widgets": [
            "52fc31c94e2b461ba89e1929079eb249",
            "6877005ec2904122b8b22c3ef74fcfd1",
            "395ab3f26d2547949b2d10b67150e008",
            "24a125038ea647c4b47d2341724aaef4",
            "ddc3caab416a4b8db4fefffea30294f0",
            "c5c125e95c63469182431d63f33ecd92",
            "46aae0ee08d44c0aa3af9d236327815a"
          ]
        }
      },
      "source": [
        "Px = 1 # estimar según señal estudiada\n",
        "from ipywidgets import interact,IntSlider\n",
        "\n",
        "def pltest(Na=1):\n",
        "    ind = range(N-Na,N+Na+1)\n",
        "    er = 1- (abs(Cn[N])**2 + 2*np.sum(abs(Cn[N:N+Na+1])**2))/Px\n",
        "    xe = phin[:,ind]@ Cn[ind] \n",
        "    plt.plot(tv,xe,color='b',label='xe')\n",
        "    plt.plot(tv,xo,color='r',label='x')\n",
        "    plt.title('Er=%.2f[%%]' % (100*er),fontsize=16)\n",
        "    plt.xlabel('t[s]')\n",
        "    plt.ylabel('x(t)')\n",
        "    plt.grid()\n",
        "    plt.legend()\n",
        "    plt.show()\n",
        "    return\n",
        "interact(pltest,Na=(1,N,1))"
      ],
      "execution_count": null,
      "outputs": [
        {
          "output_type": "display_data",
          "data": {
            "application/vnd.jupyter.widget-view+json": {
              "model_id": "52fc31c94e2b461ba89e1929079eb249",
              "version_minor": 0,
              "version_major": 2
            },
            "text/plain": [
              "interactive(children=(IntSlider(value=1, description='Na', max=20, min=1), Output()), _dom_classes=('widget-in…"
            ]
          },
          "metadata": {
            "tags": []
          }
        },
        {
          "output_type": "execute_result",
          "data": {
            "text/plain": [
              "<function __main__.pltest>"
            ]
          },
          "metadata": {
            "tags": []
          },
          "execution_count": 98
        }
      ]
    },
    {
      "cell_type": "markdown",
      "metadata": {
        "id": "mfxFJt7nXdUc"
      },
      "source": [
        "___\n",
        "$f)\\ t^2$  \n",
        "$\\bigstar$Espectro en Serie de Fourier Compleja\n",
        "$$c_n=\\frac{1}{2\\pi}\\int_{-\\pi}^{\\pi}t^2e^{-jnw_0t}dt\n",
        "\\\\ c_0= \\frac{1}{2\\pi}\\int_{-\\pi}^{\\pi}t^2dt=\\frac{1}{2\\pi}\\left[\\frac{t^3}{3}\\right]_{-\\pi}^{\\pi}\n",
        "\\\\ c_0=\\frac{\\pi^2}{3}\n",
        "\\\\ u= t^2\\ ;\\ du=2t\\ dt\n",
        "\\\\ dv=e^{-jnw_0t}dt\\ ;\\ v=-\\frac{e^{-jnw_0t}}{jnw_0}\n",
        "\\\\ \\frac{1}{2\\pi}\\left[-\\frac{t^2e^{-jnt}}{jn}-\\frac{2te^{-jnt}}{(jn)^2}-\\frac{2e^{-jnt}}{(jn)^3}\\right]_{-\\pi}^{\\pi}\n",
        "\\\\ \\frac{t^2e^{-jnt}}{jn}_{-\\pi}^{\\pi}=\\frac{\\pi^2e^{-jn\\pi}-(-\\pi)^2e^{jn\\pi}}{jn}=\\frac{\\pi^2cos(n\\pi)-\\pi^2cos(-n\\pi)}{jn}=0\n",
        "\\\\ \\frac{2te^{-jnt}}{(jn)^2}_{-\\pi}^{\\pi}=\\frac{2\\pi e^{-jn\\pi}-2(-\\pi)e^{jn\\pi}}{(jn)^2}=\\frac{2\\pi cos(n\\pi)+2\\pi cos(-n\\pi)}{(jn)^2}=\\frac{4\\pi cos(n\\pi)}{(jn)^2}\n",
        "\\\\ \\frac{2e^{-jnt}}{(jn)^3}_{-\\pi}^{\\pi}=\\frac{2e^{-jn\\pi}-2e^{jn\\pi}}{(jn)^3}=\\frac{2cos(n\\pi)-2cos(-n\\pi)}{(jn)^3}=0\n",
        "\\\\ c_n=-\\frac{1}{2\\pi}\\frac{4\\pi cos(n\\pi)}{(jn)^2}\n",
        "\\\\ c_n=\\frac{2(-1)^n}{n^2}\n",
        "\\\\ \\hat{x}(t)=\\sum_{n=-N}^{N}\\frac{2(-1)^n}{n}e^{jnw_0t}$$\n",
        "$\\bigstar$Espectro Serie De Fourier Trigonometrica \n",
        "$$a_n=\\frac{1}{\\pi}\\int_{-\\pi}^{\\pi}t^2cos(nw_0t)dt\n",
        "\\\\ a_0=\\frac{1}{\\pi}\\int_{-\\pi}^{\\pi}t^2dt=\\frac{1}{\\pi}\\left[\\frac{t^3}{3}\\right]_{-\\pi}^{\\pi}\n",
        "\\\\ a_0=\\frac{2}{3}\\pi^2\n",
        "\\\\ u= t^2\\ ;\\ du=2t\\ dt\n",
        "\\\\ dv=cos(nw_0t)dt\\ ;\\ v=\\frac{sen(nw_0t)}{nw_0}\n",
        "\\\\ \\frac{t^2sen(nw_0t)}{nw_0}-\\int \\frac{2tsen(nw_0t)}{nw_0}dt\n",
        "\\\\ u= 2t\\ ;\\ du=2\\ dt\n",
        "\\\\ dv=\\frac{sen(nw_0t)}{nw_0}dt\\ ;\\ v=-\\frac{cos(nw_0t)}{(nw_0)^2}\n",
        "\\\\ \\frac{t^2sen(nw_0t)}{nw_0}+\\frac{2tcos(nw_0t)}{(nw_0)^2}-\\int \\frac{2cos(nw_0t)}{(nw_0)^2}dt\n",
        "\\\\ \\frac{t^2sen(nw_0t)}{nw_0}+\\frac{2tcos(nw_0t)}{(nw_0)^2}-\\frac{2sen(nw_0t)}{(nw_0)^3}\n",
        "\\\\ \\frac{2tcos(nw_0t)}{(nw_0)^2}_{-\\pi}^{\\pi}=\\frac{2}{n^2}[\\pi cos(n\\pi)-(-\\pi)cos(-n\\pi)]\n",
        "\\\\ a_n= \\frac{4(-1)^n}{n^2}\n",
        "\\\\ b_n=\\frac{1}{\\pi}\\int_{-\\pi}^{\\pi}t^2sen(nw_0t)dt\n",
        "\\\\ u= t^2\\ ;\\ du=2t\\ dt\n",
        "\\\\ dv=sen(nw_0t)dt\\ ;\\ v=-\\frac{cos(nw_0t)}{nw_0}\n",
        "\\\\ b_n=\\frac{1}{\\pi}\\left[-\\frac{t^2cos(nw_0t)}{nw_0}+\\int \\frac{2tcos(nw_0t)}{nw_0}dt\\right]\n",
        "\\\\ u= 2t\\ ;\\ du=2\\ dt\n",
        "\\\\ dv=\\frac{cos(nw_0t)}{nw_0}dt\\ ;\\ v=\\frac{sen(nw_0t)}{(nw_0)^2}\n",
        "\\\\ \\frac{1}{\\pi}\\left[-\\frac{t^2cos(nw_0t)}{nw_0}+\\frac{2tsen(nw_0t)}{(nw_0t)^2}-\\int \\frac{2sen(nw_0t)}{(nw_0)^2}\\right]\n",
        "\\\\ \\frac{1}{\\pi}\\left[-\\frac{t^2cos(nw_0t)}{nw_0}+\\frac{2tsen(nw_0t)}{(nw_0t)^2}+\\frac{2cos(nw_0t)}{(nw_0)^3}\\right]_{-\\pi}^{\\pi}\n",
        "\\\\ b_n=\\frac{1}{\\pi}\\left[-\\frac{1}{nw_0}[\\pi^2cos(n\\pi)-(-\\pi)^2cos(-n\\pi)]+\\frac{2}{(nw_0)^3}[cos(n\\pi)-cos(-n\\pi)]\\right]\n",
        "\\\\ b_n=0\n",
        "\\\\ c_n=\\frac{4(-1)^n}{2n^2}\n",
        "\\\\ \\hat{x}(t)=\\frac{2}{3}\\pi^2+\\sum_{n=-N}^{N}\\frac{4(-1)^n}{2n^2}cos(nw_0t)$$\n",
        "$\\bigstar$Espectro Serie De Fourier Compacta\n",
        "$$d_n=\\frac{4(-1)^n}{n^2}\n",
        "\\\\ \\phi= 0°\n",
        "\\\\ \\hat{x}(t)=\\sum_{n=1}^{N}\\frac{4(-1)^n}{n^2}cos(nw_0t+0°)$$\n",
        "Porcentaje Error Relativo $\\%e_r$\n",
        "$$P_x=\\frac{1}{\\pi}\\int_{-\\pi}^{\\pi}|t^2|^2dt\n",
        "\\\\ P_x=19.5$$\n",
        "$$ c_0=3.28\n",
        "\\\\ c_{-1}=-2\\ ;\\ c_1=-2\n",
        "\\\\ c_{-2}=0.5\\ ;\\ c_2=0.5\n",
        "\\\\ c_{-3}=-0.22\\ ;\\ c_3=-0.22\n",
        "\\\\ c_{-4}=0.125\\ ;\\ c_4=0.125\n",
        "\\\\ c_{-5}=-0.08\\ ;\\ c_5=-0.08\n",
        "\\\\ \\%e_r=\\left(1-\\left[\\sum_{n=-5}^{5}|c_n|^2\\right]\\right)*100\\%\n",
        "\\\\ \\%e_r=\\left(1-\\frac{1}{39}\\left[3.28^2+|2|^2+|-2|^2+|0.5|^2+|0.5|^2+|-0.22|^2+|-0.22|^2+|0.125|^2+|0.125|^2+|-0.08|^2+|-0.08|^2\\right]\\right)*100\\%\n",
        "\\\\ \\%e_r=0.51\\%$$"
      ]
    },
    {
      "cell_type": "code",
      "metadata": {
        "id": "vnkYizPXdrze",
        "outputId": "19ccbc90-b42c-4e73-d151-2a9e91b4b89c",
        "colab": {
          "base_uri": "https://localhost:8080/",
          "height": 333,
          "referenced_widgets": [
            "7cf63996f4d24b46ba235bea0f737f44",
            "e32479ce685c4387974beef958bb66e3",
            "b135771d6c2d4341a0f0cbdca05a2fb7",
            "39448f4d20cb48efae5a55db9e32b1a7",
            "c5de645801c043039bd4d893daac41f3",
            "5c1a220564af4f2a8db3330668892597",
            "52ac6e8b42e34fa8b8a7895e8338c3c6"
          ]
        }
      },
      "source": [
        "# Para graficar\n",
        "%matplotlib inline\n",
        "import matplotlib as mpl\n",
        "import matplotlib.pyplot as plt\n",
        "import numpy as np\n",
        "import warnings\n",
        "warnings.filterwarnings(\"ignore\")\n",
        "\n",
        "mpl.rc('axes', labelsize=14)\n",
        "mpl.rc('xtick', labelsize=12)\n",
        "mpl.rc('ytick', labelsize=12)\n",
        "\n",
        "T = 5 #3 segundos de grafica\n",
        "Fs = 1000 # 500 muestras por segundo Ajustar según señal estudiada\n",
        "Nm = T*Fs #numero de muestras requeridas\n",
        "tv = np.linspace(-T/2,T/2,Nm)\n",
        "\n",
        "#xo = np.concatenate((-A*np.ones(int(Nm/2)), A*np.ones(int(Nm/2))), axis=0)\n",
        "xo=tv**2\n",
        "N = 20 #numero armonicos\n",
        "wo = 2*np.pi/T # frecuencia fundamental\n",
        "# %% definir bases\n",
        "phin = np.zeros((Nm,2*N+1),dtype=np.complex_)\n",
        "for n in range(-N,N+1,1):\n",
        "    phin[:,n+N] = np.exp(1j*n*wo*tv)\n",
        "    # graficar bases\n",
        "from ipywidgets import interact,IntSlider\n",
        "\n",
        "def pltbase(n=1):\n",
        "    plt.plot(tv,np.real(phin[:,int(n+N)]),label=\"Re{$\\phi_n$(t)}\")\n",
        "    plt.xlabel(\"t[s]\",fontsize = 14)\n",
        "    plt.ylabel(\"$\\phi_n$(t)\",fontsize = 14)\n",
        "    plt.plot(tv,np.imag(phin[:,int(n+N)]),label=\"Im{$\\phi_n$(t)}\")\n",
        "    plt.grid()\n",
        "    plt.legend()\n",
        "    plt.plot(tv,xo,'r',linewidth=4)\n",
        "    plt.show()\n",
        "    return\n",
        "interact(pltbase,n=(-N,N,1))"
      ],
      "execution_count": null,
      "outputs": [
        {
          "output_type": "display_data",
          "data": {
            "application/vnd.jupyter.widget-view+json": {
              "model_id": "7cf63996f4d24b46ba235bea0f737f44",
              "version_minor": 0,
              "version_major": 2
            },
            "text/plain": [
              "interactive(children=(IntSlider(value=1, description='n', max=20, min=-20), Output()), _dom_classes=('widget-i…"
            ]
          },
          "metadata": {
            "tags": []
          }
        },
        {
          "output_type": "execute_result",
          "data": {
            "text/plain": [
              "<function __main__.pltbase>"
            ]
          },
          "metadata": {
            "tags": []
          },
          "execution_count": 19
        }
      ]
    },
    {
      "cell_type": "code",
      "metadata": {
        "id": "xPNDP3d2d3xM",
        "outputId": "d968800e-b747-43e7-9150-790e3f6e9cb3",
        "colab": {
          "base_uri": "https://localhost:8080/",
          "height": 585
        }
      },
      "source": [
        "#calcular espectro -> cambiar según la señal estudiada\n",
        "cn = np.zeros(2*N+1,dtype=np.complex_)\n",
        "nv = np.linspace(-N, N, 2*N+1) #vector num armónicos\n",
        "Cn = 2*(((-1)**nv)/(nv**2))\n",
        "Cn[N] = 3.28\n",
        "#graficar espectro\n",
        "fig = plt.figure(figsize=(4,8))\n",
        "plt.subplot(3,1,1)\n",
        "plt.stem(nv, np.real(Cn), 'r')\n",
        "plt.title(r'Re{Cn}')\n",
        "plt.xlabel(r'$nw_o$[rad/s]',fontsize = 14)\n",
        "plt.ylabel(r'$Re\\{C_n\\}$',fontsize = 14)\n",
        "plt.axis('tight')\n",
        "plt.grid()\n",
        "\n",
        "plt.subplot(3,1,2)\n",
        "plt.stem(nv, np.imag(Cn), 'r')\n",
        "plt.title(r'Im{Cn}')\n",
        "plt.xlabel(r'$nw_o$[rad/s]',fontsize = 14)\n",
        "plt.ylabel(r'$Im\\{C_n\\}$',fontsize = 14)\n",
        "plt.axis('tight')\n",
        "plt.grid()\n",
        "\n",
        "plt.subplot(3,1,3)\n",
        "plt.stem(nv, abs(Cn), 'r')\n",
        "plt.title(r'|Cn|')\n",
        "plt.xlabel(r'$nw_o$[rad/s]',fontsize = 14)\n",
        "plt.ylabel(r'$|C_n|$',fontsize = 14)\n",
        "plt.axis('tight')\n",
        "plt.grid()\n",
        "\n",
        "fig.tight_layout()"
      ],
      "execution_count": null,
      "outputs": [
        {
          "output_type": "display_data",
          "data": {
            "image/png": "[encoded data removed]",
            "text/plain": [
              "<Figure size 288x576 with 3 Axes>"
            ]
          },
          "metadata": {
            "tags": [],
            "needs_background": "light"
          }
        }
      ]
    },
    {
      "cell_type": "code",
      "metadata": {
        "id": "vWKhJVAxeWP7",
        "outputId": "4cab3c8c-cf90-4536-90b6-849802a467dd",
        "colab": {
          "base_uri": "https://localhost:8080/",
          "height": 352,
          "referenced_widgets": [
            "e5717ed1c5c94bf5b09c3655b3f5b98e",
            "17b4309aa9914d3fa64fefe673d1c408",
            "3e89f22059a641018b3f6ed1c66d95e1",
            "f4272ffdf6d447a38c87443fcb3c78f7",
            "4e837392f4d441eab18be72e79eb7aa2",
            "931edbf808ce48ba90cf5107d8083f19",
            "591595bcd9a948e29ff630b10fcc24f2"
          ]
        }
      },
      "source": [
        "Px = 19.5 # estimar según señal estudiada\n",
        "from ipywidgets import interact,IntSlider\n",
        "\n",
        "def pltest(Na=1):\n",
        "    ind = range(N-Na,N+Na+1)\n",
        "    er = 1- (abs(Cn[N])**2 + 2*np.sum(abs(Cn[N:N+Na+1])**2))/Px\n",
        "    xe = phin[:,ind]@ Cn[ind] \n",
        "    plt.plot(tv,xe,color='b',label='xe')\n",
        "    plt.plot(tv,xo,color='r',label='x')\n",
        "    plt.title('Er=%.2f[%%]' % (100*er),fontsize=16)\n",
        "    plt.xlabel('t[s]')\n",
        "    plt.ylabel('x(t)')\n",
        "    plt.grid()\n",
        "    plt.legend()\n",
        "    plt.show()\n",
        "    return\n",
        "interact(pltest,Na=(1,N,1))"
      ],
      "execution_count": null,
      "outputs": [
        {
          "output_type": "display_data",
          "data": {
            "application/vnd.jupyter.widget-view+json": {
              "model_id": "e5717ed1c5c94bf5b09c3655b3f5b98e",
              "version_minor": 0,
              "version_major": 2
            },
            "text/plain": [
              "interactive(children=(IntSlider(value=1, description='Na', max=20, min=1), Output()), _dom_classes=('widget-in…"
            ]
          },
          "metadata": {
            "tags": []
          }
        },
        {
          "output_type": "execute_result",
          "data": {
            "text/plain": [
              "<function __main__.pltest>"
            ]
          },
          "metadata": {
            "tags": []
          },
          "execution_count": 22
        }
      ]
    },
    {
      "cell_type": "markdown",
      "metadata": {
        "id": "fKVkGlb7j-8W"
      },
      "source": [
        "___\n",
        "___\n",
        "– Sea $x^{''}(t)$ la segunda derivada de la señal $x(t)$, donde $t\\in [ti\\ ,\\ tf ]$: Demuestre que los coeficientes de la serie exponencial de Fourier se pueden calcular según:\n",
        "---\n",
        "$$c_n=\\frac{1}{(ti-tf)n^2w_0^2}\\int_{ti}^{tf} x^{''}(t)e^{-jnw_0t}dt\\ ;\\ n\\in \\mathbb{Z}$$\n",
        "Cómo se pueden calcular los coeficientes $an$ y $bn$ desde $x^{''}(t)$ en la serie trigonométrica de Fourier?.\n",
        "---\n",
        "![image.png](data:image/png;base64,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)"
      ]
    },
    {
      "cell_type": "markdown",
      "metadata": {
        "id": "TLS02JP8lXlg"
      },
      "source": [
        "$$\\frac{d[x(t)]_{-\\frac{T}{2}}^{-d2}}{dt}=0\n",
        "\\\\ \\frac{d[x(t)]_{-d2}^{-d1}}{dt}=m_1=\\frac{0-A}{-d2-(-d1)}=\\frac{-A}{d1-d2}\n",
        "\\\\ x(t)=mt+b \\Rightarrow b=x(t)-mt\n",
        "\\\\ b_1=A-m(-d1)=A+md1\n",
        "\\\\ m_2=\\frac{A}{d1-d2}\n",
        "\\\\ x'(t)=m$$"
      ]
    },
    {
      "cell_type": "markdown",
      "metadata": {
        "id": "cldmAMoL2G7p"
      },
      "source": [
        "![image.png](data:image/png;base64,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)\n",
        "\n",
        "![image.png](data:image/png;base64,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)"
      ]
    },
    {
      "cell_type": "markdown",
      "metadata": {
        "id": "hHVuKqTM3yLx"
      },
      "source": [
        "$$x'(t)=m[u(t+d2)-u(t+d1)]-m[u(t-d1)-u(t-d2)]\n",
        "\\\\ x''(t)=m\\delta(t+d2)-m\\delta(t+d1)-m\\delta(t-d1)+m\\delta(t-d2)\n",
        "\\\\ x(t)=\\sum_{n}c_ne^{jnw_0t}\n",
        "\\\\ x'(t)=\\frac{d}{dt}\\left[\\sum_{n}c_ne^{jnw_0t}\\right]=\\sum_{n}c_njnw_0e^{jnw_0t}\n",
        "\\\\ x''(t)=\\frac{d^2}{dt^2}\\left[\\sum_{n}c_ne^{jnw_0t}\\right]=\\frac{d}{dt}\\left[\\sum_{n}c_njnw_0e^{jnw_0t}\\right]\n",
        "\\\\ x''(t)=\\sum_{n}c_n(jnw_0)^2e^{jnw_0t}\n",
        "\\\\ \\hat{c_n}=c_n(jnw_0)^2\n",
        "\\\\ x''(t)=\\sum_{n}\\hat{c_n}e^{jnw_0t}\n",
        "\\\\ \\hat{P}_{x''(t)}(\\hat{c_n})=\\frac{1}{T}\\int_{-\\frac{T}{2}}^{\\frac{T}{2}}|x''(t)-\\sum_{n}\\hat{c_n}e^{jnw_0t}|^2dt\n",
        "\\\\ \\frac{d\\hat{P}_{x''(t)}}{d\\hat{c_n}}(\\hat{c_n})=0\n",
        "\\\\ \\hat{c_n}=\\frac{1}{T}\\int_{-\\frac{T}{2}}^{\\frac{T}{2}}x''(t)e^{-jnw_0t}dt\n",
        "\\\\ c_n(jnw_0)^2=\\frac{1}{T}\\int_{-\\frac{T}{2}}^{\\frac{T}{2}}x''(t)e^{-jnw_0t}dt\n",
        "\\\\ c_n=\\frac{1}{T(jnw_0)^2}\\int_{-\\frac{T}{2}}^{\\frac{T}{2}}x''(t)e^{-jnw_0t}dt\n",
        "\\\\ T=\\frac{T}{2}-(-\\frac{T}{2})=tf-ti\\ ;\\ j^2=-1\n",
        "\\\\ c_n=\\frac{1}{(ti-tf)(nw_0)^2}\\int_{ti}^{tf}x''(t)e^{-jnw_0t}dt\n",
        "\\\\ a_n=\\frac{2}{(ti-tf)(nw_0)^2}\\int_{ti}^{tf}x''(t)cos(nw_0t)dt\n",
        "\\\\ b_n=\\frac{2}{(ti-tf)(nw_0)^2}\\int_{ti}^{tf}x''(t)sen(nw_0t)dt$$"
      ]
    },
    {
      "cell_type": "markdown",
      "metadata": {
        "id": "m1_7JnzdAHQM"
      },
      "source": [
        "___\n",
        "– Encuentre el espectro de Fourier, su magnitud y el error cuadrático medio de la representación para $n\\in \\{0+\\pm 1+\\pm 2+\\pm 3+\\pm 4+\\pm 5\\}$ a partir de $x''(t)$ para la señal $x(t)$ en la figura $1$. Compruebe el espectro obtenido con la estimación a partir de $x(t)$ mediante una simulación en Python.\n",
        "---\n",
        "$$c_n=\\frac{1}{(ti-tf)(nw_0)^2}\\int_{ti}^{tf}x''(t)e^{-jnw_0t}dt\n",
        "\\\\ c_n=\\frac{1}{(ti-tf)(nw_0)^2}\\int_{ti}^{tf}[m\\delta(t+d2)-m\\delta(t+d1)-m\\delta(t-d1)+m\\delta(t-d2)]e^{-jnw_0t}dt\n",
        "\\\\ c_n=\\frac{m}{(ti-tf)(nw_0)^2}\\int_{ti}^{tf}[\\delta(t+d2)-\\delta(t+d1)-\\delta(t-d1)+\\delta(t-d2)]e^{-jnw_0t}dt\n",
        "\\\\ c_n=\\frac{m}{(ti-tf)(nw_0)^2}\\int_{ti}^{tf}[\\delta(t+d2)e^{-jnw_0t}-\\delta(t+d1)e^{-jnw_0t}-\\delta(t-d1)e^{-jnw_0t}+\\delta(t-d2)e^{-jnw_0t}]dt\n",
        "\\\\ c_n=\\frac{m}{(ti-tf)(nw_0)^2}\\left[e^{jnw_0d2}-e^{jnw_0d1}-e^{-jnw_0d1}+e^{-jnw_0d2}\\right]$$"
      ]
    },
    {
      "cell_type": "markdown",
      "metadata": {
        "id": "8o8HAGPFlUn8"
      },
      "source": [
        "– ¿Cómo se puede simplificar el cálculo de la serie trigonométrica de Fourier para señales con simetría de media onda y de cuarto de onda?. En dichos casos, ¿cómo se pueden calcular los coeficientes $an$ y $bn$ con $n \\in \\mathbb{N}$?\n",
        "---"
      ]
    },
    {
      "cell_type": "markdown",
      "metadata": {
        "id": "0d5AgHVgnFDm"
      },
      "source": [
        "___\n",
        "___\n",
        "#**4.Transformada de Fourier**\n",
        "– Explique las semejanzas y diferencias entre la serie de Fourier(exponencial, trigonométrica y compacta) y la transformada de Fourier. Considere las diferentes combinaciones entre: espectro continuo y discreto y señal en tiempo continuo y discreto. Además, consulte en qué consiste el algoritmo Fast Fourier Transform - (FFT) y su utilidad para el cálculo de la transformada discreta de Fourier. Ver cuaderno de Colab Serie y transformada de Fourier.\n",
        "---"
      ]
    },
    {
      "cell_type": "markdown",
      "metadata": {
        "id": "CYK30flwuRYe"
      },
      "source": [
        "**R//**\n",
        "Las distintas formas de ***Serie de Fourier*** ya sea Exponencial, trigonometrica o compacta Cumplen el mismo objetivo, ya sea representar una señal dada con funciones aproximadas en base de $e^{jnw_0t}$.  \n",
        "***La serie de Fourier*** asume  $x(t)$ como señal en tiempo continuo, pero evaluado en un segmento finito  $t$. Para el caso de ***Transofrmada de Fourier*** convertir una señal en el dominio del tiempo $x(t)$ a una señal en el dominio de la frecuencia $X(w)$ o viceversa para señales continuas o tambien para señales discreta $x[k]$ con $k \\in \\mathbb{Z}$.   \n",
        "Para la \"***Serie de Fourier exponencial o compleja***\" construimos la señal con base a la funcion exponencial teniendo en cuenta su parte real y completa es decir $e^{-jnw_0t}$, a diferencia de la \"***forma Trigonometria***\" que Calculamos la parte real $a_n$ y la parte imaginaria $b_n$ separadas lo cual nos ayuda a ilustrar la señal ya que aveces la representacion solo cuenta con parte real o imaginaria, en \"***la Serie De Fourier Compacta***\", tenemos en cuenta la magnitud $\\sqrt{a_n^2+b_n^2} $ y el angulo $\\phi$ que nos aporta el desfase que existe entre la parte real y la imaginaria $\\phi=tan^{-1}\\left(\\frac{-b_n}{a_n}\\right)$ \n",
        "\n",
        "En otras palabras, la Serie de Fourier nos permite observar a la señal de\n",
        "acuerdo a la forma en que esta formada por componentes senoidales de\n",
        "diferente frecuencia. Implementar cualquiera de las ecuaciones por definicion en un programa computacional exige una gran cantidad de cálculos, y aún para las modernas y rápidas computadoras el tiempo de ejecución es considerable, es por esta razón que se han desarrollado **métodos Transformada Rápida\n",
        "de Fourier (FFT) computacionales para aprovechar algunas características de la DFT, eliminando operaciones redundantes Principalmente se aprovechan las características de Periodicidad y Simetría de los coeficientes**   \n",
        "\n",
        "Uno de los métodos para la FFT es el de **Base-2 (Radix-2)** el cual esta basado en que la señal x(n) tenga un número de elementos N que sea potencia de 2. Si no es el caso, entonces se pueden agregar una cantidad de elementos cero adecuada para tener una potencia de 2, a esto se le conoce como zero padding. **La base de este método es conocida como la operación mariposa**, que consiste en hacer multiplicaciones, sumas y restas de acuerdo al siguiente diagrama de flujo \n",
        "\n",
        "\n",
        "\n"
      ]
    },
    {
      "cell_type": "markdown",
      "metadata": {
        "id": "l3kwcOKf_sBx"
      },
      "source": [
        "![image.png](data:image/png;base64,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)"
      ]
    },
    {
      "cell_type": "markdown",
      "metadata": {
        "id": "iI17Gtj7EKJS"
      },
      "source": [
        "___\n",
        "– Encuentre la función de densidad espectral (transformada de Fourier) para las siguientes señales (sin aplicar propiedades): \n",
        "---\n",
        "$a) e^{-a|t|}, a\\in \\mathbb{R}^+; \n",
        "\\\\b)\\ cos(w_ct);\\ w_c\\in \\mathbb{R}; \n",
        "\\\\c)\\ sin (w_st);\\ w_s\\in \\mathbb{R}; \n",
        "\\\\d)\\ f(t) cos (w_ct);\\ w_c\\in \\mathbb{R};\\ f(t)\\in \\mathbb{R};\\ \\mathbb{C}; \n",
        "\\\\e)\\ e^{-a|t|^2}; a\\in \\mathbb{R}^+$"
      ]
    },
    {
      "cell_type": "markdown",
      "metadata": {
        "id": "iJAy5SOEAd3C"
      },
      "source": [
        "**Solución**  \n",
        "$a) e^{-a|t|}, a\\in \\mathbb{R}^+; $\n",
        "$$X(w)=\\int_{-oo}^{0}e^{at}e^{-wt}dt+\\int_{0}^{oo}e^{-at}e^{-wt}dt\n",
        "\\\\ \\int_{-b}^{0}e^{t(a-jw)}dt+\\int_{0}^{b}e^{-t(a+jw)}dt\n",
        "\\\\ \\lim_{n\\Rightarrow oo} \\frac{e^{t(a-jw)}}{a-jw}|_{-b}^{0}-\\frac{e^{-t(a+jw)}}{a+jw}|_{-b}^{0}\n",
        "\\\\ \\lim_{n\\Rightarrow oo}\\frac{1}{a-jw}[e^{0(a-jw)}-e^{-b(a-jw)}]-\\frac{1}{a+jw}[e^{-b(a+jw)}-e^{0(a+jw)}]\n",
        "\\\\ \\frac{1}{a-jw}+\\frac{1}{a+jw}=\\frac{a+jw+a-jw}{a^2-(jw)^2}\n",
        "\\\\ X(w)=\\frac{2a}{a^2+w^2}$$\n",
        "$\\\\b)\\ cos(w_ct);\\ w_c\\in \\mathbb{R}$\n",
        "$$ F\\{cos(w_ct)\\}=\\int_{-oo}^{oo}cos(w_ct)e^{-jwt}dt\n",
        "\\\\ F\\{1*cos(w_ct)\\}\n",
        "\\\\ F\\{1\\}=\\int_{-oo}^{oo}e^{-jwt}dt=\\int_{-oo}^{0}e^{-jwt}dt+\\int_{0}^{oo}e^{-jwt}dt= 2\\pi \\delta(w) \n",
        "\\\\ \\int_{-oo}^{oo}e^{\\pm jw_ct}e^{-jwt}=\\int_{-oo}^{oo}e^{jt(w \\pm w_c)}= 2\\pi\\delta(w\\mp w_c)\n",
        "\\\\ cos(w_ct)=\\frac{e^{jw_Ct}+e^{-jw_ct}}{2}\n",
        "\\\\ =\\int_{-oo}^{oo}\\frac{e^{jw_Ct}+e^{-jw_ct}}{2}e^{-jwt}dt\n",
        "\\\\ \\frac{1}{2}\\int_{-oo}^{oo}e^{jw_ct}e^{-jwt}dt+\\frac{1}{2}\\int_{-oo}^{oo}e^{-jw_ct}e^{-jwt}dt\n",
        "\\\\ X(w)=\\frac{1}{2}[2\\pi\\delta(w-w_c)+2\\pi\\delta(w+w_c)]\n",
        "\\\\ X(w)=\\pi[\\delta(w-w_c)+\\delta(w+w_c)]$$\n",
        "$\\\\c)\\ sin (w_st);\\ w_s\\in \\mathbb{R}; $\n",
        "$$\\\\ sen(w_st)=\\frac{e^{jw_st}-e^{-jw_st}}{2j}\n",
        "\\\\ =\\int_{-oo}^{oo}\\frac{e^{jw_st}-e^{-jw_st}}{2j}e^{-jwt}dt\n",
        "\\\\ \\frac{1}{2j}\\int_{-oo}^{oo}e^{jw_st}e^{-jwt}dt-\\frac{1}{2j}\\int_{-oo}^{oo}e^{-jw_st}e^{-jwt}dt\n",
        "\\\\ X(w)=\\frac{1}{2j}[2\\pi\\delta(w-w_c)-2\\pi\\delta(w+w_c)]\n",
        "\\\\ X(w)=\\frac{\\pi}{j}[\\delta(w-w_c)-\\delta(w+w_c)]$$\n",
        "$\\\\d)\\ f(t) cos (w_ct);\\ w_c\\in \\mathbb{R};\\ f(t)\\in \\mathbb{R};\\ \\mathbb{C}$\n",
        "$$\\int_{-oo}^{oo}f(t)cos(w_c t)e^{-jwt}dt=\\int_{-oo}^{oo}f(t)\\left(\\frac{e^{jw_ct}+e^{-jw_ct}}{2}\\right)e^{-jwt}dt\n",
        "\\\\ \\frac{1}{2}\\left\\{\\int_{-oo}^{oo}f(t)e^{-jt(w-w_c)}dt+f(t)e^{-jt(w+w_c)}\\right\\}\n",
        "\\\\ X(t)=\\frac{1}{2}[X(w+w_c)+X(w-w_c)]$$\n",
        "$\\\\e)\\ e^{-a|t|^2}; a\\in \\mathbb{R}^+$"
      ]
    },
    {
      "cell_type": "markdown",
      "metadata": {
        "id": "0JP1t14paKEP"
      },
      "source": [
        "___\n",
        "– Aplique las propiedades de la transformada de Fourier para resolver:\n",
        "---\n",
        "$a)\\mathscr{F}\\{e^{-jw_1t}cos(w_ct)\\}\\ w_1,\\ w_c\\in \\mathbb{R}\n",
        "\\\\ b)\\mathscr{F}\\{u(t)cos^2(w_ct)\\},\\ w_c\\in \\mathbb{R}\n",
        "\\\\ c)\\mathscr{F}^{-1}\\left\\{\\frac{7}{w^2+6w+45}*\\frac{10}{(8+\\frac{jw}{3})^2}\\right\\}\\\\ d)\\mathscr{F}\\{3t^3\\}\n",
        "\\\\ e) \\frac{B}{T}\\sum_{n=-oo}^{+oo}\\left(\\frac{1}{a^2+(w-w_c)^2}+\\frac{1}{a+j(w-nw_0)}\\right);\\ donde\\ n\\in \\{0,\\pm1,\\pm2...\\},\\ w_0= \\frac{2\\pi}{T}\\ y\\ B,T\\in \\mathbb{R}^+$   \n",
        "$$**Solución**$$  \n",
        "$a)\\mathscr{F}\\{e^{-jw_1t}cos(w_ct)\\}$  \n",
        "$$ \\mathscr{F}\\left\\{e^{-jw_1t}\\frac{e^{jw_ct}+e^{-jw_ct}}{2}\\right\\}\n",
        "\\\\ \\frac{1}{2}\\mathscr{F}\\{e^{-jw_1t}e^{jw_ct}+e^{-jw_1t}e^{-jw_ct}\\}=\\frac{1}{2}\\mathscr{F}\\{e^{-jt(w_1-w_c)}+e^{-jt(w_1+w_c)}\\}\n",
        "\\\\ \\mathscr{F}\\{e^{-jw_1t}cos(w_ct)\\}=\\sqrt{\\frac{\\pi}{2}}\\delta(w+w_1+w_C)+\\sqrt{\\frac{\\pi}{2}}\\delta(w+w_1-w_C)$$\n",
        "$\\\\ b)\\mathscr{F}\\{u(t)cos^2(w_ct)\\},\\ w_c\\in \\mathbb{R}$\n",
        "$$cos^2(w_ct)=\\frac{1}{2}[1+cos(2w_ct)]\n",
        "\\\\ \\frac{1}{2}\\mathscr{F}\\{u(t)+u(t)cos(2w_ct)\\}\n",
        "\\\\ \\mathscr{F}\\{u(t)cos^2(w_ct)\\}=\\frac{1}{2}\\left\\{\\pi\\delta(w)+\\frac{1}{jw}+\\frac{\\pi}{2}[\\delta(w-2w_c)+\\delta(w+2w_c)]+\\frac{jw}{4w_c^2-w^2}\\right\\}$$\n",
        "$\\\\ c)\\mathscr{F}^{-1}\\left\\{\\frac{7}{w^2+6w+45}*\\frac{10}{(8+\\frac{jw}{3})^2}\\right\\}$\n",
        "$$ \\mathscr{F}^{-1}\\left\\{ \\frac{7}{w^2+6w+45}\\right\\}*\\mathscr{F}^{-1}\\left\\{\\frac{10}{(8+\\frac{jw}{3})^2}\\right\\}\n",
        "\\\\ \\mathscr{F}^{-1}\\left\\{ \\frac{7}{(w+(3-6j))(w+(3+6j))}\\right\\}*\\mathscr{F}^{-1}\\left\\{\\frac{10}{[\\frac{1}{3}(24+jw)]^2}\\right\\}\n",
        "\\\\ 7\\mathscr{F}^{-1}\\left\\{ \\frac{1}{(w+(3-6j))(w+(3+6j))}\\right\\}*90\\mathscr{F}^{-1}\\left\\{\\frac{1}{(24+jw)^2}\\right\\}\n",
        "\\\\ \\mathscr{F}^{-1}\\left\\{\\frac{7}{w^2+6w+45}*\\frac{10}{(8+\\frac{jw}{3})^2}\\right\\}=\\frac{7}{6}\\sqrt{\\frac{\\pi}{2}}e^{(6+3j)t}*90u(t)te^{-24t}$$\n",
        "$\\\\ d)\\mathscr{F}\\{3t^3\\}=3\\mathscr{F}\\{1 t^3\\}$\n",
        "$$3\\mathscr{F}\\left\\{1.\\frac{(-j)^3t^3}{(-j)^3}\\right\\}\n",
        "\\\\ (-j)^3=(-1)^3j^3=(-1)j^2j=(-1)(-1)j=j\n",
        "\\\\ \\mathscr{F}\\{1\\}=2\\pi\\delta(-w)\n",
        "\\\\ \\frac{3}{j}\\{1.(-jt)^3\\}=\\frac{3}{j}\\frac{d^3}{dw^3}\n",
        "\\\\ \\mathscr{F}\\{3t^3\\}=\\frac{3}{j}\\frac{d^3}{dw^3}(2\\pi\\delta(-w))$$"
      ]
    },
    {
      "cell_type": "markdown",
      "metadata": {
        "id": "cjsiOm4qs0yg"
      },
      "source": [
        "– Consulte en qué consiste la distorsión total de armónicos (Total Harmonic Distortion-(THD)) y el factor de potencia en un circuito eléctrico. Cómo puede calcularse el THD desde la FFT?. Cómo puede calcularse el factor de potencia con base al THD?. Genere un ejemplo ilustrativo en su software de preferencia para el cálculo del THD y el factor de potencia para un rectificador de onda completa con carga: i) netamente resistiva y ii) carga RC en serie. Establezca las condiciones necesarias para las simulaciones y pruebe con diferentes valores de R y C. Discuta los resultados obtenidos.\n",
        "---\n",
        "**R//**  \n",
        "***La Distorsión Armónica Total (THD)*** es una medida de cuánto se «distorsiona» o se cambia la forma de onda del voltaje o de la corriente de su forma de onda sinusoidal convencional. La energía proviene de su suministrador eléctrico en forma de onda sinusoidal limpia. A medida que atraviesa diferentes tipos de cargas, el voltaje y la corriente se utilizan a diferentes tasas, lo que provoca que la distorsión se refleje desde la carga hacia el sistema.\n",
        "\n",
        "La distorsión ocurre principalmente en múltiplos de la frecuencia de la portadora (50 o 60 Hz) que se conocen como armónicos. Por ejemplo, el 3er armónico en una línea de 60 Hz sería de 180 Hz, el 7 ° sería 420 Hz. La THD es el porcentaje acumulado de distorsión para todos los tipos de armónicos en relación a la potencia total. La distorsión se mide por separado para la corriente (THDI) y el voltaje (THDV).  \n",
        " \n",
        "**Factor de potencia**  es una medida de la eficiencia o rendimiento eléctrico de un receptor o sistema eléctrico. Los receptores eléctricos transforman la energía eléctrica en otro tipo de energía, por ejemplo en energía luminosa (una lámpara), calorífica (un radiador o una plancha), motriz o mecánica (un motor) o sonora (un timbre). El problema es que en estos receptores toda la energía eléctrica que consumen, la mayoría de las veces, no se transforma por completo en energía útil (luz, calor, etc.)\n",
        "\n",
        "El valor del factor de potencia es determinado por el tipo de\n",
        "cargas conectadas en una instalación. De acuerdo a su definición el\n",
        "factor de potencia es adimensional y puede tomar valores entre 0 y 1 \n",
        "\n",
        "\n",
        "Se puede **calcularse el THD desde la FFT**  \n",
        "Primero se debe tener en cuenta la seria de fourier trigonometrica la cual.\n",
        "\n",
        "$$f(t)=\\frac{a_0}{2}+\\sum_{n=1}^{oo}C_nsen(nwt+\\phi_n)\n",
        "\\\\ donde\n",
        "\\\\C_n= \\sqrt{a_n+b_n}\n",
        "\\\\ \\phi_n=tan^{-1}\\left(\\frac{a_n}{b_n}\\right)\n",
        "\\\\ con\\ a_n\\ y\\ b_n\n",
        "\\\\ a_n=\\frac{2}{T}\\int_{0}^{T}f(t)cos(nwt)dt\n",
        "\\\\ b_n=\\frac{2}{T}\\int_{0}^{T}f(t)sen(nwt)dt$$\n",
        "La distorcion del armónico n-ésimo se define como:\n",
        "$$D_n=\\frac{C_n}{c_1}$$\n",
        "y la Distorsión Armónica Total (THD)\n",
        "$$THD=\\sqrt{D_2^2+D_3^2+D_4^2.....}$$\n",
        "\n",
        "\n",
        "El **Factor de Potencia en función de la THD**, para fuente sinusoidal y carga no lineal, viene dado por:    \n",
        "$$PF=\\frac{I_{1RMS}}{\\sqrt{I_{med}^2+I_{1RMS}^2(1+(THD)^2)}}cos\\phi_1$$\n",
        " \n"
      ]
    }
  ]
}